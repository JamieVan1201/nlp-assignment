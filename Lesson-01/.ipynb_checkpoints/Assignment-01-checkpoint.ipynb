{
 "cells": [
  {
   "cell_type": "markdown",
   "metadata": {},
   "source": [
    "### 复现课堂代码"
   ]
  },
  {
   "cell_type": "code",
   "execution_count": 103,
   "metadata": {
    "ExecuteTime": {
     "end_time": "2019-06-30T14:10:45.185197Z",
     "start_time": "2019-06-30T14:10:45.179247Z"
    }
   },
   "outputs": [],
   "source": [
    "import numpy as np\n",
    "import pandas as pd\n",
    "import jieba\n",
    "import random\n",
    "from functools import partial"
   ]
  },
  {
   "cell_type": "code",
   "execution_count": 2,
   "metadata": {
    "ExecuteTime": {
     "end_time": "2019-06-30T13:14:30.059656Z",
     "start_time": "2019-06-30T13:14:30.054669Z"
    }
   },
   "outputs": [],
   "source": [
    "simple_grammar = \"\"\"\n",
    "sentence => noun_phrase verb_phrase\n",
    "noun_phrase => Article Adj* noun\n",
    "Adj* => null | Adj Adj*\n",
    "verb_phrase => verb noun_phrase\n",
    "Article =>  一个 | 这个\n",
    "noun =>   女人 |  篮球 | 桌子 | 小猫\n",
    "verb => 看着   |  坐在 |  听着 | 看见\n",
    "Adj =>  蓝色的 | 好看的 | 小小的\n",
    "\"\"\""
   ]
  },
  {
   "cell_type": "code",
   "execution_count": 3,
   "metadata": {
    "ExecuteTime": {
     "end_time": "2019-06-30T13:14:30.075614Z",
     "start_time": "2019-06-30T13:14:30.061651Z"
    }
   },
   "outputs": [
    {
     "data": {
      "text/plain": [
       "'\\nsentence => noun_phrase verb_phrase\\nnoun_phrase => Article Adj* noun\\nAdj* => null | Adj Adj*\\nverb_phrase => verb noun_phrase\\nArticle =>  一个 | 这个\\nnoun =>   女人 |  篮球 | 桌子 | 小猫\\nverb => 看着   |  坐在 |  听着 | 看见\\nAdj =>  蓝色的 | 好看的 | 小小的\\n'"
      ]
     },
     "execution_count": 3,
     "metadata": {},
     "output_type": "execute_result"
    }
   ],
   "source": [
    "simple_grammar"
   ]
  },
  {
   "cell_type": "code",
   "execution_count": 4,
   "metadata": {
    "ExecuteTime": {
     "end_time": "2019-06-30T13:14:30.083593Z",
     "start_time": "2019-06-30T13:14:30.079602Z"
    }
   },
   "outputs": [],
   "source": [
    "def adj(): return np.random.choice(list(map(lambda s: s.strip(), '蓝色的 | 好看的 | 小小的'.split('|'))))"
   ]
  },
  {
   "cell_type": "code",
   "execution_count": 5,
   "metadata": {
    "ExecuteTime": {
     "end_time": "2019-06-30T13:14:30.093603Z",
     "start_time": "2019-06-30T13:14:30.088579Z"
    }
   },
   "outputs": [
    {
     "data": {
      "text/plain": [
       "'蓝色的'"
      ]
     },
     "execution_count": 5,
     "metadata": {},
     "output_type": "execute_result"
    }
   ],
   "source": [
    "adj()"
   ]
  },
  {
   "cell_type": "code",
   "execution_count": 6,
   "metadata": {
    "ExecuteTime": {
     "end_time": "2019-06-30T13:14:30.099585Z",
     "start_time": "2019-06-30T13:14:30.095560Z"
    }
   },
   "outputs": [],
   "source": [
    "def adj_star(): return np.random.choice([lambda : '', lambda : adj()+adj_star()])()"
   ]
  },
  {
   "cell_type": "code",
   "execution_count": 7,
   "metadata": {
    "ExecuteTime": {
     "end_time": "2019-06-30T13:14:30.109523Z",
     "start_time": "2019-06-30T13:14:30.101579Z"
    }
   },
   "outputs": [
    {
     "data": {
      "text/plain": [
       "'蓝色的'"
      ]
     },
     "execution_count": 7,
     "metadata": {},
     "output_type": "execute_result"
    }
   ],
   "source": [
    "adj_star()"
   ]
  },
  {
   "cell_type": "code",
   "execution_count": 8,
   "metadata": {
    "ExecuteTime": {
     "end_time": "2019-06-30T13:14:30.117504Z",
     "start_time": "2019-06-30T13:14:30.111519Z"
    }
   },
   "outputs": [
    {
     "data": {
      "text/plain": [
       "['蓝色的', '好看的', '小小的']"
      ]
     },
     "execution_count": 8,
     "metadata": {},
     "output_type": "execute_result"
    }
   ],
   "source": [
    "list(map(lambda s: s.strip(), '蓝色的 | 好看的 | 小小的'.split('|')))"
   ]
  },
  {
   "cell_type": "code",
   "execution_count": 9,
   "metadata": {
    "ExecuteTime": {
     "end_time": "2019-06-30T13:14:30.124483Z",
     "start_time": "2019-06-30T13:14:30.120494Z"
    }
   },
   "outputs": [],
   "source": [
    "adj_grammar = \"\"\"\n",
    "Adj* => null | Adj Adj*\n",
    "Adj =>  蓝色的 | 好看的 | 小小的\n",
    "\"\"\""
   ]
  },
  {
   "cell_type": "code",
   "execution_count": 10,
   "metadata": {
    "ExecuteTime": {
     "end_time": "2019-06-30T13:14:30.130478Z",
     "start_time": "2019-06-30T13:14:30.125480Z"
    }
   },
   "outputs": [],
   "source": [
    "def create_grammar(grammar_str, split_='=>', line_split='\\n'):\n",
    "    grammar = {}\n",
    "    for line in grammar_str.split(line_split):\n",
    "        if not line.strip(): continue\n",
    "        k, v = line.split(split_)\n",
    "        grammar[k.strip()] = [s.split() for s in v.split('|')]\n",
    "    return grammar"
   ]
  },
  {
   "cell_type": "code",
   "execution_count": 11,
   "metadata": {
    "ExecuteTime": {
     "end_time": "2019-06-30T13:14:30.141439Z",
     "start_time": "2019-06-30T13:14:30.133462Z"
    }
   },
   "outputs": [
    {
     "data": {
      "text/plain": [
       "{'Adj*': [['null'], ['Adj', 'Adj*']], 'Adj': [['蓝色的'], ['好看的'], ['小小的']]}"
      ]
     },
     "execution_count": 11,
     "metadata": {},
     "output_type": "execute_result"
    }
   ],
   "source": [
    "create_grammar(adj_grammar)"
   ]
  },
  {
   "cell_type": "code",
   "execution_count": 12,
   "metadata": {
    "ExecuteTime": {
     "end_time": "2019-06-30T13:14:30.147431Z",
     "start_time": "2019-06-30T13:14:30.142435Z"
    }
   },
   "outputs": [],
   "source": [
    "def generate(gram, target):\n",
    "    if target not in gram: return target\n",
    "    expanded = [generate(gram, t) for t in random.choice(gram[target])]\n",
    "    return ''.join(s for s in expanded if s != 'null')"
   ]
  },
  {
   "cell_type": "code",
   "execution_count": 13,
   "metadata": {
    "ExecuteTime": {
     "end_time": "2019-06-30T13:14:30.157394Z",
     "start_time": "2019-06-30T13:14:30.149417Z"
    }
   },
   "outputs": [
    {
     "data": {
      "text/plain": [
       "{'sentence': [['noun_phrase', 'verb_phrase']],\n",
       " 'noun_phrase': [['Article', 'Adj*', 'noun']],\n",
       " 'Adj*': [['null'], ['Adj', 'Adj*']],\n",
       " 'verb_phrase': [['verb', 'noun_phrase']],\n",
       " 'Article': [['一个'], ['这个']],\n",
       " 'noun': [['女人'], ['篮球'], ['桌子'], ['小猫']],\n",
       " 'verb': [['看着'], ['坐在'], ['听着'], ['看见']],\n",
       " 'Adj': [['蓝色的'], ['好看的'], ['小小的']]}"
      ]
     },
     "execution_count": 13,
     "metadata": {},
     "output_type": "execute_result"
    }
   ],
   "source": [
    "example_grammar = create_grammar(simple_grammar)\n",
    "example_grammar"
   ]
  },
  {
   "cell_type": "code",
   "execution_count": 14,
   "metadata": {
    "ExecuteTime": {
     "end_time": "2019-06-30T13:14:30.164376Z",
     "start_time": "2019-06-30T13:14:30.158392Z"
    }
   },
   "outputs": [
    {
     "data": {
      "text/plain": [
       "'一个篮球看着一个蓝色的蓝色的小猫'"
      ]
     },
     "execution_count": 14,
     "metadata": {},
     "output_type": "execute_result"
    }
   ],
   "source": [
    "generate(example_grammar, 'sentence')"
   ]
  },
  {
   "cell_type": "code",
   "execution_count": 15,
   "metadata": {
    "ExecuteTime": {
     "end_time": "2019-06-30T13:14:30.171359Z",
     "start_time": "2019-06-30T13:14:30.166371Z"
    }
   },
   "outputs": [],
   "source": [
    "from collections import Counter"
   ]
  },
  {
   "cell_type": "code",
   "execution_count": 16,
   "metadata": {
    "ExecuteTime": {
     "end_time": "2019-06-30T13:14:30.748642Z",
     "start_time": "2019-06-30T13:14:30.173353Z"
    }
   },
   "outputs": [],
   "source": [
    "with open('article_9k.txt', 'r') as f:\n",
    "    articles = list(map(lambda s: s.strip('\\n'), f.readlines()))"
   ]
  },
  {
   "cell_type": "code",
   "execution_count": 17,
   "metadata": {
    "ExecuteTime": {
     "end_time": "2019-06-30T13:14:30.754420Z",
     "start_time": "2019-06-30T13:14:30.750390Z"
    }
   },
   "outputs": [
    {
     "data": {
      "text/plain": [
       "['此外自本周6月12日起除小米手机6等15款机型外其余机型已暂停更新发布含开发版体验版内测稳定版暂不受影响以确保工程师可以集中全部精力进行系统优化工作有人猜测这也是将精力主要用到MIUI9的研发之中MIUI8去年5月发布距今已有一年有余也是时候更新换代了当然关于MIUI9的确切信息我们还是等待官方消息',\n",
       " '骁龙835作为唯一通过Windows10桌面平台认证的ARM处理器高通强调不会因为只考虑性能而去屏蔽掉小核心相反他们正联手微软找到一种适合桌面平台的兼顾性能和功耗的完美方案报道称微软已经拿到了一些新的源码以便Windows10更好地理解biglittle架构资料显示骁龙835作为一款集成了CPUGPU基带蓝牙WiFi的SoC比传统的Wintel方案可以节省至少30的PCB空间按计划今年Q4华硕惠普联想将首发骁龙835Win10电脑预计均是二合一形态的产品当然高通骁龙只是个开始未来也许还能见到三星Exynos联发科华为麒麟小米澎湃等进入Windows10桌面平台']"
      ]
     },
     "execution_count": 17,
     "metadata": {},
     "output_type": "execute_result"
    }
   ],
   "source": [
    "articles[:2]"
   ]
  },
  {
   "cell_type": "code",
   "execution_count": 18,
   "metadata": {
    "ExecuteTime": {
     "end_time": "2019-06-30T13:14:31.567254Z",
     "start_time": "2019-06-30T13:14:30.755526Z"
    }
   },
   "outputs": [
    {
     "name": "stderr",
     "output_type": "stream",
     "text": [
      "Building prefix dict from the default dictionary ...\n",
      "Loading model from cache C:\\Users\\xxx\\AppData\\Local\\Temp\\jieba.cache\n",
      "Loading model cost 0.789 seconds.\n",
      "Prefix dict has been built succesfully.\n"
     ]
    }
   ],
   "source": [
    "with_jieba_cut = Counter(jieba.cut(articles[1]))"
   ]
  },
  {
   "cell_type": "code",
   "execution_count": 19,
   "metadata": {
    "ExecuteTime": {
     "end_time": "2019-06-30T13:14:31.575231Z",
     "start_time": "2019-06-30T13:14:31.568249Z"
    }
   },
   "outputs": [
    {
     "data": {
      "text/plain": [
       "Counter({'骁龙': 4,\n",
       "         '835': 2,\n",
       "         '作为': 2,\n",
       "         '唯一': 1,\n",
       "         '通过': 1,\n",
       "         'Windows10': 3,\n",
       "         '桌面': 3,\n",
       "         '平台': 3,\n",
       "         '认证': 1,\n",
       "         '的': 8,\n",
       "         'ARM': 1,\n",
       "         '处理器': 1,\n",
       "         '高通': 2,\n",
       "         '强调': 1,\n",
       "         '不会': 1,\n",
       "         '因为': 1,\n",
       "         '只': 1,\n",
       "         '考虑': 1,\n",
       "         '性能': 2,\n",
       "         '而': 1,\n",
       "         '去': 1,\n",
       "         '屏蔽掉': 1,\n",
       "         '小': 1,\n",
       "         '核心': 1,\n",
       "         '相反': 1,\n",
       "         '他们': 1,\n",
       "         '正': 1,\n",
       "         '联手': 1,\n",
       "         '微软': 2,\n",
       "         '找到': 1,\n",
       "         '一种': 1,\n",
       "         '适合': 1,\n",
       "         '兼顾': 1,\n",
       "         '和': 1,\n",
       "         '功耗': 1,\n",
       "         '完美': 1,\n",
       "         '方案': 2,\n",
       "         '报道': 1,\n",
       "         '称': 1,\n",
       "         '已经': 1,\n",
       "         '拿到': 1,\n",
       "         '了': 2,\n",
       "         '一些': 1,\n",
       "         '新': 1,\n",
       "         '源码': 1,\n",
       "         '以便': 1,\n",
       "         '更好': 1,\n",
       "         '地': 1,\n",
       "         '理解': 1,\n",
       "         'biglittle': 1,\n",
       "         '架构': 1,\n",
       "         '资料': 1,\n",
       "         '显示': 1,\n",
       "         '一款': 1,\n",
       "         '集成': 1,\n",
       "         'CPUGPU': 1,\n",
       "         '基带': 1,\n",
       "         '蓝牙': 1,\n",
       "         'WiFi': 1,\n",
       "         'SoC': 1,\n",
       "         '比': 1,\n",
       "         '传统': 1,\n",
       "         'Wintel': 1,\n",
       "         '可以': 1,\n",
       "         '节省': 1,\n",
       "         '至少': 1,\n",
       "         '30': 1,\n",
       "         'PCB': 1,\n",
       "         '空间': 1,\n",
       "         '按计划': 1,\n",
       "         '今年': 1,\n",
       "         'Q4': 1,\n",
       "         '华硕': 1,\n",
       "         '惠普': 1,\n",
       "         '联想': 1,\n",
       "         '将': 1,\n",
       "         '首发': 1,\n",
       "         '835Win10': 1,\n",
       "         '电脑': 1,\n",
       "         '预计': 1,\n",
       "         '均': 1,\n",
       "         '是': 1,\n",
       "         '二合一': 1,\n",
       "         '形态': 1,\n",
       "         '产品': 1,\n",
       "         '当然': 1,\n",
       "         '只是': 1,\n",
       "         '个': 1,\n",
       "         '开始': 1,\n",
       "         '未来': 1,\n",
       "         '也许': 1,\n",
       "         '还': 1,\n",
       "         '能': 1,\n",
       "         '见到': 1,\n",
       "         '三星': 1,\n",
       "         'Exynos': 1,\n",
       "         '联发科': 1,\n",
       "         '华为': 1,\n",
       "         '麒麟': 1,\n",
       "         '小米': 1,\n",
       "         '澎湃': 1,\n",
       "         '等': 1,\n",
       "         '进入': 1})"
      ]
     },
     "execution_count": 19,
     "metadata": {},
     "output_type": "execute_result"
    }
   ],
   "source": [
    "with_jieba_cut"
   ]
  },
  {
   "cell_type": "code",
   "execution_count": 20,
   "metadata": {
    "ExecuteTime": {
     "end_time": "2019-06-30T13:14:31.588195Z",
     "start_time": "2019-06-30T13:14:31.578224Z"
    }
   },
   "outputs": [
    {
     "data": {
      "text/plain": [
       "'骁龙835作为唯一通过Windows10桌面平台认证的ARM处理器高通强调不会因为只考虑性能而去屏蔽掉小核心相反他们正联手微软找到一种适合桌面平台的兼顾性能和功耗的完美方案报道称微软已经拿到了一些新的源码以便Windows10更好地理解biglittle架构资料显示骁龙835作为一款集成了CPUGPU基带蓝牙WiFi的SoC比传统的Wintel方案可以节省至少30的PCB空间按计划今年Q4华硕惠普联想将首发骁龙835Win10电脑预计均是二合一形态的产品当然高通骁龙只是个开始未来也许还能见到三星Exynos联发科华为麒麟小米澎湃等进入Windows10桌面平台'"
      ]
     },
     "execution_count": 20,
     "metadata": {},
     "output_type": "execute_result"
    }
   ],
   "source": [
    "articles[1]"
   ]
  },
  {
   "cell_type": "code",
   "execution_count": 21,
   "metadata": {
    "ExecuteTime": {
     "end_time": "2019-06-30T13:14:31.594191Z",
     "start_time": "2019-06-30T13:14:31.590190Z"
    }
   },
   "outputs": [],
   "source": [
    "def cut(string): return list(jieba.cut(string))"
   ]
  },
  {
   "cell_type": "code",
   "execution_count": 22,
   "metadata": {
    "ExecuteTime": {
     "end_time": "2019-06-30T13:15:06.382721Z",
     "start_time": "2019-06-30T13:14:31.606149Z"
    }
   },
   "outputs": [],
   "source": [
    "token = []\n",
    "for sentence in articles[:10000]:\n",
    "    token += cut(sentence)"
   ]
  },
  {
   "cell_type": "code",
   "execution_count": 23,
   "metadata": {
    "ExecuteTime": {
     "end_time": "2019-06-30T13:15:07.031004Z",
     "start_time": "2019-06-30T13:15:06.392637Z"
    }
   },
   "outputs": [],
   "source": [
    "words_count = Counter(token)"
   ]
  },
  {
   "cell_type": "code",
   "execution_count": 24,
   "metadata": {
    "ExecuteTime": {
     "end_time": "2019-06-30T13:15:07.070896Z",
     "start_time": "2019-06-30T13:15:07.032997Z"
    }
   },
   "outputs": [
    {
     "data": {
      "text/plain": [
       "[('的', 184244),\n",
       " ('在', 47370),\n",
       " ('了', 36722),\n",
       " ('和', 30809),\n",
       " ('是', 30283),\n",
       " ('月', 18711),\n",
       " ('也', 15995),\n",
       " ('年', 15971),\n",
       " ('有', 14714),\n",
       " ('为', 14448),\n",
       " ('等', 14340),\n",
       " ('将', 14060),\n",
       " ('对', 13074),\n",
       " ('与', 12568),\n",
       " ('日', 12322),\n",
       " ('中', 11117),\n",
       " ('中国', 11036),\n",
       " ('6', 10477),\n",
       " ('上', 10192),\n",
       " ('不', 10027),\n",
       " ('他', 9530),\n",
       " ('都', 9447),\n",
       " ('发展', 8795),\n",
       " ('企业', 8584),\n",
       " ('就', 8537),\n",
       " ('到', 8338),\n",
       " ('市场', 8095),\n",
       " ('但', 7729),\n",
       " ('这', 7658),\n",
       " ('被', 7575),\n",
       " ('从', 7513),\n",
       " ('并', 7412),\n",
       " ('人', 7339),\n",
       " ('后', 7084),\n",
       " ('公司', 6915),\n",
       " ('一个', 6772),\n",
       " ('说', 6703),\n",
       " ('新', 6467),\n",
       " ('表示', 6309),\n",
       " ('要', 6276),\n",
       " ('还', 6245),\n",
       " ('会', 6179),\n",
       " ('个', 6176),\n",
       " ('我', 6141),\n",
       " ('而', 6090),\n",
       " ('进行', 5802),\n",
       " ('我们', 5742),\n",
       " ('记者', 5734),\n",
       " ('以', 5615),\n",
       " ('5', 5569),\n",
       " ('工作', 5135),\n",
       " ('没有', 5000),\n",
       " ('美国', 4840),\n",
       " ('下', 4741),\n",
       " ('更', 4739),\n",
       " ('通过', 4720),\n",
       " ('大', 4704),\n",
       " ('让', 4701),\n",
       " ('可以', 4681),\n",
       " ('经济', 4670),\n",
       " ('时', 4654),\n",
       " ('目前', 4645),\n",
       " ('国家', 4628),\n",
       " ('项目', 4538),\n",
       " ('问题', 4422),\n",
       " ('创新', 4416),\n",
       " ('多', 4410),\n",
       " ('已经', 4391),\n",
       " ('建设', 4373),\n",
       " ('其', 4224),\n",
       " ('自己', 4119),\n",
       " ('投资', 4064),\n",
       " ('已', 4026),\n",
       " ('3', 4008),\n",
       " ('城市', 3921),\n",
       " ('服务', 3842),\n",
       " ('报道', 3818),\n",
       " ('亿元', 3813),\n",
       " ('及', 3812),\n",
       " ('1', 3793),\n",
       " ('成为', 3684),\n",
       " ('相关', 3646),\n",
       " ('向', 3603),\n",
       " ('可能', 3595),\n",
       " ('他们', 3560),\n",
       " ('以及', 3475),\n",
       " ('或', 3447),\n",
       " ('今年', 3426),\n",
       " ('地', 3411),\n",
       " ('其中', 3408),\n",
       " ('于', 3371),\n",
       " ('她', 3349),\n",
       " ('能', 3343),\n",
       " ('10', 3330),\n",
       " ('着', 3327),\n",
       " ('2016', 3310),\n",
       " ('认为', 3295),\n",
       " ('20', 3282),\n",
       " ('称', 3271),\n",
       " ('把', 3257)]"
      ]
     },
     "execution_count": 24,
     "metadata": {},
     "output_type": "execute_result"
    }
   ],
   "source": [
    "words_count.most_common(100)"
   ]
  },
  {
   "cell_type": "code",
   "execution_count": 91,
   "metadata": {
    "ExecuteTime": {
     "end_time": "2019-06-30T13:56:35.233301Z",
     "start_time": "2019-06-30T13:56:35.228314Z"
    }
   },
   "outputs": [],
   "source": [
    "def prob_1(word, gram_1): return gram_1[word] / sum(gram_1.values())"
   ]
  },
  {
   "cell_type": "code",
   "execution_count": 93,
   "metadata": {
    "ExecuteTime": {
     "end_time": "2019-06-30T13:57:00.308442Z",
     "start_time": "2019-06-30T13:57:00.298510Z"
    }
   },
   "outputs": [
    {
     "data": {
      "text/plain": [
       "0.0015587203508559526"
      ]
     },
     "execution_count": 93,
     "metadata": {},
     "output_type": "execute_result"
    }
   ],
   "source": [
    "prob_1('我们', words_count)"
   ]
  },
  {
   "cell_type": "code",
   "execution_count": 27,
   "metadata": {
    "ExecuteTime": {
     "end_time": "2019-06-30T13:15:07.089845Z",
     "start_time": "2019-06-30T13:15:07.083860Z"
    }
   },
   "outputs": [
    {
     "data": {
      "text/plain": [
       "['此外', '自', '本周', '6', '月', '12', '日起', '除', '小米', '手机']"
      ]
     },
     "execution_count": 27,
     "metadata": {},
     "output_type": "execute_result"
    }
   ],
   "source": [
    "token[:10]"
   ]
  },
  {
   "cell_type": "code",
   "execution_count": 28,
   "metadata": {
    "ExecuteTime": {
     "end_time": "2019-06-30T13:15:07.926675Z",
     "start_time": "2019-06-30T13:15:07.091840Z"
    }
   },
   "outputs": [],
   "source": [
    "token_2_gram = [token[i]+token[i+1] for i in range(len(token)-1)]"
   ]
  },
  {
   "cell_type": "code",
   "execution_count": 29,
   "metadata": {
    "ExecuteTime": {
     "end_time": "2019-06-30T13:15:07.932594Z",
     "start_time": "2019-06-30T13:15:07.928603Z"
    }
   },
   "outputs": [
    {
     "data": {
      "text/plain": [
       "['此外自', '自本周', '本周6', '6月', '月12', '12日起', '日起除', '除小米', '小米手机', '手机6']"
      ]
     },
     "execution_count": 29,
     "metadata": {},
     "output_type": "execute_result"
    }
   ],
   "source": [
    "token_2_gram[:10]"
   ]
  },
  {
   "cell_type": "code",
   "execution_count": 30,
   "metadata": {
    "ExecuteTime": {
     "end_time": "2019-06-30T13:15:09.249196Z",
     "start_time": "2019-06-30T13:15:07.934588Z"
    }
   },
   "outputs": [
    {
     "data": {
      "text/plain": [
       "[('6月', 8502),\n",
       " ('2016年', 2773),\n",
       " ('2017年', 2496),\n",
       " ('的是', 2250),\n",
       " ('5月', 2111),\n",
       " ('也是', 2054),\n",
       " ('nannan', 1740),\n",
       " ('都是', 1590),\n",
       " ('自己的', 1496),\n",
       " ('更多', 1490)]"
      ]
     },
     "execution_count": 30,
     "metadata": {},
     "output_type": "execute_result"
    }
   ],
   "source": [
    "words_count_2 = Counter(token_2_gram)\n",
    "words_count_2.most_common(10)"
   ]
  },
  {
   "cell_type": "code",
   "execution_count": 94,
   "metadata": {
    "ExecuteTime": {
     "end_time": "2019-06-30T13:57:44.546249Z",
     "start_time": "2019-06-30T13:57:44.541262Z"
    }
   },
   "outputs": [],
   "source": [
    "def prob_2(word1, word2, gram_2):\n",
    "    if word1 + word2 in gram_2: \n",
    "        return gram_2[word1+word2] / sum(gram_2.values())\n",
    "    else:\n",
    "        return 1 / len(gram_2.values())"
   ]
  },
  {
   "cell_type": "code",
   "execution_count": 109,
   "metadata": {
    "ExecuteTime": {
     "end_time": "2019-06-30T14:13:15.566062Z",
     "start_time": "2019-06-30T14:13:15.539170Z"
    }
   },
   "outputs": [
    {
     "data": {
      "text/plain": [
       "2.7145955659796026e-07"
      ]
     },
     "execution_count": 109,
     "metadata": {},
     "output_type": "execute_result"
    }
   ],
   "source": [
    "prob_2('在', '吃饭', words_count_2)"
   ]
  },
  {
   "cell_type": "code",
   "execution_count": 110,
   "metadata": {
    "ExecuteTime": {
     "end_time": "2019-06-30T14:13:25.843273Z",
     "start_time": "2019-06-30T14:13:25.823284Z"
    }
   },
   "outputs": [
    {
     "data": {
      "text/plain": [
       "4.696250329144712e-05"
      ]
     },
     "execution_count": 110,
     "metadata": {},
     "output_type": "execute_result"
    }
   ],
   "source": [
    "prob_2('我们', '在', words_count_2)"
   ]
  },
  {
   "cell_type": "code",
   "execution_count": 116,
   "metadata": {
    "ExecuteTime": {
     "end_time": "2019-06-30T14:17:18.911098Z",
     "start_time": "2019-06-30T14:17:18.905114Z"
    }
   },
   "outputs": [],
   "source": [
    "def get_probability(sentence, words_count=words_count_2):\n",
    "    words = cut(sentence)\n",
    "    \n",
    "    p = 1\n",
    "    for i in range(len(words)-1):\n",
    "        p *= prob_2(words[i], words[i+1], words_count)\n",
    "    return p"
   ]
  },
  {
   "cell_type": "code",
   "execution_count": 117,
   "metadata": {
    "ExecuteTime": {
     "end_time": "2019-06-30T14:17:29.406996Z",
     "start_time": "2019-06-30T14:17:29.380064Z"
    }
   },
   "outputs": [
    {
     "data": {
      "text/plain": [
       "3.612475783065937e-37"
      ]
     },
     "execution_count": 117,
     "metadata": {},
     "output_type": "execute_result"
    }
   ],
   "source": [
    "get_probability('小明今天抽奖抽到一台苹果手机', words_count_2)"
   ]
  },
  {
   "cell_type": "code",
   "execution_count": 113,
   "metadata": {
    "ExecuteTime": {
     "end_time": "2019-06-30T14:14:02.880351Z",
     "start_time": "2019-06-30T14:14:02.851429Z"
    }
   },
   "outputs": [
    {
     "data": {
      "text/plain": [
       "2.2577973644162107e-38"
      ]
     },
     "execution_count": 113,
     "metadata": {},
     "output_type": "execute_result"
    }
   ],
   "source": [
    "get_probability('小明今天抽奖抽到一架波音飞机', words_count_2)"
   ]
  },
  {
   "cell_type": "code",
   "execution_count": 37,
   "metadata": {
    "ExecuteTime": {
     "end_time": "2019-06-30T13:15:09.391813Z",
     "start_time": "2019-06-30T13:15:09.383835Z"
    }
   },
   "outputs": [
    {
     "data": {
      "text/plain": [
       "2.000393368470005e-20"
      ]
     },
     "execution_count": 37,
     "metadata": {},
     "output_type": "execute_result"
    }
   ],
   "source": [
    "get_probability('洋葱奶昔来一杯', words_count_2)"
   ]
  },
  {
   "cell_type": "code",
   "execution_count": 114,
   "metadata": {
    "ExecuteTime": {
     "end_time": "2019-06-30T14:14:23.963900Z",
     "start_time": "2019-06-30T14:14:23.378436Z"
    }
   },
   "outputs": [
    {
     "name": "stdout",
     "output_type": "stream",
     "text": [
      "sentence: 这个好看的小猫看见一个篮球 with prob: 9.897510764937688e-38\n",
      "sentence: 一个蓝色的小猫听着这个桌子 with prob: 8.2068729537664e-43\n",
      "sentence: 这个桌子坐在一个小猫 with prob: 1.3676780000708865e-25\n",
      "sentence: 这个好看的好看的桌子看着这个女人 with prob: 2.8650228880476293e-49\n",
      "sentence: 这个好看的女人听着一个好看的小猫 with prob: 8.715878316636085e-53\n",
      "sentence: 一个蓝色的小小的蓝色的好看的好看的桌子坐在这个小小的小小的小猫 with prob: 2.809559122806049e-92\n",
      "sentence: 这个小小的蓝色的桌子看见一个好看的小猫 with prob: 1.4193261263018874e-55\n",
      "sentence: 一个小猫看着这个女人 with prob: 1.0900895908562276e-25\n",
      "sentence: 一个篮球听着这个好看的篮球 with prob: 1.0156005280285918e-41\n",
      "sentence: 这个桌子看着一个小猫 with prob: 1.3676780000708865e-25\n"
     ]
    }
   ],
   "source": [
    "for sen in [generate(gram=example_grammar, target='sentence') for _ in range(10)]:\n",
    "    print('sentence: {} with prob: {}'.format(sen, get_probability(sen, words_count_2)))"
   ]
  },
  {
   "cell_type": "code",
   "execution_count": 118,
   "metadata": {
    "ExecuteTime": {
     "end_time": "2019-06-30T14:17:54.728245Z",
     "start_time": "2019-06-30T14:17:54.461452Z"
    }
   },
   "outputs": [
    {
     "name": "stdout",
     "output_type": "stream",
     "text": [
      "今天晚上请你吃大餐，我们一起吃日料 is more possible\n",
      "----今天晚上请你吃大餐，我们一起吃日料 with probability 9.886806225389095e-61\n",
      "----明天晚上请你吃大餐，我们一起吃苹果 with probability 9.886806225389093e-61\n",
      "真是一只好看的小猫 is more possible\n",
      "----真事一只好看的小猫 with probability 1.8230175590384903e-31\n",
      "----真是一只好看的小猫 with probability 2.997746374854626e-25\n",
      "今晚我去吃火锅 is more possible\n",
      "----今晚我去吃火锅 with probability 4.216444190595275e-18\n",
      "----今晚火锅去吃我 with probability 9.810806317706048e-25\n",
      "养乐多绿来一杯 is more possible\n",
      "----洋葱奶昔来一杯 with probability 2.248991923502565e-19\n",
      "----养乐多绿来一杯 with probability 3.698213082112612e-13\n"
     ]
    }
   ],
   "source": [
    "need_compared = [\n",
    "    \"今天晚上请你吃大餐，我们一起吃日料 明天晚上请你吃大餐，我们一起吃苹果\",\n",
    "    \"真事一只好看的小猫 真是一只好看的小猫\",\n",
    "    \"今晚我去吃火锅 今晚火锅去吃我\",\n",
    "    \"洋葱奶昔来一杯 养乐多绿来一杯\"\n",
    "]\n",
    "for s in need_compared:\n",
    "    s1, s2 = s.split()\n",
    "    p1, p2 = map(get_probability, [s1, s2])\n",
    "    \n",
    "    better = s1 if p1 > p2 else s2\n",
    "    print('{} is more possible'.format(better))\n",
    "    print('-'*4+'{} with probability {}'.format(s1, p1))\n",
    "    print('-'*4+'{} with probability {}'.format(s2, p2))"
   ]
  },
  {
   "cell_type": "markdown",
   "metadata": {},
   "source": [
    "### 问答和编程练习"
   ]
  },
  {
   "cell_type": "markdown",
   "metadata": {},
   "source": [
    "#### 基础理论部分"
   ]
  },
  {
   "cell_type": "markdown",
   "metadata": {},
   "source": [
    "#### 编程实践部分"
   ]
  },
  {
   "cell_type": "markdown",
   "metadata": {},
   "source": [
    "##### 设计自己的句子生成器"
   ]
  },
  {
   "cell_type": "code",
   "execution_count": 40,
   "metadata": {
    "ExecuteTime": {
     "end_time": "2019-06-30T13:15:09.491547Z",
     "start_time": "2019-06-30T13:15:09.484565Z"
    }
   },
   "outputs": [],
   "source": [
    "def generate_n(grammar, target, n):\n",
    "    res = []\n",
    "    for _ in range(n):\n",
    "        res.append(generate(grammar, target))\n",
    "    return res"
   ]
  },
  {
   "cell_type": "code",
   "execution_count": 41,
   "metadata": {
    "ExecuteTime": {
     "end_time": "2019-06-30T13:15:09.499686Z",
     "start_time": "2019-06-30T13:15:09.493542Z"
    }
   },
   "outputs": [],
   "source": [
    "singer = \"\"\"\n",
    "singer = 姓名 程度副词* 擅长 特点\n",
    "姓名 = 华晨宇 | 毛不易\n",
    "程度副词* = null | 程度副词 程度副词*\n",
    "程度副词 = 很 | 非常 | 特别 | 极其\n",
    "擅长 = 喜欢 | 善于 | 擅长\n",
    "特点 = 作词 | 作曲 | 喝酒 | 怼人\n",
    "\"\"\""
   ]
  },
  {
   "cell_type": "code",
   "execution_count": 42,
   "metadata": {
    "ExecuteTime": {
     "end_time": "2019-06-30T13:15:09.508718Z",
     "start_time": "2019-06-30T13:15:09.501520Z"
    }
   },
   "outputs": [
    {
     "data": {
      "text/plain": [
       "{'singer': [['姓名', '程度副词*', '擅长', '特点']],\n",
       " '姓名': [['华晨宇'], ['毛不易']],\n",
       " '程度副词*': [['null'], ['程度副词', '程度副词*']],\n",
       " '程度副词': [['很'], ['非常'], ['特别'], ['极其']],\n",
       " '擅长': [['喜欢'], ['善于'], ['擅长']],\n",
       " '特点': [['作词'], ['作曲'], ['喝酒'], ['怼人']]}"
      ]
     },
     "execution_count": 42,
     "metadata": {},
     "output_type": "execute_result"
    }
   ],
   "source": [
    "singer_grammar = create_grammar(singer, split_='=')\n",
    "singer_grammar"
   ]
  },
  {
   "cell_type": "code",
   "execution_count": 43,
   "metadata": {
    "ExecuteTime": {
     "end_time": "2019-06-30T13:15:09.516695Z",
     "start_time": "2019-06-30T13:15:09.510716Z"
    }
   },
   "outputs": [
    {
     "data": {
      "text/plain": [
       "'华晨宇极其极其极其极其非常很特别喜欢作曲'"
      ]
     },
     "execution_count": 43,
     "metadata": {},
     "output_type": "execute_result"
    }
   ],
   "source": [
    "generate(singer_grammar, 'singer')"
   ]
  },
  {
   "cell_type": "code",
   "execution_count": 44,
   "metadata": {
    "ExecuteTime": {
     "end_time": "2019-06-30T13:15:09.523677Z",
     "start_time": "2019-06-30T13:15:09.517693Z"
    }
   },
   "outputs": [
    {
     "data": {
      "text/plain": [
       "['华晨宇非常喜欢作词',\n",
       " '华晨宇非常喜欢作词',\n",
       " '华晨宇非常喜欢作曲',\n",
       " '毛不易极其极其很非常非常喜欢作词',\n",
       " '华晨宇善于怼人',\n",
       " '华晨宇喜欢怼人']"
      ]
     },
     "execution_count": 44,
     "metadata": {},
     "output_type": "execute_result"
    }
   ],
   "source": [
    "generate_n(singer_grammar, 'singer', 6)"
   ]
  },
  {
   "cell_type": "code",
   "execution_count": 48,
   "metadata": {
    "ExecuteTime": {
     "end_time": "2019-06-30T13:16:55.292903Z",
     "start_time": "2019-06-30T13:16:55.288915Z"
    }
   },
   "outputs": [],
   "source": [
    "self_introduction = \"\"\"\n",
    "self_introduction = 礼貌称呼 报姓名 来处 主修 喜欢 具体爱好*\n",
    "礼貌称呼 = null | 您好， | 你们好， | 老师们好，\n",
    "报姓名 = 我 动词 姓名\n",
    "动词 = 是 | 叫\n",
    "姓名 = xhp， | bxf，\n",
    "来处 = 来自 学校\n",
    "学校 = 同济大学， | 华东师范大学， | 中南大学，\n",
    "主修 = null | 专业是 专业\n",
    "专业 = 植物学， | 采矿工程， | 土木工程，\n",
    "喜欢 = 喜欢 | 擅长 | 善于\n",
    "具体爱好* = 具体爱好 | 具体爱好*\n",
    "具体爱好 = 听歌 | 码代码 | 弹钢琴 | 画画 | 跑步 \n",
    "\"\"\""
   ]
  },
  {
   "cell_type": "code",
   "execution_count": 49,
   "metadata": {
    "ExecuteTime": {
     "end_time": "2019-06-30T13:17:00.472662Z",
     "start_time": "2019-06-30T13:17:00.466680Z"
    }
   },
   "outputs": [
    {
     "data": {
      "text/plain": [
       "{'self_introduction': [['礼貌称呼', '报姓名', '来处', '主修', '喜欢', '具体爱好*']],\n",
       " '礼貌称呼': [['null'], ['您好，'], ['你们好，'], ['老师们好，']],\n",
       " '报姓名': [['我', '动词', '姓名']],\n",
       " '动词': [['是'], ['叫']],\n",
       " '姓名': [['xhp，'], ['bxf，']],\n",
       " '来处': [['来自', '学校']],\n",
       " '学校': [['同济大学，'], ['华东师范大学，'], ['中南大学，']],\n",
       " '主修': [['null'], ['专业是', '专业']],\n",
       " '专业': [['植物学，'], ['采矿工程，'], ['土木工程，']],\n",
       " '喜欢': [['喜欢'], ['擅长'], ['善于']],\n",
       " '具体爱好*': [['具体爱好'], ['具体爱好*']],\n",
       " '具体爱好': [['听歌'], ['码代码'], ['弹钢琴'], ['画画'], ['跑步']]}"
      ]
     },
     "execution_count": 49,
     "metadata": {},
     "output_type": "execute_result"
    }
   ],
   "source": [
    "self_introduction_grammar = create_grammar(self_introduction, split_='=')\n",
    "self_introduction_grammar"
   ]
  },
  {
   "cell_type": "code",
   "execution_count": 51,
   "metadata": {
    "ExecuteTime": {
     "end_time": "2019-06-30T13:17:12.096605Z",
     "start_time": "2019-06-30T13:17:12.091654Z"
    }
   },
   "outputs": [
    {
     "data": {
      "text/plain": [
       "'您好，我叫xhp，来自华东师范大学，专业是植物学，善于弹钢琴'"
      ]
     },
     "execution_count": 51,
     "metadata": {},
     "output_type": "execute_result"
    }
   ],
   "source": [
    "generate(self_introduction_grammar, 'self_introduction')"
   ]
  },
  {
   "cell_type": "code",
   "execution_count": 52,
   "metadata": {
    "ExecuteTime": {
     "end_time": "2019-06-30T13:18:14.810618Z",
     "start_time": "2019-06-30T13:18:14.804635Z"
    }
   },
   "outputs": [
    {
     "data": {
      "text/plain": [
       "['你们好，我叫bxf，来自同济大学，专业是采矿工程，擅长跑步',\n",
       " '老师们好，我叫xhp，来自华东师范大学，专业是土木工程，善于画画',\n",
       " '您好，我是bxf，来自华东师范大学，专业是采矿工程，善于弹钢琴',\n",
       " '你们好，我是xhp，来自华东师范大学，专业是植物学，善于画画',\n",
       " '您好，我叫bxf，来自华东师范大学，专业是植物学，善于跑步']"
      ]
     },
     "execution_count": 52,
     "metadata": {},
     "output_type": "execute_result"
    }
   ],
   "source": [
    "generate_n(self_introduction_grammar, 'self_introduction', 5)"
   ]
  },
  {
   "cell_type": "markdown",
   "metadata": {},
   "source": [
    "##### 使用新数据源完成语言模型的训练"
   ]
  },
  {
   "cell_type": "code",
   "execution_count": 57,
   "metadata": {
    "ExecuteTime": {
     "end_time": "2019-06-30T13:30:51.469314Z",
     "start_time": "2019-06-30T13:30:50.743155Z"
    }
   },
   "outputs": [
    {
     "name": "stderr",
     "output_type": "stream",
     "text": [
      "C:\\Users\\xxx\\Anaconda3\\envs\\daily\\lib\\site-packages\\IPython\\core\\interactiveshell.py:3020: DtypeWarning: Columns (0,4) have mixed types. Specify dtype option on import or set low_memory=False.\n",
      "  interactivity=interactivity, compiler=compiler, result=result)\n"
     ]
    }
   ],
   "source": [
    "movie_comments = pd.read_csv('../../datasource-master/movie_comments.csv')"
   ]
  },
  {
   "cell_type": "code",
   "execution_count": 58,
   "metadata": {
    "ExecuteTime": {
     "end_time": "2019-06-30T13:30:56.996762Z",
     "start_time": "2019-06-30T13:30:56.982798Z"
    }
   },
   "outputs": [
    {
     "data": {
      "text/html": [
       "<div>\n",
       "<style scoped>\n",
       "    .dataframe tbody tr th:only-of-type {\n",
       "        vertical-align: middle;\n",
       "    }\n",
       "\n",
       "    .dataframe tbody tr th {\n",
       "        vertical-align: top;\n",
       "    }\n",
       "\n",
       "    .dataframe thead th {\n",
       "        text-align: right;\n",
       "    }\n",
       "</style>\n",
       "<table border=\"1\" class=\"dataframe\">\n",
       "  <thead>\n",
       "    <tr style=\"text-align: right;\">\n",
       "      <th></th>\n",
       "      <th>id</th>\n",
       "      <th>link</th>\n",
       "      <th>name</th>\n",
       "      <th>comment</th>\n",
       "      <th>star</th>\n",
       "    </tr>\n",
       "  </thead>\n",
       "  <tbody>\n",
       "    <tr>\n",
       "      <th>0</th>\n",
       "      <td>1</td>\n",
       "      <td>https://movie.douban.com/subject/26363254/</td>\n",
       "      <td>战狼2</td>\n",
       "      <td>吴京意淫到了脑残的地步，看了恶心想吐</td>\n",
       "      <td>1</td>\n",
       "    </tr>\n",
       "    <tr>\n",
       "      <th>1</th>\n",
       "      <td>2</td>\n",
       "      <td>https://movie.douban.com/subject/26363254/</td>\n",
       "      <td>战狼2</td>\n",
       "      <td>首映礼看的。太恐怖了这个电影，不讲道理的，完全就是吴京在实现他这个小粉红的英雄梦。各种装备轮...</td>\n",
       "      <td>2</td>\n",
       "    </tr>\n",
       "    <tr>\n",
       "      <th>2</th>\n",
       "      <td>3</td>\n",
       "      <td>https://movie.douban.com/subject/26363254/</td>\n",
       "      <td>战狼2</td>\n",
       "      <td>吴京的炒作水平不输冯小刚，但小刚至少不会用主旋律来炒作…吴京让人看了不舒服，为了主旋律而主旋...</td>\n",
       "      <td>2</td>\n",
       "    </tr>\n",
       "    <tr>\n",
       "      <th>3</th>\n",
       "      <td>4</td>\n",
       "      <td>https://movie.douban.com/subject/26363254/</td>\n",
       "      <td>战狼2</td>\n",
       "      <td>凭良心说，好看到不像《战狼1》的续集，完虐《湄公河行动》。</td>\n",
       "      <td>4</td>\n",
       "    </tr>\n",
       "    <tr>\n",
       "      <th>4</th>\n",
       "      <td>5</td>\n",
       "      <td>https://movie.douban.com/subject/26363254/</td>\n",
       "      <td>战狼2</td>\n",
       "      <td>中二得很</td>\n",
       "      <td>1</td>\n",
       "    </tr>\n",
       "  </tbody>\n",
       "</table>\n",
       "</div>"
      ],
      "text/plain": [
       "  id                                        link name  \\\n",
       "0  1  https://movie.douban.com/subject/26363254/  战狼2   \n",
       "1  2  https://movie.douban.com/subject/26363254/  战狼2   \n",
       "2  3  https://movie.douban.com/subject/26363254/  战狼2   \n",
       "3  4  https://movie.douban.com/subject/26363254/  战狼2   \n",
       "4  5  https://movie.douban.com/subject/26363254/  战狼2   \n",
       "\n",
       "                                             comment star  \n",
       "0                                 吴京意淫到了脑残的地步，看了恶心想吐    1  \n",
       "1  首映礼看的。太恐怖了这个电影，不讲道理的，完全就是吴京在实现他这个小粉红的英雄梦。各种装备轮...    2  \n",
       "2  吴京的炒作水平不输冯小刚，但小刚至少不会用主旋律来炒作…吴京让人看了不舒服，为了主旋律而主旋...    2  \n",
       "3                      凭良心说，好看到不像《战狼1》的续集，完虐《湄公河行动》。    4  \n",
       "4                                               中二得很    1  "
      ]
     },
     "execution_count": 58,
     "metadata": {},
     "output_type": "execute_result"
    }
   ],
   "source": [
    "movie_comments.head()"
   ]
  },
  {
   "cell_type": "code",
   "execution_count": 60,
   "metadata": {
    "ExecuteTime": {
     "end_time": "2019-06-30T13:31:32.728147Z",
     "start_time": "2019-06-30T13:31:32.711220Z"
    }
   },
   "outputs": [
    {
     "data": {
      "text/plain": [
       "['吴京意淫到了脑残的地步，看了恶心想吐',\n",
       " '首映礼看的。太恐怖了这个电影，不讲道理的，完全就是吴京在实现他这个小粉红的英雄梦。各种装备轮番上场，视物理逻辑于不顾，不得不说有钱真好，随意胡闹',\n",
       " '吴京的炒作水平不输冯小刚，但小刚至少不会用主旋律来炒作…吴京让人看了不舒服，为了主旋律而主旋律，为了煽情而煽情，让人觉得他是个大做作、大谎言家。（7.29更新）片子整体不如湄公河行动，1.整体不够流畅，编剧有毒，台词尴尬；2.刻意做作的主旋律煽情显得如此不合时宜而又多余。',\n",
       " '凭良心说，好看到不像《战狼1》的续集，完虐《湄公河行动》。',\n",
       " '中二得很']"
      ]
     },
     "execution_count": 60,
     "metadata": {},
     "output_type": "execute_result"
    }
   ],
   "source": [
    "comments = movie_comments['comment'].tolist()\n",
    "comments[:5]"
   ]
  },
  {
   "cell_type": "code",
   "execution_count": 61,
   "metadata": {
    "ExecuteTime": {
     "end_time": "2019-06-30T13:33:13.005497Z",
     "start_time": "2019-06-30T13:33:12.998550Z"
    }
   },
   "outputs": [
    {
     "data": {
      "text/plain": [
       "261497"
      ]
     },
     "execution_count": 61,
     "metadata": {},
     "output_type": "execute_result"
    }
   ],
   "source": [
    "len(comments)"
   ]
  },
  {
   "cell_type": "code",
   "execution_count": 62,
   "metadata": {
    "ExecuteTime": {
     "end_time": "2019-06-30T13:33:23.312565Z",
     "start_time": "2019-06-30T13:33:23.308577Z"
    }
   },
   "outputs": [],
   "source": [
    "import re"
   ]
  },
  {
   "cell_type": "code",
   "execution_count": 82,
   "metadata": {
    "ExecuteTime": {
     "end_time": "2019-06-30T13:43:40.094052Z",
     "start_time": "2019-06-30T13:43:40.088070Z"
    }
   },
   "outputs": [],
   "source": [
    "def token(comments):\n",
    "    res = []\n",
    "    for c in comments:\n",
    "        try:\n",
    "            res.append(''.join(re.findall('\\w+', c)))\n",
    "        except TypeError:\n",
    "            print(c)\n",
    "    return ''.join(res)"
   ]
  },
  {
   "cell_type": "code",
   "execution_count": 83,
   "metadata": {
    "ExecuteTime": {
     "end_time": "2019-06-30T13:43:45.581013Z",
     "start_time": "2019-06-30T13:43:44.941580Z"
    }
   },
   "outputs": [
    {
     "name": "stdout",
     "output_type": "stream",
     "text": [
      "nan\n",
      "nan\n"
     ]
    }
   ],
   "source": [
    "tokens = token(comments)"
   ]
  },
  {
   "cell_type": "code",
   "execution_count": 85,
   "metadata": {
    "ExecuteTime": {
     "end_time": "2019-06-30T13:45:05.741816Z",
     "start_time": "2019-06-30T13:45:05.737793Z"
    },
    "scrolled": true
   },
   "outputs": [
    {
     "data": {
      "text/plain": [
       "'吴京意淫到了脑残的地步看了恶心想吐首映礼看的太恐怖了这个电影不讲道理的完全就是吴京在实现他这个小粉红的英雄梦各种装备轮番上场视物理逻辑于不顾不得不说有钱真好随意胡闹吴京的炒作水平不输冯小刚但小刚至少不'"
      ]
     },
     "execution_count": 85,
     "metadata": {},
     "output_type": "execute_result"
    }
   ],
   "source": [
    "tokens[:100]"
   ]
  },
  {
   "cell_type": "code",
   "execution_count": 89,
   "metadata": {
    "ExecuteTime": {
     "end_time": "2019-06-30T13:51:50.108890Z",
     "start_time": "2019-06-30T13:50:55.576081Z"
    }
   },
   "outputs": [],
   "source": [
    "comments_cut = list(jieba.cut(tokens))"
   ]
  },
  {
   "cell_type": "code",
   "execution_count": 87,
   "metadata": {
    "ExecuteTime": {
     "end_time": "2019-06-30T13:47:53.580225Z",
     "start_time": "2019-06-30T13:47:02.287341Z"
    }
   },
   "outputs": [],
   "source": [
    "comments_count = Counter(comments_cut)"
   ]
  },
  {
   "cell_type": "code",
   "execution_count": 88,
   "metadata": {
    "ExecuteTime": {
     "end_time": "2019-06-30T13:49:40.170304Z",
     "start_time": "2019-06-30T13:49:40.137393Z"
    }
   },
   "outputs": [
    {
     "data": {
      "text/plain": [
       "[('的', 328253),\n",
       " ('了', 102408),\n",
       " ('是', 73433),\n",
       " ('我', 50520),\n",
       " ('都', 36251),\n",
       " ('很', 34760),\n",
       " ('看', 33850),\n",
       " ('电影', 33638),\n",
       " ('也', 32064),\n",
       " ('和', 31291)]"
      ]
     },
     "execution_count": 88,
     "metadata": {},
     "output_type": "execute_result"
    }
   ],
   "source": [
    "comments_count.most_common(10)"
   ]
  },
  {
   "cell_type": "code",
   "execution_count": 90,
   "metadata": {
    "ExecuteTime": {
     "end_time": "2019-06-30T13:53:00.316373Z",
     "start_time": "2019-06-30T13:52:59.335361Z"
    }
   },
   "outputs": [
    {
     "data": {
      "text/plain": [
       "['吴京意淫', '意淫到', '到了', '了脑残', '脑残的', '的地步', '地步看', '看了', '了恶心', '恶心想']"
      ]
     },
     "execution_count": 90,
     "metadata": {},
     "output_type": "execute_result"
    }
   ],
   "source": [
    "comments_2_gram = [comments_cut[i]+comments_cut[i+1] for i in range(len(comments_cut)-1)]\n",
    "comments_2_gram[:10]"
   ]
  },
  {
   "cell_type": "code",
   "execution_count": 98,
   "metadata": {
    "ExecuteTime": {
     "end_time": "2019-06-30T13:59:33.331701Z",
     "start_time": "2019-06-30T13:59:32.083005Z"
    }
   },
   "outputs": [],
   "source": [
    "comments_2_gram_count = Counter(comments_2_gram)"
   ]
  },
  {
   "cell_type": "code",
   "execution_count": 100,
   "metadata": {
    "ExecuteTime": {
     "end_time": "2019-06-30T14:00:04.471025Z",
     "start_time": "2019-06-30T14:00:04.236572Z"
    }
   },
   "outputs": [
    {
     "data": {
      "text/plain": [
       "[('的电影', 8631),\n",
       " ('看的', 7075),\n",
       " ('都是', 6335),\n",
       " ('让人', 5278),\n",
       " ('的故事', 4707),\n",
       " ('看了', 4538),\n",
       " ('也是', 4407),\n",
       " ('的时候', 4398),\n",
       " ('的是', 4348),\n",
       " ('的人', 4344)]"
      ]
     },
     "execution_count": 100,
     "metadata": {},
     "output_type": "execute_result"
    }
   ],
   "source": [
    "comments_2_gram_count.most_common(10)"
   ]
  },
  {
   "cell_type": "code",
   "execution_count": 101,
   "metadata": {
    "ExecuteTime": {
     "end_time": "2019-06-30T14:00:14.952995Z",
     "start_time": "2019-06-30T14:00:14.928061Z"
    }
   },
   "outputs": [
    {
     "data": {
      "text/plain": [
       "0.00012458126542918915"
      ]
     },
     "execution_count": 101,
     "metadata": {},
     "output_type": "execute_result"
    }
   ],
   "source": [
    "prob_2('好', '电影', comments_2_gram_count)"
   ]
  },
  {
   "cell_type": "code",
   "execution_count": 119,
   "metadata": {
    "ExecuteTime": {
     "end_time": "2019-06-30T14:18:33.531243Z",
     "start_time": "2019-06-30T14:18:33.258962Z"
    }
   },
   "outputs": [
    {
     "name": "stdout",
     "output_type": "stream",
     "text": [
      "这个电影真好看 is more possible\n",
      "****这个电影真好看 with probability 7.845413924131364e-14\n",
      "****这个电影正好看 with probability 1.1622835443157575e-17\n",
      "晚上一起去看电影啊 is more possible\n",
      "****晚上一起去看电影啊 with probability 1.6097900116028303e-23\n",
      "****一起去看晚上的电影啊 with probability 1.1082732920029169e-27\n"
     ]
    }
   ],
   "source": [
    "comments_compare = [\n",
    "    '这个电影真好看 这个电影正好看',\n",
    "    '晚上一起去看电影啊 一起去看晚上的电影啊'\n",
    "]\n",
    "for comment in comments_compare:\n",
    "    c1, c2 = comment.split()\n",
    "    p1, p2 = map(partial(get_probability, words_count=comments_2_gram_count), [c1, c2])\n",
    "    better = c1 if p1 > p2 else p2\n",
    "    print('{} is more possible'.format(better))\n",
    "    print('*'*4 + '{} with probability {}'.format(c1, p1))\n",
    "    print('*'*4 + '{} with probability {}'.format(c2, p2))"
   ]
  },
  {
   "cell_type": "code",
   "execution_count": null,
   "metadata": {},
   "outputs": [],
   "source": []
  }
 ],
 "metadata": {
  "kernelspec": {
   "display_name": "Python 3",
   "language": "python",
   "name": "python3"
  },
  "language_info": {
   "codemirror_mode": {
    "name": "ipython",
    "version": 3
   },
   "file_extension": ".py",
   "mimetype": "text/x-python",
   "name": "python",
   "nbconvert_exporter": "python",
   "pygments_lexer": "ipython3",
   "version": "3.6.6"
  },
  "toc": {
   "base_numbering": 1,
   "nav_menu": {},
   "number_sections": true,
   "sideBar": true,
   "skip_h1_title": false,
   "title_cell": "Table of Contents",
   "title_sidebar": "Contents",
   "toc_cell": false,
   "toc_position": {},
   "toc_section_display": true,
   "toc_window_display": false
  },
  "varInspector": {
   "cols": {
    "lenName": 16,
    "lenType": 16,
    "lenVar": 40
   },
   "kernels_config": {
    "python": {
     "delete_cmd_postfix": "",
     "delete_cmd_prefix": "del ",
     "library": "var_list.py",
     "varRefreshCmd": "print(var_dic_list())"
    },
    "r": {
     "delete_cmd_postfix": ") ",
     "delete_cmd_prefix": "rm(",
     "library": "var_list.r",
     "varRefreshCmd": "cat(var_dic_list()) "
    }
   },
   "types_to_exclude": [
    "module",
    "function",
    "builtin_function_or_method",
    "instance",
    "_Feature"
   ],
   "window_display": false
  }
 },
 "nbformat": 4,
 "nbformat_minor": 2
}
