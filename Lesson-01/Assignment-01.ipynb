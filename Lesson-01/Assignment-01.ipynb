{
 "cells": [
  {
   "cell_type": "markdown",
   "metadata": {},
   "source": [
    "### 复现课堂代码"
   ]
  },
  {
   "cell_type": "code",
   "execution_count": 1,
   "metadata": {
    "ExecuteTime": {
     "end_time": "2019-06-30T12:39:56.531874Z",
     "start_time": "2019-06-30T12:39:55.174333Z"
    }
   },
   "outputs": [],
   "source": [
    "import numpy as np\n",
    "import pandas as pd\n",
    "import jieba\n",
    "import random"
   ]
  },
  {
   "cell_type": "code",
   "execution_count": 2,
   "metadata": {
    "ExecuteTime": {
     "end_time": "2019-06-30T12:39:56.537629Z",
     "start_time": "2019-06-30T12:39:56.533636Z"
    }
   },
   "outputs": [],
   "source": [
    "simple_grammar = \"\"\"\n",
    "sentence => noun_phrase verb_phrase\n",
    "noun_phrase => Article Adj* noun\n",
    "Adj* => null | Adj Adj*\n",
    "verb_phrase => verb noun_phrase\n",
    "Article =>  一个 | 这个\n",
    "noun =>   女人 |  篮球 | 桌子 | 小猫\n",
    "verb => 看着   |  坐在 |  听着 | 看见\n",
    "Adj =>  蓝色的 | 好看的 | 小小的\n",
    "\"\"\""
   ]
  },
  {
   "cell_type": "code",
   "execution_count": 3,
   "metadata": {
    "ExecuteTime": {
     "end_time": "2019-06-30T12:39:56.554580Z",
     "start_time": "2019-06-30T12:39:56.539626Z"
    }
   },
   "outputs": [
    {
     "data": {
      "text/plain": [
       "'\\nsentence => noun_phrase verb_phrase\\nnoun_phrase => Article Adj* noun\\nAdj* => null | Adj Adj*\\nverb_phrase => verb noun_phrase\\nArticle =>  一个 | 这个\\nnoun =>   女人 |  篮球 | 桌子 | 小猫\\nverb => 看着   |  坐在 |  听着 | 看见\\nAdj =>  蓝色的 | 好看的 | 小小的\\n'"
      ]
     },
     "execution_count": 3,
     "metadata": {},
     "output_type": "execute_result"
    }
   ],
   "source": [
    "simple_grammar"
   ]
  },
  {
   "cell_type": "code",
   "execution_count": 4,
   "metadata": {
    "ExecuteTime": {
     "end_time": "2019-06-30T12:39:56.564591Z",
     "start_time": "2019-06-30T12:39:56.559567Z"
    }
   },
   "outputs": [],
   "source": [
    "def adj(): return np.random.choice(list(map(lambda s: s.strip(), '蓝色的 | 好看的 | 小小的'.split('|'))))"
   ]
  },
  {
   "cell_type": "code",
   "execution_count": 5,
   "metadata": {
    "ExecuteTime": {
     "end_time": "2019-06-30T12:39:56.573533Z",
     "start_time": "2019-06-30T12:39:56.568545Z"
    }
   },
   "outputs": [
    {
     "data": {
      "text/plain": [
       "'蓝色的'"
      ]
     },
     "execution_count": 5,
     "metadata": {},
     "output_type": "execute_result"
    }
   ],
   "source": [
    "adj()"
   ]
  },
  {
   "cell_type": "code",
   "execution_count": 6,
   "metadata": {
    "ExecuteTime": {
     "end_time": "2019-06-30T12:39:56.581508Z",
     "start_time": "2019-06-30T12:39:56.575526Z"
    }
   },
   "outputs": [],
   "source": [
    "def adj_star(): return np.random.choice([lambda : '', lambda : adj()+adj_star()])()"
   ]
  },
  {
   "cell_type": "code",
   "execution_count": 7,
   "metadata": {
    "ExecuteTime": {
     "end_time": "2019-06-30T12:39:56.591482Z",
     "start_time": "2019-06-30T12:39:56.583511Z"
    }
   },
   "outputs": [
    {
     "data": {
      "text/plain": [
       "'好看的好看的'"
      ]
     },
     "execution_count": 7,
     "metadata": {},
     "output_type": "execute_result"
    }
   ],
   "source": [
    "adj_star()"
   ]
  },
  {
   "cell_type": "code",
   "execution_count": 8,
   "metadata": {
    "ExecuteTime": {
     "end_time": "2019-06-30T12:39:56.600459Z",
     "start_time": "2019-06-30T12:39:56.592479Z"
    }
   },
   "outputs": [
    {
     "data": {
      "text/plain": [
       "['蓝色的', '好看的', '小小的']"
      ]
     },
     "execution_count": 8,
     "metadata": {},
     "output_type": "execute_result"
    }
   ],
   "source": [
    "list(map(lambda s: s.strip(), '蓝色的 | 好看的 | 小小的'.split('|')))"
   ]
  },
  {
   "cell_type": "code",
   "execution_count": 9,
   "metadata": {
    "ExecuteTime": {
     "end_time": "2019-06-30T12:39:56.606443Z",
     "start_time": "2019-06-30T12:39:56.602452Z"
    }
   },
   "outputs": [],
   "source": [
    "adj_grammar = \"\"\"\n",
    "Adj* => null | Adj Adj*\n",
    "Adj =>  蓝色的 | 好看的 | 小小的\n",
    "\"\"\""
   ]
  },
  {
   "cell_type": "code",
   "execution_count": 10,
   "metadata": {
    "ExecuteTime": {
     "end_time": "2019-06-30T12:39:56.614420Z",
     "start_time": "2019-06-30T12:39:56.608436Z"
    }
   },
   "outputs": [],
   "source": [
    "def create_grammar(grammar_str, split_='=>', line_split='\\n'):\n",
    "    grammar = {}\n",
    "    for line in grammar_str.split(line_split):\n",
    "        if not line.strip(): continue\n",
    "        k, v = line.split(split_)\n",
    "        grammar[k.strip()] = [s.split() for s in v.split('|')]\n",
    "    return grammar"
   ]
  },
  {
   "cell_type": "code",
   "execution_count": 11,
   "metadata": {
    "ExecuteTime": {
     "end_time": "2019-06-30T12:39:56.622399Z",
     "start_time": "2019-06-30T12:39:56.616416Z"
    }
   },
   "outputs": [
    {
     "data": {
      "text/plain": [
       "{'Adj*': [['null'], ['Adj', 'Adj*']], 'Adj': [['蓝色的'], ['好看的'], ['小小的']]}"
      ]
     },
     "execution_count": 11,
     "metadata": {},
     "output_type": "execute_result"
    }
   ],
   "source": [
    "create_grammar(adj_grammar)"
   ]
  },
  {
   "cell_type": "code",
   "execution_count": 12,
   "metadata": {
    "ExecuteTime": {
     "end_time": "2019-06-30T12:39:56.631380Z",
     "start_time": "2019-06-30T12:39:56.625392Z"
    }
   },
   "outputs": [],
   "source": [
    "def generate(gram, target):\n",
    "    if target not in gram: return target\n",
    "    expanded = [generate(gram, t) for t in random.choice(gram[target])]\n",
    "    return ''.join(s for s in expanded if s != 'null')"
   ]
  },
  {
   "cell_type": "code",
   "execution_count": 13,
   "metadata": {
    "ExecuteTime": {
     "end_time": "2019-06-30T12:39:56.643342Z",
     "start_time": "2019-06-30T12:39:56.634369Z"
    }
   },
   "outputs": [
    {
     "data": {
      "text/plain": [
       "{'sentence': [['noun_phrase', 'verb_phrase']],\n",
       " 'noun_phrase': [['Article', 'Adj*', 'noun']],\n",
       " 'Adj*': [['null'], ['Adj', 'Adj*']],\n",
       " 'verb_phrase': [['verb', 'noun_phrase']],\n",
       " 'Article': [['一个'], ['这个']],\n",
       " 'noun': [['女人'], ['篮球'], ['桌子'], ['小猫']],\n",
       " 'verb': [['看着'], ['坐在'], ['听着'], ['看见']],\n",
       " 'Adj': [['蓝色的'], ['好看的'], ['小小的']]}"
      ]
     },
     "execution_count": 13,
     "metadata": {},
     "output_type": "execute_result"
    }
   ],
   "source": [
    "example_grammar = create_grammar(simple_grammar)\n",
    "example_grammar"
   ]
  },
  {
   "cell_type": "code",
   "execution_count": 14,
   "metadata": {
    "ExecuteTime": {
     "end_time": "2019-06-30T12:39:56.650326Z",
     "start_time": "2019-06-30T12:39:56.645337Z"
    }
   },
   "outputs": [
    {
     "data": {
      "text/plain": [
       "'一个小猫看见一个好看的小猫'"
      ]
     },
     "execution_count": 14,
     "metadata": {},
     "output_type": "execute_result"
    }
   ],
   "source": [
    "generate(example_grammar, 'sentence')"
   ]
  },
  {
   "cell_type": "code",
   "execution_count": 15,
   "metadata": {
    "ExecuteTime": {
     "end_time": "2019-06-30T12:39:56.655311Z",
     "start_time": "2019-06-30T12:39:56.651322Z"
    }
   },
   "outputs": [],
   "source": [
    "from collections import Counter"
   ]
  },
  {
   "cell_type": "code",
   "execution_count": 16,
   "metadata": {
    "ExecuteTime": {
     "end_time": "2019-06-30T12:39:57.225228Z",
     "start_time": "2019-06-30T12:39:56.657308Z"
    }
   },
   "outputs": [],
   "source": [
    "with open('article_9k.txt', 'r') as f:\n",
    "    articles = list(map(lambda s: s.strip('\\n'), f.readlines()))"
   ]
  },
  {
   "cell_type": "code",
   "execution_count": 17,
   "metadata": {
    "ExecuteTime": {
     "end_time": "2019-06-30T12:39:57.229765Z",
     "start_time": "2019-06-30T12:39:57.226766Z"
    }
   },
   "outputs": [
    {
     "data": {
      "text/plain": [
       "['此外自本周6月12日起除小米手机6等15款机型外其余机型已暂停更新发布含开发版体验版内测稳定版暂不受影响以确保工程师可以集中全部精力进行系统优化工作有人猜测这也是将精力主要用到MIUI9的研发之中MIUI8去年5月发布距今已有一年有余也是时候更新换代了当然关于MIUI9的确切信息我们还是等待官方消息',\n",
       " '骁龙835作为唯一通过Windows10桌面平台认证的ARM处理器高通强调不会因为只考虑性能而去屏蔽掉小核心相反他们正联手微软找到一种适合桌面平台的兼顾性能和功耗的完美方案报道称微软已经拿到了一些新的源码以便Windows10更好地理解biglittle架构资料显示骁龙835作为一款集成了CPUGPU基带蓝牙WiFi的SoC比传统的Wintel方案可以节省至少30的PCB空间按计划今年Q4华硕惠普联想将首发骁龙835Win10电脑预计均是二合一形态的产品当然高通骁龙只是个开始未来也许还能见到三星Exynos联发科华为麒麟小米澎湃等进入Windows10桌面平台']"
      ]
     },
     "execution_count": 17,
     "metadata": {},
     "output_type": "execute_result"
    }
   ],
   "source": [
    "articles[:2]"
   ]
  },
  {
   "cell_type": "code",
   "execution_count": 18,
   "metadata": {
    "ExecuteTime": {
     "end_time": "2019-06-30T12:39:58.054685Z",
     "start_time": "2019-06-30T12:39:57.235708Z"
    }
   },
   "outputs": [
    {
     "name": "stderr",
     "output_type": "stream",
     "text": [
      "Building prefix dict from the default dictionary ...\n",
      "Loading model from cache C:\\Users\\xxx\\AppData\\Local\\Temp\\jieba.cache\n",
      "Loading model cost 0.807 seconds.\n",
      "Prefix dict has been built succesfully.\n"
     ]
    }
   ],
   "source": [
    "with_jieba_cut = Counter(jieba.cut(articles[1]))"
   ]
  },
  {
   "cell_type": "code",
   "execution_count": 19,
   "metadata": {
    "ExecuteTime": {
     "end_time": "2019-06-30T12:39:58.066655Z",
     "start_time": "2019-06-30T12:39:58.060671Z"
    }
   },
   "outputs": [
    {
     "data": {
      "text/plain": [
       "Counter({'骁龙': 4,\n",
       "         '835': 2,\n",
       "         '作为': 2,\n",
       "         '唯一': 1,\n",
       "         '通过': 1,\n",
       "         'Windows10': 3,\n",
       "         '桌面': 3,\n",
       "         '平台': 3,\n",
       "         '认证': 1,\n",
       "         '的': 8,\n",
       "         'ARM': 1,\n",
       "         '处理器': 1,\n",
       "         '高通': 2,\n",
       "         '强调': 1,\n",
       "         '不会': 1,\n",
       "         '因为': 1,\n",
       "         '只': 1,\n",
       "         '考虑': 1,\n",
       "         '性能': 2,\n",
       "         '而': 1,\n",
       "         '去': 1,\n",
       "         '屏蔽掉': 1,\n",
       "         '小': 1,\n",
       "         '核心': 1,\n",
       "         '相反': 1,\n",
       "         '他们': 1,\n",
       "         '正': 1,\n",
       "         '联手': 1,\n",
       "         '微软': 2,\n",
       "         '找到': 1,\n",
       "         '一种': 1,\n",
       "         '适合': 1,\n",
       "         '兼顾': 1,\n",
       "         '和': 1,\n",
       "         '功耗': 1,\n",
       "         '完美': 1,\n",
       "         '方案': 2,\n",
       "         '报道': 1,\n",
       "         '称': 1,\n",
       "         '已经': 1,\n",
       "         '拿到': 1,\n",
       "         '了': 2,\n",
       "         '一些': 1,\n",
       "         '新': 1,\n",
       "         '源码': 1,\n",
       "         '以便': 1,\n",
       "         '更好': 1,\n",
       "         '地': 1,\n",
       "         '理解': 1,\n",
       "         'biglittle': 1,\n",
       "         '架构': 1,\n",
       "         '资料': 1,\n",
       "         '显示': 1,\n",
       "         '一款': 1,\n",
       "         '集成': 1,\n",
       "         'CPUGPU': 1,\n",
       "         '基带': 1,\n",
       "         '蓝牙': 1,\n",
       "         'WiFi': 1,\n",
       "         'SoC': 1,\n",
       "         '比': 1,\n",
       "         '传统': 1,\n",
       "         'Wintel': 1,\n",
       "         '可以': 1,\n",
       "         '节省': 1,\n",
       "         '至少': 1,\n",
       "         '30': 1,\n",
       "         'PCB': 1,\n",
       "         '空间': 1,\n",
       "         '按计划': 1,\n",
       "         '今年': 1,\n",
       "         'Q4': 1,\n",
       "         '华硕': 1,\n",
       "         '惠普': 1,\n",
       "         '联想': 1,\n",
       "         '将': 1,\n",
       "         '首发': 1,\n",
       "         '835Win10': 1,\n",
       "         '电脑': 1,\n",
       "         '预计': 1,\n",
       "         '均': 1,\n",
       "         '是': 1,\n",
       "         '二合一': 1,\n",
       "         '形态': 1,\n",
       "         '产品': 1,\n",
       "         '当然': 1,\n",
       "         '只是': 1,\n",
       "         '个': 1,\n",
       "         '开始': 1,\n",
       "         '未来': 1,\n",
       "         '也许': 1,\n",
       "         '还': 1,\n",
       "         '能': 1,\n",
       "         '见到': 1,\n",
       "         '三星': 1,\n",
       "         'Exynos': 1,\n",
       "         '联发科': 1,\n",
       "         '华为': 1,\n",
       "         '麒麟': 1,\n",
       "         '小米': 1,\n",
       "         '澎湃': 1,\n",
       "         '等': 1,\n",
       "         '进入': 1})"
      ]
     },
     "execution_count": 19,
     "metadata": {},
     "output_type": "execute_result"
    }
   ],
   "source": [
    "with_jieba_cut"
   ]
  },
  {
   "cell_type": "code",
   "execution_count": 20,
   "metadata": {
    "ExecuteTime": {
     "end_time": "2019-06-30T12:39:58.073642Z",
     "start_time": "2019-06-30T12:39:58.068649Z"
    }
   },
   "outputs": [
    {
     "data": {
      "text/plain": [
       "'骁龙835作为唯一通过Windows10桌面平台认证的ARM处理器高通强调不会因为只考虑性能而去屏蔽掉小核心相反他们正联手微软找到一种适合桌面平台的兼顾性能和功耗的完美方案报道称微软已经拿到了一些新的源码以便Windows10更好地理解biglittle架构资料显示骁龙835作为一款集成了CPUGPU基带蓝牙WiFi的SoC比传统的Wintel方案可以节省至少30的PCB空间按计划今年Q4华硕惠普联想将首发骁龙835Win10电脑预计均是二合一形态的产品当然高通骁龙只是个开始未来也许还能见到三星Exynos联发科华为麒麟小米澎湃等进入Windows10桌面平台'"
      ]
     },
     "execution_count": 20,
     "metadata": {},
     "output_type": "execute_result"
    }
   ],
   "source": [
    "articles[1]"
   ]
  },
  {
   "cell_type": "code",
   "execution_count": 21,
   "metadata": {
    "ExecuteTime": {
     "end_time": "2019-06-30T12:39:58.085637Z",
     "start_time": "2019-06-30T12:39:58.076628Z"
    }
   },
   "outputs": [],
   "source": [
    "def cut(string): return list(jieba.cut(string))"
   ]
  },
  {
   "cell_type": "code",
   "execution_count": 22,
   "metadata": {
    "ExecuteTime": {
     "end_time": "2019-06-30T12:40:36.943732Z",
     "start_time": "2019-06-30T12:39:58.086601Z"
    }
   },
   "outputs": [],
   "source": [
    "token = []\n",
    "for sentence in articles[:10000]:\n",
    "    token += cut(sentence)"
   ]
  },
  {
   "cell_type": "code",
   "execution_count": 23,
   "metadata": {
    "ExecuteTime": {
     "end_time": "2019-06-30T12:40:37.582553Z",
     "start_time": "2019-06-30T12:40:36.944767Z"
    }
   },
   "outputs": [],
   "source": [
    "words_count = Counter(token)"
   ]
  },
  {
   "cell_type": "code",
   "execution_count": 24,
   "metadata": {
    "ExecuteTime": {
     "end_time": "2019-06-30T12:40:37.635446Z",
     "start_time": "2019-06-30T12:40:37.584546Z"
    }
   },
   "outputs": [
    {
     "data": {
      "text/plain": [
       "[('的', 184244),\n",
       " ('在', 47370),\n",
       " ('了', 36722),\n",
       " ('和', 30809),\n",
       " ('是', 30283),\n",
       " ('月', 18711),\n",
       " ('也', 15995),\n",
       " ('年', 15971),\n",
       " ('有', 14714),\n",
       " ('为', 14448),\n",
       " ('等', 14340),\n",
       " ('将', 14060),\n",
       " ('对', 13074),\n",
       " ('与', 12568),\n",
       " ('日', 12322),\n",
       " ('中', 11117),\n",
       " ('中国', 11036),\n",
       " ('6', 10477),\n",
       " ('上', 10192),\n",
       " ('不', 10027),\n",
       " ('他', 9530),\n",
       " ('都', 9447),\n",
       " ('发展', 8795),\n",
       " ('企业', 8584),\n",
       " ('就', 8537),\n",
       " ('到', 8338),\n",
       " ('市场', 8095),\n",
       " ('但', 7729),\n",
       " ('这', 7658),\n",
       " ('被', 7575),\n",
       " ('从', 7513),\n",
       " ('并', 7412),\n",
       " ('人', 7339),\n",
       " ('后', 7084),\n",
       " ('公司', 6915),\n",
       " ('一个', 6772),\n",
       " ('说', 6703),\n",
       " ('新', 6467),\n",
       " ('表示', 6309),\n",
       " ('要', 6276),\n",
       " ('还', 6245),\n",
       " ('会', 6179),\n",
       " ('个', 6176),\n",
       " ('我', 6141),\n",
       " ('而', 6090),\n",
       " ('进行', 5802),\n",
       " ('我们', 5742),\n",
       " ('记者', 5734),\n",
       " ('以', 5615),\n",
       " ('5', 5569),\n",
       " ('工作', 5135),\n",
       " ('没有', 5000),\n",
       " ('美国', 4840),\n",
       " ('下', 4741),\n",
       " ('更', 4739),\n",
       " ('通过', 4720),\n",
       " ('大', 4704),\n",
       " ('让', 4701),\n",
       " ('可以', 4681),\n",
       " ('经济', 4670),\n",
       " ('时', 4654),\n",
       " ('目前', 4645),\n",
       " ('国家', 4628),\n",
       " ('项目', 4538),\n",
       " ('问题', 4422),\n",
       " ('创新', 4416),\n",
       " ('多', 4410),\n",
       " ('已经', 4391),\n",
       " ('建设', 4373),\n",
       " ('其', 4224),\n",
       " ('自己', 4119),\n",
       " ('投资', 4064),\n",
       " ('已', 4026),\n",
       " ('3', 4008),\n",
       " ('城市', 3921),\n",
       " ('服务', 3842),\n",
       " ('报道', 3818),\n",
       " ('亿元', 3813),\n",
       " ('及', 3812),\n",
       " ('1', 3793),\n",
       " ('成为', 3684),\n",
       " ('相关', 3646),\n",
       " ('向', 3603),\n",
       " ('可能', 3595),\n",
       " ('他们', 3560),\n",
       " ('以及', 3475),\n",
       " ('或', 3447),\n",
       " ('今年', 3426),\n",
       " ('地', 3411),\n",
       " ('其中', 3408),\n",
       " ('于', 3371),\n",
       " ('她', 3349),\n",
       " ('能', 3343),\n",
       " ('10', 3330),\n",
       " ('着', 3327),\n",
       " ('2016', 3310),\n",
       " ('认为', 3295),\n",
       " ('20', 3282),\n",
       " ('称', 3271),\n",
       " ('把', 3257)]"
      ]
     },
     "execution_count": 24,
     "metadata": {},
     "output_type": "execute_result"
    }
   ],
   "source": [
    "words_count.most_common(100)"
   ]
  },
  {
   "cell_type": "code",
   "execution_count": 25,
   "metadata": {
    "ExecuteTime": {
     "end_time": "2019-06-30T12:40:37.642391Z",
     "start_time": "2019-06-30T12:40:37.637405Z"
    }
   },
   "outputs": [],
   "source": [
    "def prob_1(word): return words_count[word] / len(token)"
   ]
  },
  {
   "cell_type": "code",
   "execution_count": 26,
   "metadata": {
    "ExecuteTime": {
     "end_time": "2019-06-30T12:40:37.649373Z",
     "start_time": "2019-06-30T12:40:37.644387Z"
    }
   },
   "outputs": [
    {
     "data": {
      "text/plain": [
       "0.0015587203508559526"
      ]
     },
     "execution_count": 26,
     "metadata": {},
     "output_type": "execute_result"
    }
   ],
   "source": [
    "prob_1('我们')"
   ]
  },
  {
   "cell_type": "code",
   "execution_count": 27,
   "metadata": {
    "ExecuteTime": {
     "end_time": "2019-06-30T12:40:37.657352Z",
     "start_time": "2019-06-30T12:40:37.652364Z"
    }
   },
   "outputs": [
    {
     "data": {
      "text/plain": [
       "['此外', '自', '本周', '6', '月', '12', '日起', '除', '小米', '手机']"
      ]
     },
     "execution_count": 27,
     "metadata": {},
     "output_type": "execute_result"
    }
   ],
   "source": [
    "token[:10]"
   ]
  },
  {
   "cell_type": "code",
   "execution_count": 28,
   "metadata": {
    "ExecuteTime": {
     "end_time": "2019-06-30T12:40:38.678022Z",
     "start_time": "2019-06-30T12:40:37.660345Z"
    }
   },
   "outputs": [],
   "source": [
    "token_2_gram = [token[i]+token[i+1] for i in range(len(token)-1)]"
   ]
  },
  {
   "cell_type": "code",
   "execution_count": 29,
   "metadata": {
    "ExecuteTime": {
     "end_time": "2019-06-30T12:40:38.685970Z",
     "start_time": "2019-06-30T12:40:38.680016Z"
    }
   },
   "outputs": [
    {
     "data": {
      "text/plain": [
       "['此外自', '自本周', '本周6', '6月', '月12', '12日起', '日起除', '除小米', '小米手机', '手机6']"
      ]
     },
     "execution_count": 29,
     "metadata": {},
     "output_type": "execute_result"
    }
   ],
   "source": [
    "token_2_gram[:10]"
   ]
  },
  {
   "cell_type": "code",
   "execution_count": 30,
   "metadata": {
    "ExecuteTime": {
     "end_time": "2019-06-30T12:40:40.239938Z",
     "start_time": "2019-06-30T12:40:38.688960Z"
    }
   },
   "outputs": [
    {
     "data": {
      "text/plain": [
       "[('6月', 8502),\n",
       " ('2016年', 2773),\n",
       " ('2017年', 2496),\n",
       " ('的是', 2250),\n",
       " ('5月', 2111),\n",
       " ('也是', 2054),\n",
       " ('nannan', 1740),\n",
       " ('都是', 1590),\n",
       " ('自己的', 1496),\n",
       " ('更多', 1490)]"
      ]
     },
     "execution_count": 30,
     "metadata": {},
     "output_type": "execute_result"
    }
   ],
   "source": [
    "words_count_2 = Counter(token_2_gram)\n",
    "words_count_2.most_common(10)"
   ]
  },
  {
   "cell_type": "code",
   "execution_count": 31,
   "metadata": {
    "ExecuteTime": {
     "end_time": "2019-06-30T12:40:40.245921Z",
     "start_time": "2019-06-30T12:40:40.240935Z"
    }
   },
   "outputs": [],
   "source": [
    "def prob_2(word1, word2):\n",
    "    if word1 + word2 in words_count_2: \n",
    "        return words_count_2[word1+word2] / len(token_2_gram)\n",
    "    else:\n",
    "        return 1 / len(token_2_gram)"
   ]
  },
  {
   "cell_type": "code",
   "execution_count": 32,
   "metadata": {
    "ExecuteTime": {
     "end_time": "2019-06-30T12:40:40.253901Z",
     "start_time": "2019-06-30T12:40:40.247919Z"
    }
   },
   "outputs": [
    {
     "data": {
      "text/plain": [
       "2.7145955659796026e-07"
      ]
     },
     "execution_count": 32,
     "metadata": {},
     "output_type": "execute_result"
    }
   ],
   "source": [
    "prob_2('在', '吃饭')"
   ]
  },
  {
   "cell_type": "code",
   "execution_count": 33,
   "metadata": {
    "ExecuteTime": {
     "end_time": "2019-06-30T12:40:40.263874Z",
     "start_time": "2019-06-30T12:40:40.256893Z"
    }
   },
   "outputs": [
    {
     "data": {
      "text/plain": [
       "4.696250329144712e-05"
      ]
     },
     "execution_count": 33,
     "metadata": {},
     "output_type": "execute_result"
    }
   ],
   "source": [
    "prob_2('我们', '在')"
   ]
  },
  {
   "cell_type": "code",
   "execution_count": 34,
   "metadata": {
    "ExecuteTime": {
     "end_time": "2019-06-30T12:40:40.272851Z",
     "start_time": "2019-06-30T12:40:40.267865Z"
    }
   },
   "outputs": [],
   "source": [
    "def get_probability(sentence):\n",
    "    words = cut(sentence)\n",
    "    \n",
    "    p = 1\n",
    "    for i in range(len(words)-1):\n",
    "        p *= prob_2(words[i], words[i+1])\n",
    "    return p"
   ]
  },
  {
   "cell_type": "code",
   "execution_count": 35,
   "metadata": {
    "ExecuteTime": {
     "end_time": "2019-06-30T12:40:40.348676Z",
     "start_time": "2019-06-30T12:40:40.274845Z"
    }
   },
   "outputs": [
    {
     "data": {
      "text/plain": [
       "6.402517805790038e-39"
      ]
     },
     "execution_count": 35,
     "metadata": {},
     "output_type": "execute_result"
    }
   ],
   "source": [
    "get_probability('小明今天抽奖抽到一台苹果手机')"
   ]
  },
  {
   "cell_type": "code",
   "execution_count": 36,
   "metadata": {
    "ExecuteTime": {
     "end_time": "2019-06-30T12:40:40.356648Z",
     "start_time": "2019-06-30T12:40:40.350664Z"
    }
   },
   "outputs": [
    {
     "data": {
      "text/plain": [
       "4.001573628618774e-40"
      ]
     },
     "execution_count": 36,
     "metadata": {},
     "output_type": "execute_result"
    }
   ],
   "source": [
    "get_probability('小明今天抽奖抽到一架波音飞机')"
   ]
  },
  {
   "cell_type": "code",
   "execution_count": 37,
   "metadata": {
    "ExecuteTime": {
     "end_time": "2019-06-30T12:40:40.364630Z",
     "start_time": "2019-06-30T12:40:40.357646Z"
    }
   },
   "outputs": [
    {
     "data": {
      "text/plain": [
       "2.000393368470005e-20"
      ]
     },
     "execution_count": 37,
     "metadata": {},
     "output_type": "execute_result"
    }
   ],
   "source": [
    "get_probability('洋葱奶昔来一杯')"
   ]
  },
  {
   "cell_type": "code",
   "execution_count": 38,
   "metadata": {
    "ExecuteTime": {
     "end_time": "2019-06-30T12:40:40.373604Z",
     "start_time": "2019-06-30T12:40:40.367620Z"
    }
   },
   "outputs": [
    {
     "name": "stdout",
     "output_type": "stream",
     "text": [
      "sentence: 一个女人听着一个小小的女人 with prob: 2.6506423715970752e-36\n",
      "sentence: 这个小小的好看的蓝色的桌子听着一个小小的小小的小猫 with prob: 1.0267324913463742e-72\n",
      "sentence: 一个小小的小猫听着一个小猫 with prob: 6.626605928992687e-37\n",
      "sentence: 这个好看的小小的小小的蓝色的桌子听着这个好看的蓝色的篮球 with prob: 8.251194926082362e-91\n",
      "sentence: 一个桌子坐在一个小猫 with prob: 5.4302589682636776e-27\n",
      "sentence: 这个女人坐在这个好看的小小的小猫 with prob: 2.3897838864216748e-45\n",
      "sentence: 这个小小的好看的小猫看见这个蓝色的小猫 with prob: 7.044154788117434e-58\n",
      "sentence: 一个女人看着这个女人 with prob: 8.688414349221884e-26\n",
      "sentence: 一个好看的好看的好看的篮球看着这个女人 with prob: 1.0411946072197226e-61\n",
      "sentence: 这个蓝色的小猫看见一个蓝色的蓝色的桌子 with prob: 9.790480053195557e-62\n"
     ]
    }
   ],
   "source": [
    "for sen in [generate(gram=example_grammar, target='sentence') for _ in range(10)]:\n",
    "    print('sentence: {} with prob: {}'.format(sen, get_probability(sen)))"
   ]
  },
  {
   "cell_type": "code",
   "execution_count": 39,
   "metadata": {
    "ExecuteTime": {
     "end_time": "2019-06-30T12:40:40.386578Z",
     "start_time": "2019-06-30T12:40:40.375599Z"
    }
   },
   "outputs": [
    {
     "name": "stdout",
     "output_type": "stream",
     "text": [
      "明天晚上请你吃大餐，我们一起吃苹果 is more possible\n",
      "----今天晚上请你吃大餐，我们一起吃日料 with probability 1.7522734186117049e-62\n",
      "----明天晚上请你吃大餐，我们一起吃苹果 with probability 1.7522734186117049e-62\n",
      "真是一只好看的小猫 is more possible\n",
      "----真事一只好看的小猫 with probability 1.6215052609106503e-32\n",
      "----真是一只好看的小猫 with probability 5.973284865090045e-26\n",
      "今晚我去吃火锅 is more possible\n",
      "----今晚我去吃火锅 with probability 8.40165214757402e-19\n",
      "----今晚火锅去吃我 with probability 1.9548932285749235e-25\n",
      "养乐多绿来一杯 is more possible\n",
      "----洋葱奶昔来一杯 with probability 2.000393368470005e-20\n",
      "----养乐多绿来一杯 with probability 7.36902908683612e-14\n"
     ]
    }
   ],
   "source": [
    "need_compared = [\n",
    "    \"今天晚上请你吃大餐，我们一起吃日料 明天晚上请你吃大餐，我们一起吃苹果\",\n",
    "    \"真事一只好看的小猫 真是一只好看的小猫\",\n",
    "    \"今晚我去吃火锅 今晚火锅去吃我\",\n",
    "    \"洋葱奶昔来一杯 养乐多绿来一杯\"\n",
    "]\n",
    "for s in need_compared:\n",
    "    s1, s2 = s.split()\n",
    "    p1, p2 = map(get_probability, [s1, s2])\n",
    "    \n",
    "    better = s1 if p1 > p2 else s2\n",
    "    print('{} is more possible'.format(better))\n",
    "    print('-'*4+'{} with probability {}'.format(s1, p1))\n",
    "    print('-'*4+'{} with probability {}'.format(s2, p2))"
   ]
  },
  {
   "cell_type": "markdown",
   "metadata": {},
   "source": [
    "### 问答和编程练习"
   ]
  },
  {
   "cell_type": "markdown",
   "metadata": {},
   "source": [
    "#### 基础理论部分"
   ]
  },
  {
   "cell_type": "markdown",
   "metadata": {},
   "source": [
    "#### 编程实践部分"
   ]
  },
  {
   "cell_type": "markdown",
   "metadata": {},
   "source": [
    "##### 设计自己的句子生成器"
   ]
  },
  {
   "cell_type": "code",
   "execution_count": 40,
   "metadata": {
    "ExecuteTime": {
     "end_time": "2019-06-30T12:40:40.394551Z",
     "start_time": "2019-06-30T12:40:40.389561Z"
    }
   },
   "outputs": [],
   "source": [
    "def generate_n(grammar, target, n):\n",
    "    res = []\n",
    "    for _ in range(n):\n",
    "        res.append(generate(grammar, target))\n",
    "    return res"
   ]
  },
  {
   "cell_type": "code",
   "execution_count": 41,
   "metadata": {
    "ExecuteTime": {
     "end_time": "2019-06-30T12:40:40.404521Z",
     "start_time": "2019-06-30T12:40:40.396542Z"
    }
   },
   "outputs": [],
   "source": [
    "singer = \"\"\"\n",
    "singer = 姓名 程度副词* 擅长 特点\n",
    "姓名 = 华晨宇 | 毛不易\n",
    "程度副词* = null | 程度副词 程度副词*\n",
    "程度副词 = 很 | 非常 | 特别 | 极其\n",
    "擅长 = 喜欢 | 善于 | 擅长\n",
    "特点 = 作词 | 作曲 | 喝酒 | 怼人\n",
    "\"\"\""
   ]
  },
  {
   "cell_type": "code",
   "execution_count": 42,
   "metadata": {
    "ExecuteTime": {
     "end_time": "2019-06-30T12:40:40.417486Z",
     "start_time": "2019-06-30T12:40:40.406515Z"
    }
   },
   "outputs": [
    {
     "data": {
      "text/plain": [
       "{'singer': [['姓名', '程度副词*', '擅长', '特点']],\n",
       " '姓名': [['华晨宇'], ['毛不易']],\n",
       " '程度副词*': [['null'], ['程度副词', '程度副词*']],\n",
       " '程度副词': [['很'], ['非常'], ['特别'], ['极其']],\n",
       " '擅长': [['喜欢'], ['善于'], ['擅长']],\n",
       " '特点': [['作词'], ['作曲'], ['喝酒'], ['怼人']]}"
      ]
     },
     "execution_count": 42,
     "metadata": {},
     "output_type": "execute_result"
    }
   ],
   "source": [
    "singer_grammar = create_grammar(singer, split_='=')\n",
    "singer_grammar"
   ]
  },
  {
   "cell_type": "code",
   "execution_count": 43,
   "metadata": {
    "ExecuteTime": {
     "end_time": "2019-06-30T12:40:40.425464Z",
     "start_time": "2019-06-30T12:40:40.420478Z"
    }
   },
   "outputs": [
    {
     "data": {
      "text/plain": [
       "'华晨宇善于作曲'"
      ]
     },
     "execution_count": 43,
     "metadata": {},
     "output_type": "execute_result"
    }
   ],
   "source": [
    "generate(singer_grammar, 'singer')"
   ]
  },
  {
   "cell_type": "code",
   "execution_count": 44,
   "metadata": {
    "ExecuteTime": {
     "end_time": "2019-06-30T12:40:40.437433Z",
     "start_time": "2019-06-30T12:40:40.428457Z"
    }
   },
   "outputs": [
    {
     "data": {
      "text/plain": [
       "['毛不易喜欢怼人', '毛不易善于作词', '毛不易极其喜欢作词', '毛不易善于作词', '华晨宇喜欢喝酒', '华晨宇非常喜欢怼人']"
      ]
     },
     "execution_count": 44,
     "metadata": {},
     "output_type": "execute_result"
    }
   ],
   "source": [
    "generate_n(singer_grammar, 'singer', 6)"
   ]
  },
  {
   "cell_type": "code",
   "execution_count": 45,
   "metadata": {
    "ExecuteTime": {
     "end_time": "2019-06-30T12:40:40.445412Z",
     "start_time": "2019-06-30T12:40:40.440431Z"
    }
   },
   "outputs": [],
   "source": [
    "self_introduction = \"\"\"\n",
    "self_introduction = 礼貌称呼 报姓名 来处 主修 喜欢 具体爱好*\n",
    "礼貌称呼 = null | 您好， | 你们好， | 老师们好，\n",
    "报姓名 = 我 动词 姓名，\n",
    "动词 = 是 | 叫\n",
    "姓名 = xhp | bxf\n",
    "来处 = 来自 学校，\n",
    "学校 = 同济大学 | 华东师范大学 | 中南大学\n",
    "主修 = null | 专业是 专业，\n",
    "专业 = 植物学 | 采矿工程 | 土木工程\n",
    "喜欢 = 喜欢 | 擅长 | 善于\n",
    "具体爱好* = 具体爱好 具体爱好*\n",
    "\"\"\""
   ]
  },
  {
   "cell_type": "code",
   "execution_count": 46,
   "metadata": {
    "ExecuteTime": {
     "end_time": "2019-06-30T12:40:40.459374Z",
     "start_time": "2019-06-30T12:40:40.448406Z"
    }
   },
   "outputs": [
    {
     "data": {
      "text/plain": [
       "{'self_introduction': [['礼貌称呼', '报姓名', '来处', '主修', '喜欢', '具体爱好*']],\n",
       " '礼貌称呼': [['null'], ['您好，'], ['你们好，'], ['老师们好，']],\n",
       " '报姓名': [['我', '动词', '姓名，']],\n",
       " '动词': [['是'], ['叫']],\n",
       " '姓名': [['xhp'], ['bxf']],\n",
       " '来处': [['来自', '学校，']],\n",
       " '学校': [['同济大学'], ['华东师范大学'], ['中南大学']],\n",
       " '主修': [['null'], ['专业是', '专业，']],\n",
       " '专业': [['植物学'], ['采矿工程'], ['土木工程']],\n",
       " '喜欢': [['喜欢'], ['擅长'], ['善于']],\n",
       " '具体爱好*': [['具体爱好', '具体爱好*']]}"
      ]
     },
     "execution_count": 46,
     "metadata": {},
     "output_type": "execute_result"
    }
   ],
   "source": [
    "self_introduction_grammar = create_grammar(self_introduction, split_='=')\n",
    "self_introduction_grammar"
   ]
  },
  {
   "cell_type": "code",
   "execution_count": 1,
   "metadata": {
    "ExecuteTime": {
     "end_time": "2019-06-30T12:49:44.723876Z",
     "start_time": "2019-06-30T12:49:44.546421Z"
    }
   },
   "outputs": [
    {
     "ename": "NameError",
     "evalue": "name 'generate' is not defined",
     "output_type": "error",
     "traceback": [
      "\u001b[1;31m---------------------------------------------------------------------------\u001b[0m",
      "\u001b[1;31mNameError\u001b[0m                                 Traceback (most recent call last)",
      "\u001b[1;32m<ipython-input-1-2ebc38a7ec42>\u001b[0m in \u001b[0;36m<module>\u001b[1;34m\u001b[0m\n\u001b[1;32m----> 1\u001b[1;33m \u001b[0mgenerate\u001b[0m\u001b[1;33m(\u001b[0m\u001b[0mself_introduction_grammar\u001b[0m\u001b[1;33m,\u001b[0m \u001b[1;34m'self_introduction'\u001b[0m\u001b[1;33m)\u001b[0m\u001b[1;33m\u001b[0m\u001b[0m\n\u001b[0m",
      "\u001b[1;31mNameError\u001b[0m: name 'generate' is not defined"
     ]
    }
   ],
   "source": [
    "generate(self_introduction_grammar, 'self_introduction')"
   ]
  },
  {
   "cell_type": "code",
   "execution_count": null,
   "metadata": {},
   "outputs": [],
   "source": []
  }
 ],
 "metadata": {
  "kernelspec": {
   "display_name": "Python 3",
   "language": "python",
   "name": "python3"
  },
  "language_info": {
   "codemirror_mode": {
    "name": "ipython",
    "version": 3
   },
   "file_extension": ".py",
   "mimetype": "text/x-python",
   "name": "python",
   "nbconvert_exporter": "python",
   "pygments_lexer": "ipython3",
   "version": "3.6.6"
  },
  "toc": {
   "base_numbering": 1,
   "nav_menu": {},
   "number_sections": true,
   "sideBar": true,
   "skip_h1_title": false,
   "title_cell": "Table of Contents",
   "title_sidebar": "Contents",
   "toc_cell": false,
   "toc_position": {},
   "toc_section_display": true,
   "toc_window_display": false
  },
  "varInspector": {
   "cols": {
    "lenName": 16,
    "lenType": 16,
    "lenVar": 40
   },
   "kernels_config": {
    "python": {
     "delete_cmd_postfix": "",
     "delete_cmd_prefix": "del ",
     "library": "var_list.py",
     "varRefreshCmd": "print(var_dic_list())"
    },
    "r": {
     "delete_cmd_postfix": ") ",
     "delete_cmd_prefix": "rm(",
     "library": "var_list.r",
     "varRefreshCmd": "cat(var_dic_list()) "
    }
   },
   "types_to_exclude": [
    "module",
    "function",
    "builtin_function_or_method",
    "instance",
    "_Feature"
   ],
   "window_display": false
  }
 },
 "nbformat": 4,
 "nbformat_minor": 2
}
