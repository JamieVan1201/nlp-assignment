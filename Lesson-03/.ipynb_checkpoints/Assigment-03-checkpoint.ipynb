{
 "cells": [
  {
   "cell_type": "markdown",
   "metadata": {},
   "source": [
    "### 1 Review the online programming"
   ]
  },
  {
   "cell_type": "markdown",
   "metadata": {},
   "source": [
    "* Dynamic Programming"
   ]
  },
  {
   "cell_type": "code",
   "execution_count": 8,
   "metadata": {
    "ExecuteTime": {
     "end_time": "2019-07-14T00:39:21.343614Z",
     "start_time": "2019-07-14T00:39:21.339660Z"
    }
   },
   "outputs": [],
   "source": [
    "from collections import defaultdict"
   ]
  },
  {
   "cell_type": "code",
   "execution_count": 9,
   "metadata": {
    "ExecuteTime": {
     "end_time": "2019-07-14T00:39:21.661715Z",
     "start_time": "2019-07-14T00:39:21.654765Z"
    }
   },
   "outputs": [],
   "source": [
    "origin_price = [1, 5, 8, 9, 10, 17, 17, 20, 24, 30, 35]"
   ]
  },
  {
   "cell_type": "code",
   "execution_count": 33,
   "metadata": {
    "ExecuteTime": {
     "end_time": "2019-07-14T01:07:40.734347Z",
     "start_time": "2019-07-14T01:07:40.731317Z"
    }
   },
   "outputs": [],
   "source": [
    "price = defaultdict(int)\n",
    "for i, p in enumerate(origin_price):\n",
    "    price[i+1] = p"
   ]
  },
  {
   "cell_type": "code",
   "execution_count": 34,
   "metadata": {
    "ExecuteTime": {
     "end_time": "2019-07-14T01:07:42.168619Z",
     "start_time": "2019-07-14T01:07:42.163638Z"
    }
   },
   "outputs": [
    {
     "data": {
      "text/plain": [
       "defaultdict(int,\n",
       "            {1: 1,\n",
       "             2: 5,\n",
       "             3: 8,\n",
       "             4: 9,\n",
       "             5: 10,\n",
       "             6: 17,\n",
       "             7: 17,\n",
       "             8: 20,\n",
       "             9: 24,\n",
       "             10: 30,\n",
       "             11: 35})"
      ]
     },
     "execution_count": 34,
     "metadata": {},
     "output_type": "execute_result"
    }
   ],
   "source": [
    "price"
   ]
  },
  {
   "cell_type": "markdown",
   "metadata": {},
   "source": [
    "* Get the max splitting by enumerate"
   ]
  },
  {
   "cell_type": "code",
   "execution_count": 19,
   "metadata": {
    "ExecuteTime": {
     "end_time": "2019-07-14T00:51:28.164106Z",
     "start_time": "2019-07-14T00:51:28.158126Z"
    }
   },
   "outputs": [],
   "source": [
    "def example(f, arg):\n",
    "    return f(arg)\n",
    "\n",
    "def add_ten(num):\n",
    "    return num + 10\n",
    "\n",
    "def mul_ten(num):\n",
    "    return num * 10"
   ]
  },
  {
   "cell_type": "code",
   "execution_count": 20,
   "metadata": {
    "ExecuteTime": {
     "end_time": "2019-07-14T00:51:28.423778Z",
     "start_time": "2019-07-14T00:51:28.418830Z"
    }
   },
   "outputs": [
    {
     "name": "stdout",
     "output_type": "stream",
     "text": [
      "110\n",
      "1000\n"
     ]
    }
   ],
   "source": [
    "operations = [add_ten, mul_ten]\n",
    "\n",
    "for f in operations:\n",
    "    print(example(f, 100))"
   ]
  },
  {
   "cell_type": "code",
   "execution_count": 21,
   "metadata": {
    "ExecuteTime": {
     "end_time": "2019-07-14T00:51:29.506017Z",
     "start_time": "2019-07-14T00:51:29.501043Z"
    }
   },
   "outputs": [],
   "source": [
    "# functools 库中提供了 partial 方法实现上述功能\n",
    "from functools import partial"
   ]
  },
  {
   "cell_type": "code",
   "execution_count": 22,
   "metadata": {
    "ExecuteTime": {
     "end_time": "2019-07-14T00:56:22.590682Z",
     "start_time": "2019-07-14T00:56:22.585695Z"
    }
   },
   "outputs": [],
   "source": [
    "def add(*args, **kwargs):\n",
    "    print('------------------ this positional arguments ------------------')\n",
    "    for arg in args:\n",
    "        print(arg)\n",
    "        \n",
    "    print('------------------ this keyword arguments ------------------')\n",
    "    for k, v in kwargs.items():\n",
    "        print('{key} = {value}'.format(key=k, value=v))"
   ]
  },
  {
   "cell_type": "code",
   "execution_count": 23,
   "metadata": {
    "ExecuteTime": {
     "end_time": "2019-07-14T00:56:47.255225Z",
     "start_time": "2019-07-14T00:56:47.252233Z"
    }
   },
   "outputs": [
    {
     "name": "stdout",
     "output_type": "stream",
     "text": [
      "------------------ this positional arguments ------------------\n",
      "1\n",
      "2\n",
      "3\n",
      "------------------ this keyword arguments ------------------\n",
      "k1 = 20\n",
      "k2 = 30\n"
     ]
    }
   ],
   "source": [
    "add(1, 2, 3, k1=20, k2=30)"
   ]
  },
  {
   "cell_type": "code",
   "execution_count": 24,
   "metadata": {
    "ExecuteTime": {
     "end_time": "2019-07-14T00:58:02.743975Z",
     "start_time": "2019-07-14T00:58:02.740963Z"
    }
   },
   "outputs": [],
   "source": [
    "super_add = partial(add, 4, 5, k1=100, k2=300)"
   ]
  },
  {
   "cell_type": "code",
   "execution_count": 26,
   "metadata": {
    "ExecuteTime": {
     "end_time": "2019-07-14T00:58:47.238559Z",
     "start_time": "2019-07-14T00:58:47.230581Z"
    }
   },
   "outputs": [
    {
     "name": "stdout",
     "output_type": "stream",
     "text": [
      "------------------ this positional arguments ------------------\n",
      "4\n",
      "5\n",
      "1\n",
      "2\n",
      "3\n",
      "------------------ this keyword arguments ------------------\n",
      "k1 = 100\n",
      "k2 = 400\n",
      "k4 = 1000\n"
     ]
    }
   ],
   "source": [
    "super_add(1, 2, 3, k2=400, k4=1000)"
   ]
  },
  {
   "cell_type": "markdown",
   "metadata": {},
   "source": [
    "* 装饰器"
   ]
  },
  {
   "cell_type": "code",
   "execution_count": 27,
   "metadata": {
    "ExecuteTime": {
     "end_time": "2019-07-14T01:01:29.833661Z",
     "start_time": "2019-07-14T01:01:29.829671Z"
    }
   },
   "outputs": [],
   "source": [
    "call_times = defaultdict(int)\n",
    "\n",
    "def get_call_times(f):\n",
    "    result = f()\n",
    "    print('function: {} called once!'.format(f.__name__))\n",
    "    call_times[f.__name__] += 1\n",
    "    return result"
   ]
  },
  {
   "cell_type": "code",
   "execution_count": 28,
   "metadata": {
    "ExecuteTime": {
     "end_time": "2019-07-14T01:02:36.479114Z",
     "start_time": "2019-07-14T01:02:36.475125Z"
    }
   },
   "outputs": [],
   "source": [
    "def some_function_1(): print('I am function 1')"
   ]
  },
  {
   "cell_type": "code",
   "execution_count": 31,
   "metadata": {
    "ExecuteTime": {
     "end_time": "2019-07-14T01:04:23.415869Z",
     "start_time": "2019-07-14T01:04:23.411880Z"
    }
   },
   "outputs": [
    {
     "name": "stdout",
     "output_type": "stream",
     "text": [
      "I am function 1\n",
      "function: some_function_1 called once!\n"
     ]
    }
   ],
   "source": [
    "get_call_times(some_function_1)"
   ]
  },
  {
   "cell_type": "code",
   "execution_count": 32,
   "metadata": {
    "ExecuteTime": {
     "end_time": "2019-07-14T01:04:23.971261Z",
     "start_time": "2019-07-14T01:04:23.964240Z"
    }
   },
   "outputs": [
    {
     "data": {
      "text/plain": [
       "defaultdict(int, {'some_function_1': 2})"
      ]
     },
     "execution_count": 32,
     "metadata": {},
     "output_type": "execute_result"
    }
   ],
   "source": [
    "call_times"
   ]
  },
  {
   "cell_type": "code",
   "execution_count": 238,
   "metadata": {
    "ExecuteTime": {
     "end_time": "2019-07-14T02:44:17.515207Z",
     "start_time": "2019-07-14T02:44:17.509259Z"
    }
   },
   "outputs": [],
   "source": [
    "call_times_with_args = defaultdict(int)\n",
    "\n",
    "def r(n):\n",
    "    call_times_with_args[(r.__name__, n)] += 1\n",
    "    return max([price[n]] + [r(i) + r(n-i) for i in range(1, n)])"
   ]
  },
  {
   "cell_type": "code",
   "execution_count": 239,
   "metadata": {
    "ExecuteTime": {
     "end_time": "2019-07-14T02:44:23.425146Z",
     "start_time": "2019-07-14T02:44:18.812488Z"
    }
   },
   "outputs": [
    {
     "data": {
      "text/plain": [
       "45"
      ]
     },
     "execution_count": 239,
     "metadata": {},
     "output_type": "execute_result"
    }
   ],
   "source": [
    "r(15)"
   ]
  },
  {
   "cell_type": "code",
   "execution_count": 123,
   "metadata": {
    "ExecuteTime": {
     "end_time": "2019-07-14T02:03:17.708484Z",
     "start_time": "2019-07-14T02:03:17.704457Z"
    }
   },
   "outputs": [],
   "source": [
    "del call_times_with_args"
   ]
  },
  {
   "cell_type": "code",
   "execution_count": 124,
   "metadata": {
    "ExecuteTime": {
     "end_time": "2019-07-14T02:03:19.574722Z",
     "start_time": "2019-07-14T02:03:19.572693Z"
    }
   },
   "outputs": [],
   "source": [
    "from functools import wraps"
   ]
  },
  {
   "cell_type": "code",
   "execution_count": 311,
   "metadata": {
    "ExecuteTime": {
     "end_time": "2019-07-14T05:47:53.844337Z",
     "start_time": "2019-07-14T05:47:53.837395Z"
    }
   },
   "outputs": [],
   "source": [
    "def get_call_times(f):\n",
    "    \"\"\"@ param f is a function\"\"\"\n",
    "    get_call_times.call_times_with_args = defaultdict(int)\n",
    "    @wraps(f)\n",
    "    def wrap(n):\n",
    "        \"\"\"this is wraps\"\"\"\n",
    "        get_call_times.call_times_with_args[(f.__name__, n)] += 1\n",
    "        result = f(n)\n",
    "        return result\n",
    "    return wrap"
   ]
  },
  {
   "cell_type": "code",
   "execution_count": 312,
   "metadata": {
    "ExecuteTime": {
     "end_time": "2019-07-14T05:47:54.428590Z",
     "start_time": "2019-07-14T05:47:54.422492Z"
    }
   },
   "outputs": [],
   "source": [
    "def add_ten(n): \n",
    "    \"\"\"this add ten docs\"\"\"\n",
    "    return n+10"
   ]
  },
  {
   "cell_type": "code",
   "execution_count": 313,
   "metadata": {
    "ExecuteTime": {
     "end_time": "2019-07-14T05:47:54.995719Z",
     "start_time": "2019-07-14T05:47:54.988737Z"
    }
   },
   "outputs": [
    {
     "data": {
      "text/plain": [
       "20"
      ]
     },
     "execution_count": 313,
     "metadata": {},
     "output_type": "execute_result"
    }
   ],
   "source": [
    "add_ten(10)"
   ]
  },
  {
   "cell_type": "code",
   "execution_count": 314,
   "metadata": {
    "ExecuteTime": {
     "end_time": "2019-07-14T05:47:55.480689Z",
     "start_time": "2019-07-14T05:47:55.474708Z"
    }
   },
   "outputs": [
    {
     "data": {
      "text/plain": [
       "'this add ten docs'"
      ]
     },
     "execution_count": 314,
     "metadata": {},
     "output_type": "execute_result"
    }
   ],
   "source": [
    "add_ten.__doc__"
   ]
  },
  {
   "cell_type": "code",
   "execution_count": 315,
   "metadata": {
    "ExecuteTime": {
     "end_time": "2019-07-14T05:47:55.965961Z",
     "start_time": "2019-07-14T05:47:55.961964Z"
    }
   },
   "outputs": [],
   "source": [
    "add_ten = get_call_times(add_ten)"
   ]
  },
  {
   "cell_type": "code",
   "execution_count": 316,
   "metadata": {
    "ExecuteTime": {
     "end_time": "2019-07-14T05:47:57.245951Z",
     "start_time": "2019-07-14T05:47:57.240965Z"
    }
   },
   "outputs": [
    {
     "data": {
      "text/plain": [
       "'this add ten docs'"
      ]
     },
     "execution_count": 316,
     "metadata": {},
     "output_type": "execute_result"
    }
   ],
   "source": [
    "add_ten.__doc__"
   ]
  },
  {
   "cell_type": "code",
   "execution_count": 317,
   "metadata": {
    "ExecuteTime": {
     "end_time": "2019-07-14T05:47:58.345362Z",
     "start_time": "2019-07-14T05:47:58.340375Z"
    }
   },
   "outputs": [
    {
     "data": {
      "text/plain": [
       "defaultdict(int, {('add_ten', 100): 1})"
      ]
     },
     "execution_count": 317,
     "metadata": {},
     "output_type": "execute_result"
    }
   ],
   "source": [
    "add_ten(100)\n",
    "get_call_times.call_times_with_args"
   ]
  },
  {
   "cell_type": "code",
   "execution_count": 279,
   "metadata": {
    "ExecuteTime": {
     "end_time": "2019-07-14T03:01:49.462751Z",
     "start_time": "2019-07-14T03:01:49.458763Z"
    }
   },
   "outputs": [],
   "source": [
    "@get_call_times\n",
    "def add_twenty(n):\n",
    "    \"\"\"this is add twenty doc\"\"\"\n",
    "    return n + 20"
   ]
  },
  {
   "cell_type": "code",
   "execution_count": 280,
   "metadata": {
    "ExecuteTime": {
     "end_time": "2019-07-14T03:01:53.247940Z",
     "start_time": "2019-07-14T03:01:53.242937Z"
    }
   },
   "outputs": [
    {
     "data": {
      "text/plain": [
       "defaultdict(int, {('add_twenty', 100): 1})"
      ]
     },
     "execution_count": 280,
     "metadata": {},
     "output_type": "execute_result"
    }
   ],
   "source": [
    "# add_twenty = get_call_times(add_twenty)\n",
    "add_twenty(100)\n",
    "get_call_times.call_times_with_args"
   ]
  },
  {
   "cell_type": "code",
   "execution_count": 229,
   "metadata": {
    "ExecuteTime": {
     "end_time": "2019-07-14T02:36:49.761740Z",
     "start_time": "2019-07-14T02:36:49.756753Z"
    }
   },
   "outputs": [
    {
     "data": {
      "text/plain": [
       "'this is add twenty doc'"
      ]
     },
     "execution_count": 229,
     "metadata": {},
     "output_type": "execute_result"
    }
   ],
   "source": [
    "add_twenty.__doc__"
   ]
  },
  {
   "cell_type": "code",
   "execution_count": 230,
   "metadata": {
    "ExecuteTime": {
     "end_time": "2019-07-14T02:36:50.902082Z",
     "start_time": "2019-07-14T02:36:50.897060Z"
    }
   },
   "outputs": [
    {
     "data": {
      "text/plain": [
       "'add_ten'"
      ]
     },
     "execution_count": 230,
     "metadata": {},
     "output_type": "execute_result"
    }
   ],
   "source": [
    "add_ten.__name__"
   ]
  },
  {
   "cell_type": "code",
   "execution_count": 231,
   "metadata": {
    "ExecuteTime": {
     "end_time": "2019-07-14T02:36:52.960856Z",
     "start_time": "2019-07-14T02:36:52.956853Z"
    }
   },
   "outputs": [
    {
     "data": {
      "text/plain": [
       "'this add ten docs'"
      ]
     },
     "execution_count": 231,
     "metadata": {},
     "output_type": "execute_result"
    }
   ],
   "source": [
    "add_ten.__doc__"
   ]
  },
  {
   "cell_type": "code",
   "execution_count": 232,
   "metadata": {
    "ExecuteTime": {
     "end_time": "2019-07-14T02:36:57.610109Z",
     "start_time": "2019-07-14T02:36:57.605122Z"
    }
   },
   "outputs": [],
   "source": [
    "@get_call_times\n",
    "def r(n):\n",
    "    return max([price[n]] + [r(i) + r(n-i) for i in range(1, n)])"
   ]
  },
  {
   "cell_type": "code",
   "execution_count": 233,
   "metadata": {
    "ExecuteTime": {
     "end_time": "2019-07-14T02:36:58.988188Z",
     "start_time": "2019-07-14T02:36:58.797698Z"
    }
   },
   "outputs": [
    {
     "data": {
      "text/plain": [
       "36"
      ]
     },
     "execution_count": 233,
     "metadata": {},
     "output_type": "execute_result"
    }
   ],
   "source": [
    "r(12)"
   ]
  },
  {
   "cell_type": "code",
   "execution_count": 234,
   "metadata": {
    "ExecuteTime": {
     "end_time": "2019-07-14T02:37:07.883845Z",
     "start_time": "2019-07-14T02:37:07.877864Z"
    }
   },
   "outputs": [
    {
     "data": {
      "text/plain": [
       "defaultdict(int,\n",
       "            {('add_ten', 100): 1,\n",
       "             ('add_twenty', 100): 1,\n",
       "             ('r', 12): 1,\n",
       "             ('r', 1): 118098,\n",
       "             ('r', 11): 2,\n",
       "             ('r', 10): 6,\n",
       "             ('r', 9): 18,\n",
       "             ('r', 8): 54,\n",
       "             ('r', 7): 162,\n",
       "             ('r', 6): 486,\n",
       "             ('r', 5): 1458,\n",
       "             ('r', 4): 4374,\n",
       "             ('r', 3): 13122,\n",
       "             ('r', 2): 39366})"
      ]
     },
     "execution_count": 234,
     "metadata": {},
     "output_type": "execute_result"
    }
   ],
   "source": [
    "call_times_with_args"
   ]
  },
  {
   "cell_type": "code",
   "execution_count": 259,
   "metadata": {
    "ExecuteTime": {
     "end_time": "2019-07-14T02:58:05.944998Z",
     "start_time": "2019-07-14T02:58:05.940009Z"
    }
   },
   "outputs": [],
   "source": [
    "def memo(f):\n",
    "    memo.cache = defaultdict(int)\n",
    "    @wraps(f)\n",
    "    def wrap(n):\n",
    "        if n in memo.cache:\n",
    "            return memo.cache[n]\n",
    "        else:\n",
    "            res = f(n)\n",
    "            memo.cache[n] = res\n",
    "            return res\n",
    "    return wrap"
   ]
  },
  {
   "cell_type": "code",
   "execution_count": 318,
   "metadata": {
    "ExecuteTime": {
     "end_time": "2019-07-14T05:48:25.509100Z",
     "start_time": "2019-07-14T05:48:25.501330Z"
    }
   },
   "outputs": [],
   "source": [
    "solutions = {}\n",
    "\n",
    "@get_call_times\n",
    "@memo\n",
    "def r(n):\n",
    "    max_price, max_split = max([(price[n], 0)] + [(r(i) + r(n-i), i) for i in range(1, n)])\n",
    "    solutions[n] = (max_split, n-max_split)\n",
    "    return max_price"
   ]
  },
  {
   "cell_type": "code",
   "execution_count": 319,
   "metadata": {
    "ExecuteTime": {
     "end_time": "2019-07-14T05:48:25.934391Z",
     "start_time": "2019-07-14T05:48:25.929444Z"
    }
   },
   "outputs": [
    {
     "data": {
      "text/plain": [
       "106"
      ]
     },
     "execution_count": 319,
     "metadata": {},
     "output_type": "execute_result"
    }
   ],
   "source": [
    "r(34)"
   ]
  },
  {
   "cell_type": "code",
   "execution_count": 320,
   "metadata": {
    "ExecuteTime": {
     "end_time": "2019-07-14T05:48:27.823401Z",
     "start_time": "2019-07-14T05:48:27.813455Z"
    }
   },
   "outputs": [
    {
     "data": {
      "text/plain": [
       "defaultdict(int,\n",
       "            {('r', 34): 1,\n",
       "             ('r', 1): 66,\n",
       "             ('r', 33): 2,\n",
       "             ('r', 32): 4,\n",
       "             ('r', 31): 6,\n",
       "             ('r', 30): 8,\n",
       "             ('r', 29): 10,\n",
       "             ('r', 28): 12,\n",
       "             ('r', 27): 14,\n",
       "             ('r', 26): 16,\n",
       "             ('r', 25): 18,\n",
       "             ('r', 24): 20,\n",
       "             ('r', 23): 22,\n",
       "             ('r', 22): 24,\n",
       "             ('r', 21): 26,\n",
       "             ('r', 20): 28,\n",
       "             ('r', 19): 30,\n",
       "             ('r', 18): 32,\n",
       "             ('r', 17): 34,\n",
       "             ('r', 16): 36,\n",
       "             ('r', 15): 38,\n",
       "             ('r', 14): 40,\n",
       "             ('r', 13): 42,\n",
       "             ('r', 12): 44,\n",
       "             ('r', 11): 46,\n",
       "             ('r', 10): 48,\n",
       "             ('r', 9): 50,\n",
       "             ('r', 8): 52,\n",
       "             ('r', 7): 54,\n",
       "             ('r', 6): 56,\n",
       "             ('r', 5): 58,\n",
       "             ('r', 4): 60,\n",
       "             ('r', 3): 62,\n",
       "             ('r', 2): 64})"
      ]
     },
     "execution_count": 320,
     "metadata": {},
     "output_type": "execute_result"
    }
   ],
   "source": [
    "get_call_times.call_times_with_args"
   ]
  },
  {
   "cell_type": "code",
   "execution_count": 301,
   "metadata": {
    "ExecuteTime": {
     "end_time": "2019-07-14T03:21:35.591871Z",
     "start_time": "2019-07-14T03:21:35.577910Z"
    }
   },
   "outputs": [
    {
     "data": {
      "text/plain": [
       "defaultdict(int,\n",
       "            {1: 1,\n",
       "             2: 5,\n",
       "             3: 8,\n",
       "             4: 10,\n",
       "             5: 13,\n",
       "             6: 17,\n",
       "             7: 18,\n",
       "             8: 22,\n",
       "             9: 25,\n",
       "             10: 30,\n",
       "             11: 35,\n",
       "             12: 36,\n",
       "             13: 40,\n",
       "             14: 43,\n",
       "             15: 45,\n",
       "             16: 48,\n",
       "             17: 52,\n",
       "             18: 53,\n",
       "             19: 57,\n",
       "             20: 60,\n",
       "             21: 65,\n",
       "             22: 70,\n",
       "             23: 71,\n",
       "             24: 75,\n",
       "             25: 78,\n",
       "             26: 80,\n",
       "             27: 83,\n",
       "             28: 87,\n",
       "             29: 88,\n",
       "             30: 92,\n",
       "             31: 95,\n",
       "             32: 100,\n",
       "             33: 105,\n",
       "             34: 106,\n",
       "             35: 110,\n",
       "             36: 113,\n",
       "             37: 115,\n",
       "             38: 118,\n",
       "             39: 122,\n",
       "             40: 123,\n",
       "             41: 127,\n",
       "             42: 130,\n",
       "             43: 135,\n",
       "             44: 140,\n",
       "             45: 141,\n",
       "             46: 145,\n",
       "             47: 148,\n",
       "             48: 150,\n",
       "             49: 153,\n",
       "             50: 157,\n",
       "             51: 158,\n",
       "             52: 162,\n",
       "             53: 165,\n",
       "             54: 170,\n",
       "             55: 175,\n",
       "             56: 176,\n",
       "             57: 180,\n",
       "             58: 183,\n",
       "             59: 185,\n",
       "             60: 188,\n",
       "             61: 192,\n",
       "             62: 193,\n",
       "             63: 197,\n",
       "             64: 200,\n",
       "             65: 205,\n",
       "             66: 210,\n",
       "             67: 211,\n",
       "             68: 215,\n",
       "             69: 218,\n",
       "             70: 220,\n",
       "             71: 223,\n",
       "             72: 227,\n",
       "             73: 228,\n",
       "             74: 232,\n",
       "             75: 235,\n",
       "             76: 240,\n",
       "             77: 245,\n",
       "             78: 246,\n",
       "             79: 250,\n",
       "             80: 253,\n",
       "             81: 255,\n",
       "             82: 258,\n",
       "             83: 262,\n",
       "             84: 263,\n",
       "             85: 267,\n",
       "             86: 270,\n",
       "             87: 275,\n",
       "             88: 280,\n",
       "             89: 281,\n",
       "             90: 285,\n",
       "             91: 288,\n",
       "             92: 290,\n",
       "             93: 293,\n",
       "             94: 297,\n",
       "             95: 298,\n",
       "             96: 302,\n",
       "             97: 305,\n",
       "             98: 310,\n",
       "             99: 315,\n",
       "             100: 316,\n",
       "             101: 320,\n",
       "             102: 323,\n",
       "             103: 325,\n",
       "             104: 328,\n",
       "             105: 332,\n",
       "             106: 333,\n",
       "             107: 337,\n",
       "             108: 340,\n",
       "             109: 345,\n",
       "             110: 350,\n",
       "             111: 351,\n",
       "             112: 355,\n",
       "             113: 358,\n",
       "             114: 360,\n",
       "             115: 363,\n",
       "             116: 367,\n",
       "             117: 368,\n",
       "             118: 372,\n",
       "             119: 375,\n",
       "             120: 380,\n",
       "             121: 385,\n",
       "             122: 386,\n",
       "             123: 390,\n",
       "             124: 393,\n",
       "             125: 395,\n",
       "             126: 398,\n",
       "             127: 402,\n",
       "             128: 403,\n",
       "             129: 407,\n",
       "             130: 410,\n",
       "             131: 415,\n",
       "             132: 420,\n",
       "             133: 421,\n",
       "             134: 425,\n",
       "             135: 428,\n",
       "             136: 430,\n",
       "             137: 433,\n",
       "             138: 437,\n",
       "             139: 438,\n",
       "             140: 442,\n",
       "             141: 445,\n",
       "             142: 450,\n",
       "             143: 455,\n",
       "             144: 456,\n",
       "             145: 460,\n",
       "             146: 463,\n",
       "             147: 465,\n",
       "             148: 468,\n",
       "             149: 472,\n",
       "             150: 473,\n",
       "             151: 477,\n",
       "             152: 480,\n",
       "             153: 485,\n",
       "             154: 490,\n",
       "             155: 491,\n",
       "             156: 495,\n",
       "             157: 498,\n",
       "             158: 500,\n",
       "             159: 503,\n",
       "             160: 507,\n",
       "             161: 508,\n",
       "             162: 512,\n",
       "             163: 515,\n",
       "             164: 520,\n",
       "             165: 525,\n",
       "             166: 526,\n",
       "             167: 530,\n",
       "             168: 533,\n",
       "             169: 535,\n",
       "             170: 538,\n",
       "             171: 542,\n",
       "             172: 543,\n",
       "             173: 547,\n",
       "             174: 550,\n",
       "             175: 555,\n",
       "             176: 560,\n",
       "             177: 561,\n",
       "             178: 565,\n",
       "             179: 568,\n",
       "             180: 570,\n",
       "             181: 573,\n",
       "             182: 577,\n",
       "             183: 578,\n",
       "             184: 582,\n",
       "             185: 585,\n",
       "             186: 590,\n",
       "             187: 595,\n",
       "             188: 596,\n",
       "             189: 600,\n",
       "             190: 603,\n",
       "             191: 605,\n",
       "             192: 608,\n",
       "             193: 612,\n",
       "             194: 613,\n",
       "             195: 617,\n",
       "             196: 620,\n",
       "             197: 625,\n",
       "             198: 630,\n",
       "             199: 631,\n",
       "             200: 635,\n",
       "             201: 638,\n",
       "             202: 640,\n",
       "             203: 643,\n",
       "             204: 647,\n",
       "             205: 648,\n",
       "             206: 652,\n",
       "             207: 655,\n",
       "             208: 660,\n",
       "             209: 665,\n",
       "             210: 666,\n",
       "             211: 670,\n",
       "             212: 673,\n",
       "             213: 675,\n",
       "             214: 678,\n",
       "             215: 682,\n",
       "             216: 683,\n",
       "             217: 687,\n",
       "             218: 690,\n",
       "             219: 695,\n",
       "             220: 700,\n",
       "             221: 701,\n",
       "             222: 705,\n",
       "             223: 708,\n",
       "             224: 710,\n",
       "             225: 713,\n",
       "             226: 717,\n",
       "             227: 718,\n",
       "             228: 722,\n",
       "             229: 725,\n",
       "             230: 730,\n",
       "             231: 735,\n",
       "             232: 736,\n",
       "             233: 740,\n",
       "             234: 743})"
      ]
     },
     "execution_count": 301,
     "metadata": {},
     "output_type": "execute_result"
    }
   ],
   "source": [
    "memo.cache"
   ]
  },
  {
   "cell_type": "code",
   "execution_count": 302,
   "metadata": {
    "ExecuteTime": {
     "end_time": "2019-07-14T03:21:36.295676Z",
     "start_time": "2019-07-14T03:21:36.281715Z"
    }
   },
   "outputs": [
    {
     "data": {
      "text/plain": [
       "{1: (0, 1),\n",
       " 2: (0, 2),\n",
       " 3: (0, 3),\n",
       " 4: (2, 2),\n",
       " 5: (3, 2),\n",
       " 6: (0, 6),\n",
       " 7: (6, 1),\n",
       " 8: (6, 2),\n",
       " 9: (6, 3),\n",
       " 10: (0, 10),\n",
       " 11: (0, 11),\n",
       " 12: (11, 1),\n",
       " 13: (11, 2),\n",
       " 14: (11, 3),\n",
       " 15: (13, 2),\n",
       " 16: (14, 2),\n",
       " 17: (11, 6),\n",
       " 18: (17, 1),\n",
       " 19: (17, 2),\n",
       " 20: (17, 3),\n",
       " 21: (11, 10),\n",
       " 22: (11, 11),\n",
       " 23: (22, 1),\n",
       " 24: (22, 2),\n",
       " 25: (22, 3),\n",
       " 26: (24, 2),\n",
       " 27: (25, 2),\n",
       " 28: (22, 6),\n",
       " 29: (28, 1),\n",
       " 30: (28, 2),\n",
       " 31: (28, 3),\n",
       " 32: (22, 10),\n",
       " 33: (22, 11),\n",
       " 34: (33, 1),\n",
       " 35: (33, 2),\n",
       " 36: (33, 3),\n",
       " 37: (35, 2),\n",
       " 38: (36, 2),\n",
       " 39: (33, 6),\n",
       " 40: (39, 1),\n",
       " 41: (39, 2),\n",
       " 42: (39, 3),\n",
       " 43: (33, 10),\n",
       " 44: (33, 11),\n",
       " 45: (44, 1),\n",
       " 46: (44, 2),\n",
       " 47: (44, 3),\n",
       " 48: (46, 2),\n",
       " 49: (47, 2),\n",
       " 50: (44, 6),\n",
       " 51: (50, 1),\n",
       " 52: (50, 2),\n",
       " 53: (50, 3),\n",
       " 54: (44, 10),\n",
       " 55: (44, 11),\n",
       " 56: (55, 1),\n",
       " 57: (55, 2),\n",
       " 58: (55, 3),\n",
       " 59: (57, 2),\n",
       " 60: (58, 2),\n",
       " 61: (55, 6),\n",
       " 62: (61, 1),\n",
       " 63: (61, 2),\n",
       " 64: (61, 3),\n",
       " 65: (55, 10),\n",
       " 66: (55, 11),\n",
       " 67: (66, 1),\n",
       " 68: (66, 2),\n",
       " 69: (66, 3),\n",
       " 70: (68, 2),\n",
       " 71: (69, 2),\n",
       " 72: (66, 6),\n",
       " 73: (72, 1),\n",
       " 74: (72, 2),\n",
       " 75: (72, 3),\n",
       " 76: (66, 10),\n",
       " 77: (66, 11),\n",
       " 78: (77, 1),\n",
       " 79: (77, 2),\n",
       " 80: (77, 3),\n",
       " 81: (79, 2),\n",
       " 82: (80, 2),\n",
       " 83: (77, 6),\n",
       " 84: (83, 1),\n",
       " 85: (83, 2),\n",
       " 86: (83, 3),\n",
       " 87: (77, 10),\n",
       " 88: (77, 11),\n",
       " 89: (88, 1),\n",
       " 90: (88, 2),\n",
       " 91: (88, 3),\n",
       " 92: (90, 2),\n",
       " 93: (91, 2),\n",
       " 94: (88, 6),\n",
       " 95: (94, 1),\n",
       " 96: (94, 2),\n",
       " 97: (94, 3),\n",
       " 98: (88, 10),\n",
       " 99: (88, 11),\n",
       " 100: (99, 1),\n",
       " 101: (99, 2),\n",
       " 102: (99, 3),\n",
       " 103: (101, 2),\n",
       " 104: (102, 2),\n",
       " 105: (99, 6),\n",
       " 106: (105, 1),\n",
       " 107: (105, 2),\n",
       " 108: (105, 3),\n",
       " 109: (99, 10),\n",
       " 110: (99, 11),\n",
       " 111: (110, 1),\n",
       " 112: (110, 2),\n",
       " 113: (110, 3),\n",
       " 114: (112, 2),\n",
       " 115: (113, 2),\n",
       " 116: (110, 6),\n",
       " 117: (116, 1),\n",
       " 118: (116, 2),\n",
       " 119: (116, 3),\n",
       " 120: (110, 10),\n",
       " 121: (110, 11),\n",
       " 122: (121, 1),\n",
       " 123: (121, 2),\n",
       " 124: (121, 3),\n",
       " 125: (123, 2),\n",
       " 126: (124, 2),\n",
       " 127: (121, 6),\n",
       " 128: (127, 1),\n",
       " 129: (127, 2),\n",
       " 130: (127, 3),\n",
       " 131: (121, 10),\n",
       " 132: (121, 11),\n",
       " 133: (132, 1),\n",
       " 134: (132, 2),\n",
       " 135: (132, 3),\n",
       " 136: (134, 2),\n",
       " 137: (135, 2),\n",
       " 138: (132, 6),\n",
       " 139: (138, 1),\n",
       " 140: (138, 2),\n",
       " 141: (138, 3),\n",
       " 142: (132, 10),\n",
       " 143: (132, 11),\n",
       " 144: (143, 1),\n",
       " 145: (143, 2),\n",
       " 146: (143, 3),\n",
       " 147: (145, 2),\n",
       " 148: (146, 2),\n",
       " 149: (143, 6),\n",
       " 150: (149, 1),\n",
       " 151: (149, 2),\n",
       " 152: (149, 3),\n",
       " 153: (143, 10),\n",
       " 154: (143, 11),\n",
       " 155: (154, 1),\n",
       " 156: (154, 2),\n",
       " 157: (154, 3),\n",
       " 158: (156, 2),\n",
       " 159: (157, 2),\n",
       " 160: (154, 6),\n",
       " 161: (160, 1),\n",
       " 162: (160, 2),\n",
       " 163: (160, 3),\n",
       " 164: (154, 10),\n",
       " 165: (154, 11),\n",
       " 166: (165, 1),\n",
       " 167: (165, 2),\n",
       " 168: (165, 3),\n",
       " 169: (167, 2),\n",
       " 170: (168, 2),\n",
       " 171: (165, 6),\n",
       " 172: (171, 1),\n",
       " 173: (171, 2),\n",
       " 174: (171, 3),\n",
       " 175: (165, 10),\n",
       " 176: (165, 11),\n",
       " 177: (176, 1),\n",
       " 178: (176, 2),\n",
       " 179: (176, 3),\n",
       " 180: (178, 2),\n",
       " 181: (179, 2),\n",
       " 182: (176, 6),\n",
       " 183: (182, 1),\n",
       " 184: (182, 2),\n",
       " 185: (182, 3),\n",
       " 186: (176, 10),\n",
       " 187: (176, 11),\n",
       " 188: (187, 1),\n",
       " 189: (187, 2),\n",
       " 190: (187, 3),\n",
       " 191: (189, 2),\n",
       " 192: (190, 2),\n",
       " 193: (187, 6),\n",
       " 194: (193, 1),\n",
       " 195: (193, 2),\n",
       " 196: (193, 3),\n",
       " 197: (187, 10),\n",
       " 198: (187, 11),\n",
       " 199: (198, 1),\n",
       " 200: (198, 2),\n",
       " 201: (198, 3),\n",
       " 202: (200, 2),\n",
       " 203: (201, 2),\n",
       " 204: (198, 6),\n",
       " 205: (204, 1),\n",
       " 206: (204, 2),\n",
       " 207: (204, 3),\n",
       " 208: (198, 10),\n",
       " 209: (198, 11),\n",
       " 210: (209, 1),\n",
       " 211: (209, 2),\n",
       " 212: (209, 3),\n",
       " 213: (211, 2),\n",
       " 214: (212, 2),\n",
       " 215: (209, 6),\n",
       " 216: (215, 1),\n",
       " 217: (215, 2),\n",
       " 218: (215, 3),\n",
       " 219: (209, 10),\n",
       " 220: (209, 11),\n",
       " 221: (220, 1),\n",
       " 222: (220, 2),\n",
       " 223: (220, 3),\n",
       " 224: (222, 2),\n",
       " 225: (223, 2),\n",
       " 226: (220, 6),\n",
       " 227: (226, 1),\n",
       " 228: (226, 2),\n",
       " 229: (226, 3),\n",
       " 230: (220, 10),\n",
       " 231: (220, 11),\n",
       " 232: (231, 1),\n",
       " 233: (231, 2),\n",
       " 234: (231, 3)}"
      ]
     },
     "execution_count": 302,
     "metadata": {},
     "output_type": "execute_result"
    }
   ],
   "source": [
    "solutions"
   ]
  },
  {
   "cell_type": "code",
   "execution_count": 303,
   "metadata": {
    "ExecuteTime": {
     "end_time": "2019-07-14T03:21:37.186656Z",
     "start_time": "2019-07-14T03:21:37.182555Z"
    }
   },
   "outputs": [],
   "source": [
    "def parse_solution(n):\n",
    "    left_split, right_split = solutions[n]\n",
    "    if left_split == 0: return [right_split]\n",
    "    return parse_solution(left_split) + parse_solution(right_split)"
   ]
  },
  {
   "cell_type": "code",
   "execution_count": 305,
   "metadata": {
    "ExecuteTime": {
     "end_time": "2019-07-14T03:21:52.734858Z",
     "start_time": "2019-07-14T03:21:52.729872Z"
    }
   },
   "outputs": [
    {
     "data": {
      "text/plain": [
       "[11,\n",
       " 11,\n",
       " 11,\n",
       " 11,\n",
       " 11,\n",
       " 11,\n",
       " 11,\n",
       " 11,\n",
       " 11,\n",
       " 11,\n",
       " 11,\n",
       " 11,\n",
       " 11,\n",
       " 11,\n",
       " 11,\n",
       " 11,\n",
       " 11,\n",
       " 11,\n",
       " 11,\n",
       " 11,\n",
       " 11,\n",
       " 3]"
      ]
     },
     "execution_count": 305,
     "metadata": {},
     "output_type": "execute_result"
    }
   ],
   "source": [
    "parse_solution(234)"
   ]
  },
  {
   "cell_type": "markdown",
   "metadata": {},
   "source": [
    "### 2 change loss function from $loss = \\frac{1}{n}\\sum{(y_i - \\hat(y_i))^2}$ to $loss = \\frac{1}{n}\\sum{|y_i - \\hat{y_i}|}$, and using your mathmatical knowledge to get the right partial formual. Implemen the gradient descent code."
   ]
  },
  {
   "cell_type": "code",
   "execution_count": 4,
   "metadata": {
    "ExecuteTime": {
     "end_time": "2019-07-16T00:24:23.566171Z",
     "start_time": "2019-07-16T00:24:22.298216Z"
    }
   },
   "outputs": [],
   "source": [
    "from sklearn.datasets import load_boston\n",
    "import matplotlib.pyplot as plt\n",
    "import numpy as np\n",
    "%matplotlib inline"
   ]
  },
  {
   "cell_type": "code",
   "execution_count": 2,
   "metadata": {
    "ExecuteTime": {
     "end_time": "2019-07-14T23:48:28.130316Z",
     "start_time": "2019-07-14T23:48:28.113363Z"
    }
   },
   "outputs": [
    {
     "data": {
      "text/plain": [
       "((506, 13), (506,))"
      ]
     },
     "execution_count": 2,
     "metadata": {},
     "output_type": "execute_result"
    }
   ],
   "source": [
    "data = load_boston()\n",
    "X, y = data['data'], data['target']\n",
    "X.shape, y.shape"
   ]
  },
  {
   "cell_type": "code",
   "execution_count": 3,
   "metadata": {
    "ExecuteTime": {
     "end_time": "2019-07-14T23:48:28.346011Z",
     "start_time": "2019-07-14T23:48:28.164398Z"
    }
   },
   "outputs": [
    {
     "data": {
      "text/plain": [
       "<matplotlib.collections.PathCollection at 0x16e816077f0>"
      ]
     },
     "execution_count": 3,
     "metadata": {},
     "output_type": "execute_result"
    },
    {
     "data": {
      "image/png": "[encoded data removed]",
      "text/plain": [
       "<Figure size 432x288 with 1 Axes>"
      ]
     },
     "metadata": {
      "needs_background": "light"
     },
     "output_type": "display_data"
    }
   ],
   "source": [
    "x = X[:, 5]\n",
    "plt.scatter(x, y)"
   ]
  },
  {
   "cell_type": "markdown",
   "metadata": {},
   "source": [
    "* mean_absolute_error\n",
    "$$loss=\\frac{1}{n}\\sum \\left| y_i-\\hat{y_i}\\right|$$"
   ]
  },
  {
   "cell_type": "code",
   "execution_count": 4,
   "metadata": {
    "ExecuteTime": {
     "end_time": "2019-07-14T23:48:28.389932Z",
     "start_time": "2019-07-14T23:48:28.386902Z"
    }
   },
   "outputs": [],
   "source": [
    "def mean_absolute_error(y, y_hat):\n",
    "    return np.abs(y - y_hat).sum() / y.size"
   ]
  },
  {
   "cell_type": "markdown",
   "metadata": {},
   "source": [
    "$$\n",
    "\\frac{\\partial loss}{\\partial k}=\n",
    "\\begin{cases}\n",
    "\\frac{1}{n}\\sum-x_i, & y_i > \\hat{y_i} \\\\\n",
    "\\frac{1}{n}\\sum x_i, & y_i < \\hat{y_i}\n",
    "\\end{cases}\\\\\n",
    "$$"
   ]
  },
  {
   "cell_type": "markdown",
   "metadata": {},
   "source": [
    "$$ \\frac{\\partial loss}{\\partial k}=\\frac{1}{n}\\sum sign(\\hat{y_i}-y_i)*x_i \\\\ $$"
   ]
  },
  {
   "cell_type": "markdown",
   "metadata": {
    "ExecuteTime": {
     "end_time": "2019-07-18T00:47:55.935901Z",
     "start_time": "2019-07-18T00:47:55.930915Z"
    }
   },
   "source": [
    "$$ \\frac{\\partial loss}{\\partial b}=\\frac{1}{n}\\sum sign(\\hat{y_i}-y_i) $$"
   ]
  },
  {
   "cell_type": "code",
   "execution_count": 5,
   "metadata": {
    "ExecuteTime": {
     "end_time": "2019-07-14T23:48:29.349861Z",
     "start_time": "2019-07-14T23:48:29.346878Z"
    }
   },
   "outputs": [],
   "source": [
    "def get_y_hat(k, b, x):\n",
    "    return k * x + b"
   ]
  },
  {
   "cell_type": "code",
   "execution_count": 6,
   "metadata": {
    "ExecuteTime": {
     "end_time": "2019-07-14T23:49:07.969812Z",
     "start_time": "2019-07-14T23:49:07.964791Z"
    }
   },
   "outputs": [],
   "source": [
    "def fit(x, y, it=1000, lr=0.001):\n",
    "    current_k = current_b = np.random.random()\n",
    "    for i in range(it):\n",
    "        y_hat = get_y_hat(current_k, current_b, x)\n",
    "        loss = mean_absolute_error(y, y_hat)\n",
    "        if (i+1) % 1000 == 0:\n",
    "            print('iter {it} times, current k is {k} current b is {b} loss is {l}'.format(it=i, k=current_k, b=current_b, l=loss))\n",
    "        y_diff_sign = np.sign(y_hat - y)\n",
    "        current_k -= lr * (y_diff_sign * x).sum() / y.size\n",
    "        current_b -= lr * y_diff_sign.sum() / y.size\n",
    "    return current_k, current_b"
   ]
  },
  {
   "cell_type": "code",
   "execution_count": 7,
   "metadata": {
    "ExecuteTime": {
     "end_time": "2019-07-14T23:49:08.887147Z",
     "start_time": "2019-07-14T23:49:08.768116Z"
    }
   },
   "outputs": [
    {
     "name": "stdout",
     "output_type": "stream",
     "text": [
      "iter 999 times, current k is 4.013949862999181 current b is -3.1127760263288895 loss is 5.281186072236348\n",
      "iter 1999 times, current k is 4.655907175252148 current b is -7.047163378107639 loss is 5.12220856338476\n",
      "iter 2999 times, current k is 5.240704013196792 current b is -10.600918318818959 loss is 4.992404937489689\n",
      "iter 3999 times, current k is 5.777035238493323 current b is -13.860206856368448 loss is 4.883188366928867\n",
      "iter 4999 times, current k is 6.253671206872769 current b is -16.814752310914034 loss is 4.793609294034879\n"
     ]
    }
   ],
   "source": [
    "best_k, best_b = fit(x, y, 5000, 0.1)"
   ]
  },
  {
   "cell_type": "code",
   "execution_count": 8,
   "metadata": {
    "ExecuteTime": {
     "end_time": "2019-07-14T23:49:11.359524Z",
     "start_time": "2019-07-14T23:49:11.235817Z"
    }
   },
   "outputs": [
    {
     "data": {
      "image/png": "[encoded data removed]",
      "text/plain": [
       "<Figure size 432x288 with 1 Axes>"
      ]
     },
     "metadata": {
      "needs_background": "light"
     },
     "output_type": "display_data"
    }
   ],
   "source": [
    "y_hat = get_y_hat(best_k, best_b, x)\n",
    "plt.plot(x, y_hat, color='r');\n",
    "plt.scatter(x, y);"
   ]
  },
  {
   "cell_type": "code",
   "execution_count": 9,
   "metadata": {
    "ExecuteTime": {
     "end_time": "2019-07-14T23:49:15.272217Z",
     "start_time": "2019-07-14T23:49:12.189112Z"
    },
    "scrolled": false
   },
   "outputs": [
    {
     "name": "stdout",
     "output_type": "stream",
     "text": [
      "iter 999 times, current k is 3.344676575498842 current b is 0.9917366249059861 loss is 5.464792707864854\n",
      "iter 999 times, current k is 3.9464872532222293 current b is -2.711858774445742 loss is 5.297838555465131\n",
      "iter 999 times, current k is 4.692187931537848 current b is -7.079214044746693 loss is 5.126140273818201\n",
      "iter 999 times, current k is 6.208401039342874 current b is -9.165422083186716 loss is 8.656452217845484\n",
      "iter 999 times, current k is 3.3422820727061207 current b is 1.0056858177654486 loss is 5.465439989504024\n",
      "iter 1999 times, current k is 3.381686519346506 current b is 0.7804881893069392 loss is 5.454986461684694\n",
      "iter 999 times, current k is 3.986549900250255 current b is -2.9438625701054746 loss is 5.288189830930589\n",
      "iter 1999 times, current k is 4.56627511764164 current b is -6.505799328998749 loss is 5.143454898509107\n",
      "iter 999 times, current k is 4.744870249994895 current b is -7.452606825103884 loss is 5.109296483685241\n",
      "iter 1999 times, current k is 5.845218076081754 current b is -14.19489931522258 loss is 4.873960483069824\n",
      "iter 999 times, current k is 6.212398785255445 current b is -9.160062677195091 loss is 8.68010806718393\n",
      "iter 1999 times, current k is 7.220410642962975 current b is -15.294450028973772 loss is 8.685974965212484\n",
      "iter 999 times, current k is 3.452562150216546 current b is 0.3633815672125924 loss is 5.435660402449972\n",
      "iter 1999 times, current k is 3.4893787510070275 current b is 0.13828275298333464 loss is 5.425255989598062\n",
      "iter 2999 times, current k is 3.5240046798607905 current b is -0.0866974841708142 loss is 5.414892805878507\n",
      "iter 3999 times, current k is 3.561388612667031 current b is -0.3092271284395946 loss is 5.404708616124734\n",
      "iter 999 times, current k is 3.990950320168236 current b is -2.965681675879197 loss is 5.287278323570015\n",
      "iter 1999 times, current k is 4.569702256927208 current b is -6.526551241096579 loss is 5.142640455746524\n",
      "iter 2999 times, current k is 5.1118345098914775 current b is -9.784337802361158 loss is 5.0213112999873175\n",
      "iter 3999 times, current k is 5.60366707906138 current b is -12.8091204110567 loss is 4.916904985493812\n",
      "iter 999 times, current k is 4.653578973391297 current b is -7.214339208426845 loss is 5.120313440295024\n",
      "iter 1999 times, current k is 5.81892205639515 current b is -13.99536687641116 loss is 4.881700846245607\n",
      "iter 2999 times, current k is 6.699849329122362 current b is -19.606434070087165 loss is 4.717445964730552\n",
      "iter 3999 times, current k is 7.509171068252723 current b is -24.449121817123146 loss is 4.596374534244778\n",
      "iter 999 times, current k is 6.201728785623612 current b is -9.132837419909917 loss is 8.65012847895499\n",
      "iter 1999 times, current k is 7.2157584298924125 current b is -15.271177340858547 loss is 8.681662219334994\n",
      "iter 2999 times, current k is 7.897677402224522 current b is -19.6051694357206 loss is 8.560381421520534\n",
      "iter 3999 times, current k is 8.44365368680969 current b is -23.115050858645393 loss is 8.44036197110154\n",
      "iter 999 times, current k is 3.347838310029764 current b is 0.9735065610179188 loss is 5.463946978001642\n",
      "iter 1999 times, current k is 3.3872427566701493 current b is 0.7483089325594066 loss is 5.453493766485877\n",
      "iter 2999 times, current k is 3.4264610373026216 current b is 0.5231310669467442 loss is 5.443044541886796\n",
      "iter 3999 times, current k is 3.463277638093103 current b is 0.298032252717481 loss is 5.432639964949806\n",
      "iter 4999 times, current k is 3.4999732507412915 current b is 0.07291367564237854 loss is 5.422234838457669\n",
      "iter 999 times, current k is 3.9905306333291444 current b is -2.968308319240028 loss is 5.2871760394006415\n",
      "iter 1999 times, current k is 4.568594230167172 current b is -6.528822153232122 loss is 5.1425568232072045\n",
      "iter 2999 times, current k is 5.111903242024721 current b is -9.78589725204611 loss is 5.021255833506818\n",
      "iter 3999 times, current k is 5.603737234119528 current b is -12.809612667065714 loss is 4.91688905142574\n",
      "iter 4999 times, current k is 6.048262530562287 current b is -15.540205552441094 loss is 4.8318089464830365\n",
      "iter 999 times, current k is 4.719062193310304 current b is -7.2728828659781986 loss is 5.117167323688763\n",
      "iter 1999 times, current k is 5.82919895220349 current b is -14.049167450958567 loss is 4.880419833416783\n",
      "iter 2999 times, current k is 6.704232153784455 current b is -19.652329506294684 loss is 4.716232892972218\n",
      "iter 3999 times, current k is 7.516417924535373 current b is -24.486321601156728 loss is 4.595650933816828\n",
      "iter 4999 times, current k is 8.107593418606474 current b is -28.233357174279494 loss is 4.523348002674126\n",
      "iter 999 times, current k is 6.200863598993168 current b is -9.126856756737988 loss is 8.650710054145751\n",
      "iter 1999 times, current k is 7.215156089111778 current b is -15.2671729622716 loss is 8.681926540882438\n",
      "iter 2999 times, current k is 7.89833988357827 current b is -19.607093910888597 loss is 8.562159345936863\n",
      "iter 3999 times, current k is 8.440762808479644 current b is -23.116975333813397 loss is 8.423917000976775\n",
      "iter 4999 times, current k is 8.847049369744735 current b is -25.49444568954354 loss is 8.539254259713845\n"
     ]
    },
    {
     "data": {
      "image/png": "[encoded data removed]",
      "text/plain": [
       "<Figure size 1008x720 with 16 Axes>"
      ]
     },
     "metadata": {
      "needs_background": "light"
     },
     "output_type": "display_data"
    }
   ],
   "source": [
    "params = [(it, lr) for it in [1000, 2000, 4000, 5000] for lr in [0.005, 0.09, 0.2, 0.5]]\n",
    "fig, axs = plt.subplots(4, 4, figsize=(14, 10))\n",
    "for ax, (it, lr) in zip(axs.flatten(), params):\n",
    "    k, b = fit(x, y, it=it, lr=lr)\n",
    "    y_hat = get_y_hat(k, b, x)\n",
    "    loss = mean_absolute_error(y, y_hat)\n",
    "    title = \"it={it}, lr={lr}, loss={loss:.3f}\".format(it=it, lr=lr, loss=loss)\n",
    "    ax.set_title(title)\n",
    "    ax.scatter(x, y);\n",
    "    ax.plot(x, y_hat, color='red');\n",
    "fig.tight_layout()"
   ]
  },
  {
   "cell_type": "markdown",
   "metadata": {},
   "source": [
    "### 3 Part 3: Finish the Solution Parse Part of Edit-Distance"
   ]
  },
  {
   "cell_type": "code",
   "execution_count": 1,
   "metadata": {
    "ExecuteTime": {
     "end_time": "2019-07-21T00:11:35.449340Z",
     "start_time": "2019-07-21T00:11:35.446345Z"
    }
   },
   "outputs": [],
   "source": [
    "from typing import Tuple, List\n",
    "from functools import lru_cache"
   ]
  },
  {
   "cell_type": "code",
   "execution_count": 2,
   "metadata": {
    "ExecuteTime": {
     "end_time": "2019-07-21T00:11:35.656965Z",
     "start_time": "2019-07-21T00:11:35.647095Z"
    }
   },
   "outputs": [],
   "source": [
    "def edit_distance(str1: str, str2: str) -> int:\n",
    "    \"\"\"Self-thinking\"\"\"\n",
    "    distance = float('inf')\n",
    "    @lru_cache(maxsize=2**10)\n",
    "    def helper(str1, str2, dist):\n",
    "        nonlocal distance\n",
    "        if not str1 and not str2:\n",
    "            distance = min(dist, distance)\n",
    "            return\n",
    "        if not str1:\n",
    "            distance = min(dist+len(str2), distance)\n",
    "            return \n",
    "        if not str2:\n",
    "            distance = min(dist+len(str1), distance)\n",
    "            return\n",
    "        if str1[0] == str2[0]:\n",
    "            helper(str1[1:], str2[1:], dist)\n",
    "        else:\n",
    "            helper(str1, str2[1:], dist+1) # 删除 str2 中的第一个字母\n",
    "            helper(str1[1:], str2[1:], dist+1) # 替换 str2 的第一个字母为 str1 的第一个字母\n",
    "            helper(str1[1:], str2, dist+1) # 将 str1 的第一个字母插入到 str2 的第一个位置\n",
    "    helper(str1, str2, 0)\n",
    "    return distance"
   ]
  },
  {
   "cell_type": "code",
   "execution_count": 4,
   "metadata": {
    "ExecuteTime": {
     "end_time": "2019-07-21T00:15:56.935602Z",
     "start_time": "2019-07-21T00:15:56.929616Z"
    }
   },
   "outputs": [
    {
     "data": {
      "text/plain": [
       "2"
      ]
     },
     "execution_count": 4,
     "metadata": {},
     "output_type": "execute_result"
    }
   ],
   "source": [
    "str1 = 'ago'\n",
    "str2 = 'got'\n",
    "edit_distance(str1, str2)"
   ]
  },
  {
   "cell_type": "code",
   "execution_count": 5,
   "metadata": {
    "ExecuteTime": {
     "end_time": "2019-07-21T00:15:58.993092Z",
     "start_time": "2019-07-21T00:15:58.983119Z"
    }
   },
   "outputs": [],
   "source": [
    "# 记录最佳转换路径\n",
    "def edit_distance(str1: str, str2: str) -> Tuple[int, str]:\n",
    "    \"\"\"Self-thinking\"\"\"\n",
    "    distance = float('inf')\n",
    "    best_route = ''\n",
    "    def helper(str1: str, str2: str, dist: int, tmp: List[str]) -> None:\n",
    "        nonlocal distance, best_route\n",
    "        if not str1 and not str2:\n",
    "            if dist < distance:\n",
    "                distance = dist\n",
    "                best_route = '->'.join(tmp)\n",
    "            return\n",
    "        if not str1:\n",
    "            if dist + len(str2) < distance:\n",
    "                distance = dist + len(str2)\n",
    "                best_route = '->'.join(tmp+[str2 + ' ' + str2])\n",
    "            return \n",
    "        if not str2:\n",
    "            if dist + len(str1) < distance:\n",
    "                distance = dist + len(str1)\n",
    "                best_route = '->'.join(tmp+[str1 + ' ' + str1])\n",
    "            return\n",
    "        if str1[0] == str2[0]:\n",
    "            helper(str1[1:], str2[1:], dist, tmp+[str1+' '+str2])\n",
    "        else:\n",
    "            helper(str1, str2[1:], dist+1, tmp+[str1+' '+str2]) # 删除 str2 中的第一个字母\n",
    "            helper(str1[1:], str2[1:], dist+1, tmp+[str1+' '+str2]) # 替换 str2 的第一个字母为 str1 的第一个字母\n",
    "            helper(str1[1:], str2, dist+1, tmp+[str1+' '+str2]) # 将 str1 的第一个字母插入到 str2 的第一个位置\n",
    "    helper(str1, str2, 0, [])\n",
    "    return distance, best_route"
   ]
  },
  {
   "cell_type": "code",
   "execution_count": 6,
   "metadata": {
    "ExecuteTime": {
     "end_time": "2019-07-21T00:16:07.820210Z",
     "start_time": "2019-07-21T00:16:07.814227Z"
    }
   },
   "outputs": [
    {
     "data": {
      "text/plain": [
       "(2, 'ago got->go got->o ot->t t')"
      ]
     },
     "execution_count": 6,
     "metadata": {},
     "output_type": "execute_result"
    }
   ],
   "source": [
    "str1 = 'ago'\n",
    "str2 = 'got'\n",
    "edit_distance(str1, str2)"
   ]
  },
  {
   "cell_type": "markdown",
   "metadata": {},
   "source": [
    "* 老师的做法"
   ]
  },
  {
   "cell_type": "code",
   "execution_count": 18,
   "metadata": {
    "ExecuteTime": {
     "end_time": "2019-07-21T00:33:41.125642Z",
     "start_time": "2019-07-21T00:33:41.116669Z"
    }
   },
   "outputs": [],
   "source": [
    "def edit_distance(string1: str, string2:str) -> int:\n",
    "    solutions = {}\n",
    "    @lru_cache(maxsize=2**10)\n",
    "    def helper(string1: str, string2:str) -> int:\n",
    "        if len(string1) == 0: \n",
    "            solutions[(string1, string2)] = 'ADD ' + string2\n",
    "            return len(string2)\n",
    "        if len(string2) == 0: \n",
    "            solutions[(string1, string2)] = 'DEL ' + string1\n",
    "            return len(string1)\n",
    "\n",
    "        tail_s1 = string1[-1]\n",
    "        tail_s2 = string2[-1]\n",
    "\n",
    "        candidates = [\n",
    "            (helper(string1[:-1], string2) + 1, 'DEL {}'.format(tail_s1)), # 删除 s1 的尾字母\n",
    "            (helper(string1, string2[:-1]) + 1, 'ADD {}'.format(tail_s2)), # 添加 s2 的尾字母到 s1 的尾部\n",
    "        ]\n",
    "\n",
    "        if tail_s1 == tail_s2:\n",
    "            both_forward = (helper(string1[:-1], string2[:-1]), '')\n",
    "        else:\n",
    "            both_forward = (helper(string1[:-1], string2[:-1])+1, 'SUB {} => {}'.format(tail_s1, tail_s2))\n",
    "\n",
    "        candidates.append(both_forward)\n",
    "\n",
    "        min_distance, operation = min(candidates)\n",
    "\n",
    "        solutions[(string1, string2)] = operation\n",
    "\n",
    "        return min_distance\n",
    "    return helper(string1, string2), solutions"
   ]
  },
  {
   "cell_type": "code",
   "execution_count": 19,
   "metadata": {
    "ExecuteTime": {
     "end_time": "2019-07-21T00:33:42.210853Z",
     "start_time": "2019-07-21T00:33:42.206865Z"
    }
   },
   "outputs": [],
   "source": [
    "string1 = 'ago'\n",
    "string2 = 'got'\n",
    "distance, solutions = edit_distance(string1, string2)"
   ]
  },
  {
   "cell_type": "code",
   "execution_count": 20,
   "metadata": {
    "ExecuteTime": {
     "end_time": "2019-07-21T00:33:43.566995Z",
     "start_time": "2019-07-21T00:33:43.562042Z"
    }
   },
   "outputs": [
    {
     "data": {
      "text/plain": [
       "{('', 'got'): 'ADD got',\n",
       " ('', 'go'): 'ADD go',\n",
       " ('', 'g'): 'ADD g',\n",
       " ('a', ''): 'DEL a',\n",
       " ('', ''): 'ADD ',\n",
       " ('a', 'g'): 'SUB a => g',\n",
       " ('a', 'go'): 'ADD o',\n",
       " ('a', 'got'): 'ADD t',\n",
       " ('ag', ''): 'DEL ag',\n",
       " ('ag', 'g'): '',\n",
       " ('ag', 'go'): 'ADD o',\n",
       " ('ag', 'got'): 'ADD t',\n",
       " ('ago', ''): 'DEL ago',\n",
       " ('ago', 'g'): 'DEL o',\n",
       " ('ago', 'go'): '',\n",
       " ('ago', 'got'): 'ADD t'}"
      ]
     },
     "execution_count": 20,
     "metadata": {},
     "output_type": "execute_result"
    }
   ],
   "source": [
    "solutions"
   ]
  },
  {
   "cell_type": "code",
   "execution_count": 21,
   "metadata": {
    "ExecuteTime": {
     "end_time": "2019-07-21T00:33:48.636198Z",
     "start_time": "2019-07-21T00:33:48.629217Z"
    }
   },
   "outputs": [],
   "source": [
    "def parse_solutions(solutions: dict, string1: str, string2: str) -> str:\n",
    "    route = []\n",
    "    def helper(solutions: dict, string1: str, string2: str) -> None:\n",
    "        if not string1 and not string2: return\n",
    "        operation = solutions[(string1, string2)]\n",
    "        route.append('{k}: {v}'.format(k=(string1, string2), v=operation))\n",
    "        if operation.startswith('SUB') or operation == '':\n",
    "            helper(solutions, string1[:-1], string2[:-1])\n",
    "        elif operation.startswith('ADD'):\n",
    "            helper(solutions, string1, string2[:-1])\n",
    "        elif operation.startswith('DEL'):\n",
    "            helper(solutions, string1[:-1], string2)\n",
    "    helper(solutions, string1, string2)\n",
    "    return '->'.join(route)"
   ]
  },
  {
   "cell_type": "code",
   "execution_count": 22,
   "metadata": {
    "ExecuteTime": {
     "end_time": "2019-07-21T00:33:49.317539Z",
     "start_time": "2019-07-21T00:33:49.311557Z"
    }
   },
   "outputs": [
    {
     "data": {
      "text/plain": [
       "\"('ago', 'got'): ADD t->('ago', 'go'): ->('ag', 'g'): ->('a', ''): DEL a\""
      ]
     },
     "execution_count": 22,
     "metadata": {},
     "output_type": "execute_result"
    }
   ],
   "source": [
    "parse_solutions(solutions, string1, string2)"
   ]
  },
  {
   "cell_type": "code",
   "execution_count": 461,
   "metadata": {
    "ExecuteTime": {
     "end_time": "2019-07-14T12:39:45.779064Z",
     "start_time": "2019-07-14T12:39:45.771112Z"
    }
   },
   "outputs": [
    {
     "data": {
      "text/plain": [
       "(3,\n",
       " {('b', 'b'): '',\n",
       "  ('b', 'bi'): 'ADD i',\n",
       "  ('b', 'bie'): 'ADD e',\n",
       "  ('b', 'biej'): 'ADD j',\n",
       "  ('b', 'bieji'): 'ADD i',\n",
       "  ('b', 'biejin'): 'ADD n',\n",
       "  ('be', 'b'): 'DEL e',\n",
       "  ('be', 'bi'): 'SUB e => i',\n",
       "  ('be', 'bie'): '',\n",
       "  ('be', 'biej'): 'ADD j',\n",
       "  ('be', 'bieji'): 'ADD i',\n",
       "  ('be', 'biejin'): 'ADD n',\n",
       "  ('bei', 'b'): 'DEL i',\n",
       "  ('bei', 'bi'): '',\n",
       "  ('bei', 'bie'): 'ADD e',\n",
       "  ('bei', 'biej'): 'SUB i => j',\n",
       "  ('bei', 'bieji'): '',\n",
       "  ('bei', 'biejin'): 'ADD n',\n",
       "  ('beij', 'b'): 'DEL j',\n",
       "  ('beij', 'bi'): 'DEL j',\n",
       "  ('beij', 'bie'): 'SUB j => e',\n",
       "  ('beij', 'biej'): '',\n",
       "  ('beij', 'bieji'): 'ADD i',\n",
       "  ('beij', 'biejin'): 'SUB j => n',\n",
       "  ('beiji', 'b'): 'DEL i',\n",
       "  ('beiji', 'bi'): '',\n",
       "  ('beiji', 'bie'): 'DEL i',\n",
       "  ('beiji', 'biej'): 'DEL i',\n",
       "  ('beiji', 'bieji'): '',\n",
       "  ('beiji', 'biejin'): 'ADD n',\n",
       "  ('beijin', 'b'): 'DEL n',\n",
       "  ('beijin', 'bi'): 'DEL n',\n",
       "  ('beijin', 'bie'): 'DEL n',\n",
       "  ('beijin', 'biej'): 'DEL n',\n",
       "  ('beijin', 'bieji'): 'DEL n',\n",
       "  ('beijin', 'biejin'): '',\n",
       "  ('beijing', 'b'): 'DEL g',\n",
       "  ('beijing', 'bi'): 'DEL g',\n",
       "  ('beijing', 'bie'): 'DEL g',\n",
       "  ('beijing', 'biej'): 'DEL g',\n",
       "  ('beijing', 'bieji'): 'DEL g',\n",
       "  ('beijing', 'biejin'): 'DEL g'})"
      ]
     },
     "execution_count": 461,
     "metadata": {},
     "output_type": "execute_result"
    }
   ],
   "source": [
    "string1 = 'beijing'\n",
    "string2 = 'biejin'\n",
    "dist, solutions = edit_distance(string1, string2)\n",
    "dist, solutions"
   ]
  },
  {
   "cell_type": "code",
   "execution_count": 462,
   "metadata": {
    "ExecuteTime": {
     "end_time": "2019-07-14T12:40:36.673683Z",
     "start_time": "2019-07-14T12:40:36.667699Z"
    }
   },
   "outputs": [
    {
     "data": {
      "text/plain": [
       "\"('beijing', 'biejin'): DEL g->('beijin', 'biejin'): ->('beiji', 'bieji'): ->('beij', 'biej'): ->('bei', 'bie'): ADD e->('bei', 'bi'): ->('be', 'b'): DEL e->('b', 'b'): \""
      ]
     },
     "execution_count": 462,
     "metadata": {},
     "output_type": "execute_result"
    }
   ],
   "source": [
    "parse_solutions(solutions, string1, string2)"
   ]
  },
  {
   "cell_type": "markdown",
   "metadata": {},
   "source": [
    "### 5.1 review machine learning\n",
    "1.Why do we use Derivative / Gradient to fit a target function? <br>\n",
    "Ans: 因为梯度指明了目标函数的增长方向，这也就指明了目标函数朝哪个方向下降最快，那我们的参数通过梯度更新，每一步都在减小目标函数的值，这正是我们希望看到的 <br>  \n",
    "2.In the words 'Gradient Descent', what's the Gradient and what's the Descent? <br>\n",
    "Ans: “梯度”是指目标函数的导数即目标函数增长最快的方向，“下降”指的是参数通过负梯度更新，达到以目标函数减小最快的方向更新参数的目的<br>  \n",
    "3.Using the simple words to describe: What's the machine learning? <br>\n",
    "Ans: 输入数据对和学习方法输出数据对之间的映射关系"
   ]
  },
  {
   "cell_type": "markdown",
   "metadata": {},
   "source": [
    "### 5.2 Answer following questions\n",
    "1.Why do we need dynamic programming? What's the difference of dynamic programming and previous talked search problem? <br>\n",
    "Ans: 动态规划一般用于解决多阶段最优化决策问题，它充分利用了这类问题的几个特点，最优子结构、重复子问题和无后效性；如果不利用这些特征进行暴力搜索，算法复杂度会特别高，效率低下；利用好这几点的动态规划大大减少了计算重复。前面所讲的搜索问题每一步的选择会对后面的选择产生影响，并且如果要在全局上拿到最优解则没有所谓的最优子结构，是在暴力搜索的基础上进行了一定的剪枝 <br>  \n",
    "2.Why do we still need dynamic programming? Why not we train a machine learning to fit a function which could get the right answer based on inputs? <br>\n",
    "Ans: 同一个动态规划问题不同的输入和输出之间不具有一个通用的映射关系 <br>  \n",
    "3.Can you catch up at least 3 problems which could solved by Dynamic Programming? <br>\n",
    "Ans: 最短路径问题、分词问题、编辑距离 <br>  \n",
    "4.Can you catch up at least 3 problems which could solved by Edit Distance? <br>\n",
    "Ans: 语音识别、拼写纠错、评估机器翻译 <br>  \n",
    "5.Please summarize the three main features of Dynamic Programming, and make a concise explain for each feature.<br>\n",
    "Ans: 最优子结构：问题的最优解可由当前阶段的最优解推得；无后效性：在推导后面阶段的状态的时候，只关心前面阶段的状态值，并不关心这个状态怎么来的；某阶段状态一旦确定则不受之后决策阶段的影响；重复子问题：不同的搜索序列中间会存在重复的状态 <br>  \n",
    "6.What's the disadvantages of Dynamic Programming? (You may need search by yourself in Internet) <br>\n",
    "Ans: 没有统一标准的模型，不同的问题不同的解法，只是一类思想；当数据维度较高时，空间复杂度可能会很高"
   ]
  },
  {
   "cell_type": "markdown",
   "metadata": {},
   "source": [
    "### (Optional) Finish the k-person-salesman problem:"
   ]
  },
  {
   "cell_type": "code",
   "execution_count": 1,
   "metadata": {
    "ExecuteTime": {
     "end_time": "2019-07-16T00:24:05.175054Z",
     "start_time": "2019-07-16T00:24:05.171064Z"
    }
   },
   "outputs": [],
   "source": [
    "from copy import deepcopy"
   ]
  },
  {
   "cell_type": "code",
   "execution_count": 5,
   "metadata": {
    "ExecuteTime": {
     "end_time": "2019-07-16T00:24:31.009221Z",
     "start_time": "2019-07-16T00:24:31.001208Z"
    }
   },
   "outputs": [
    {
     "data": {
      "text/plain": [
       "(20, (-88, -7))"
      ]
     },
     "execution_count": 5,
     "metadata": {},
     "output_type": "execute_result"
    }
   ],
   "source": [
    "n = 20\n",
    "longitudes = [np.random.randint(-100, 100) for _ in range(n)]\n",
    "latitudes = [np.random.randint(-100, 100) for _ in range(n)] \n",
    "coordinates = list(zip(longitudes, latitudes))\n",
    "len(coordinates), coordinates[0]"
   ]
  },
  {
   "cell_type": "code",
   "execution_count": 6,
   "metadata": {
    "ExecuteTime": {
     "end_time": "2019-07-16T00:24:32.057499Z",
     "start_time": "2019-07-16T00:24:31.843452Z"
    }
   },
   "outputs": [
    {
     "data": {
      "image/png": "[encoded data removed]",
      "text/plain": [
       "<Figure size 432x288 with 1 Axes>"
      ]
     },
     "metadata": {
      "needs_background": "light"
     },
     "output_type": "display_data"
    }
   ],
   "source": [
    "fig, ax = plt.subplots()\n",
    "ax.scatter(longitudes, latitudes)\n",
    "for i in range(n):\n",
    "    ax.annotate(i, (longitudes[i], latitudes[i]))"
   ]
  },
  {
   "cell_type": "markdown",
   "metadata": {},
   "source": [
    "* 以下参考：https://www.zhihu.com/question/275293660"
   ]
  },
  {
   "cell_type": "code",
   "execution_count": 9,
   "metadata": {
    "ExecuteTime": {
     "end_time": "2019-07-16T00:24:59.372959Z",
     "start_time": "2019-07-16T00:24:59.361026Z"
    }
   },
   "outputs": [],
   "source": [
    "def get_distance(x: tuple, y: tuple) -> float:\n",
    "    return np.sqrt((x[0]-y[0])**2 + (x[-1]-y[-1])**2)\n",
    "\n",
    "def tsp(coordinates: List[Tuple[int, int]], start: int=0) -> np.float64:\n",
    "    length = len(coordinates)\n",
    "    all_distances = {frozenset([i, j]): get_distance(coordinates[i], coordinates[j]) for i in range(length) for j in range(i+1, length)}\n",
    "    opt = [[[i], i, all_distances[frozenset([start, i])]] for i in range(length) if i != start]\n",
    "    while len(opt[0][0]) < length-1:\n",
    "        opt_n = []\n",
    "        for j in range(length):\n",
    "            if j == start: continue\n",
    "            tmp = [None, j, float('inf')]\n",
    "            for visited, cur, dist in opt:\n",
    "                if j in visited: continue\n",
    "                tmp_dist = all_distances[frozenset([cur, j])]\n",
    "                if tmp_dist + dist < tmp[-1]:\n",
    "                    tmp[0] = visited + [j]\n",
    "                    tmp[-1] = tmp_dist + dist\n",
    "            if tmp[0]: opt_n.append(deepcopy(tmp))\n",
    "        opt = opt_n\n",
    "    min_distance = float('inf')\n",
    "    route = None\n",
    "    for visited, cur, dist in opt:\n",
    "        tmp_dist = all_distances[frozenset([cur, start])] + dist\n",
    "        if tmp_dist < min_distance:\n",
    "            min_distance = tmp_dist\n",
    "            route = visited\n",
    "    return min_distance, route"
   ]
  },
  {
   "cell_type": "code",
   "execution_count": 10,
   "metadata": {
    "ExecuteTime": {
     "end_time": "2019-07-16T00:25:00.208253Z",
     "start_time": "2019-07-16T00:25:00.198277Z"
    }
   },
   "outputs": [
    {
     "data": {
      "text/plain": [
       "(914.5460185314396,\n",
       " [5, 1, 13, 3, 9, 18, 8, 6, 2, 16, 11, 19, 10, 15, 14, 12, 7, 17, 4])"
      ]
     },
     "execution_count": 10,
     "metadata": {},
     "output_type": "execute_result"
    }
   ],
   "source": [
    "tsp(coordinates)"
   ]
  },
  {
   "cell_type": "markdown",
   "metadata": {},
   "source": [
    "* 以下参考：https://www.cnblogs.com/youmuchen/p/6879579.html"
   ]
  },
  {
   "cell_type": "code",
   "execution_count": 12,
   "metadata": {
    "ExecuteTime": {
     "end_time": "2019-07-16T00:25:13.711592Z",
     "start_time": "2019-07-16T00:25:13.696672Z"
    }
   },
   "outputs": [],
   "source": [
    "def tsp(coordinates: List[Tuple[int, int]]) -> np.float64:\n",
    "    tsp.solutions = {}\n",
    "    length = len(coordinates)\n",
    "    dp = [[float('inf')] * 2**(length-1) for _ in range(length)]\n",
    "    # 计算所有城市两两之间的距离\n",
    "    all_distances = {frozenset([i, j]): get_distance(coordinates[i], coordinates[j]) for i in range(length) for j in range(i+1, length)}\n",
    "    for i in range(length):\n",
    "        if i == 0: continue\n",
    "        dp[i][0] = all_distances[frozenset([i, 0])]\n",
    "    for j in range(1, len(dp[0])):\n",
    "        for i in range(length):\n",
    "            if i != 0 and (j >> (i - 1)) & 1 == 1: # 出发的城市在要经过的城市里，不合常理\n",
    "                continue\n",
    "            tsp.solutions[(i, j)] = (None, None)\n",
    "            for k in range(1, length):\n",
    "                if (j >> (k - 1)) & 1 == 0: continue # 不经过该城市则查看下一个城市\n",
    "                tmp_dist = all_distances[frozenset([i, k])] + dp[k][j ^ (1 << (k - 1))]\n",
    "                if dp[i][j] > tmp_dist:\n",
    "                    dp[i][j] = tmp_dist\n",
    "                    tsp.solutions[(i, j)] = (k, j ^ (1 << (k - 1)))\n",
    "    return dp[0][-1]"
   ]
  },
  {
   "cell_type": "code",
   "execution_count": 52,
   "metadata": {
    "ExecuteTime": {
     "end_time": "2019-07-16T02:05:49.794128Z",
     "start_time": "2019-07-16T02:04:56.069248Z"
    }
   },
   "outputs": [
    {
     "data": {
      "text/plain": [
       "752.6077133910767"
      ]
     },
     "execution_count": 52,
     "metadata": {},
     "output_type": "execute_result"
    }
   ],
   "source": [
    "tsp(coordinates)"
   ]
  },
  {
   "cell_type": "code",
   "execution_count": 53,
   "metadata": {
    "ExecuteTime": {
     "end_time": "2019-07-16T02:06:07.931899Z",
     "start_time": "2019-07-16T02:06:07.924918Z"
    }
   },
   "outputs": [],
   "source": [
    "def parse_solutions(length: int, solutions: dict) -> str:\n",
    "    route = ['0']\n",
    "    def helper(row: int, col: int) -> None:\n",
    "        i, j = solutions[(row, col)]\n",
    "        route.append(str(i))\n",
    "        if j == 0: return\n",
    "        helper(i, j)\n",
    "    helper(0, 2**(length-1)-1)\n",
    "    route.append('0')\n",
    "    return route\n",
    "\n",
    "def pretty_print(route: List[str]) -> str:\n",
    "    print('->'.join(route))"
   ]
  },
  {
   "cell_type": "code",
   "execution_count": 54,
   "metadata": {
    "ExecuteTime": {
     "end_time": "2019-07-16T02:06:08.677119Z",
     "start_time": "2019-07-16T02:06:08.672132Z"
    }
   },
   "outputs": [],
   "source": [
    "route = parse_solutions(len(coordinates), tsp.solutions)"
   ]
  },
  {
   "cell_type": "code",
   "execution_count": 55,
   "metadata": {
    "ExecuteTime": {
     "end_time": "2019-07-16T02:06:10.868525Z",
     "start_time": "2019-07-16T02:06:10.863538Z"
    }
   },
   "outputs": [
    {
     "name": "stdout",
     "output_type": "stream",
     "text": [
      "0->5->1->13->3->9->18->6->2->16->11->19->8->15->10->14->17->7->4->12->0\n"
     ]
    }
   ],
   "source": [
    "pretty_print(route)"
   ]
  },
  {
   "cell_type": "code",
   "execution_count": 30,
   "metadata": {
    "ExecuteTime": {
     "end_time": "2019-07-16T00:57:15.520338Z",
     "start_time": "2019-07-16T00:57:15.327878Z"
    }
   },
   "outputs": [
    {
     "data": {
      "image/png": "[encoded data removed]",
      "text/plain": [
       "<Figure size 432x288 with 1 Axes>"
      ]
     },
     "metadata": {
      "needs_background": "light"
     },
     "output_type": "display_data"
    }
   ],
   "source": [
    "fig, ax = plt.subplots()\n",
    "ax.scatter(longitudes, latitudes)\n",
    "k1, k2, k3 = coordinates[18], coordinates[13], coordinates[14]\n",
    "ax.scatter(k1[0], k1[1], color='r')\n",
    "ax.scatter(k2[0], k2[1], color='r')\n",
    "ax.scatter(k3[0], k3[1], color='r')\n",
    "for i in range(n):\n",
    "    ax.annotate(i, (longitudes[i], latitudes[i]))"
   ]
  },
  {
   "cell_type": "code",
   "execution_count": 43,
   "metadata": {
    "ExecuteTime": {
     "end_time": "2019-07-16T01:56:28.452344Z",
     "start_time": "2019-07-16T01:56:28.443368Z"
    }
   },
   "outputs": [],
   "source": [
    "def mul_start_tsp(coordinates: List[Tuple[int, int]], k1: int, k2: int, k3: int):\n",
    "    # p1, p2, p3 = coordinates[k1], coordinates[k2], coordinates[k3]\n",
    "    length = len(coordinates)\n",
    "    all_distances = {frozenset([i, j]): get_distance(coordinates[i], coordinates[j]) for i in range(length) for j in range(i+1, length)}\n",
    "    c = [[k1], [k2], [k3]]\n",
    "    # clustering\n",
    "    for i in range(length):\n",
    "        if i in [k1, k2, k3]: continue\n",
    "        dist = np.array([all_distances[frozenset([i, k1])], all_distances[frozenset([i, k2])], all_distances[frozenset([i, k3])]])\n",
    "        c[dist.argmin()].append(i)\n",
    "    solutions = []\n",
    "    for cluster in c:\n",
    "        distance = tsp([coordinates[i] for i in cluster])\n",
    "        solutions.append((distance, tsp.solutions))\n",
    "    return c, solutions"
   ]
  },
  {
   "cell_type": "code",
   "execution_count": 44,
   "metadata": {
    "ExecuteTime": {
     "end_time": "2019-07-16T01:56:30.025033Z",
     "start_time": "2019-07-16T01:56:30.012031Z"
    }
   },
   "outputs": [],
   "source": [
    "c, solutions = mul_start_tsp(coordinates, 18, 13, 14)"
   ]
  },
  {
   "cell_type": "code",
   "execution_count": 45,
   "metadata": {
    "ExecuteTime": {
     "end_time": "2019-07-16T01:56:30.571148Z",
     "start_time": "2019-07-16T01:56:30.565197Z"
    }
   },
   "outputs": [
    {
     "data": {
      "text/plain": [
       "[[18, 2, 6, 8, 9, 16], [13, 0, 1, 3, 4, 5, 12], [14, 7, 10, 11, 15, 17, 19]]"
      ]
     },
     "execution_count": 45,
     "metadata": {},
     "output_type": "execute_result"
    }
   ],
   "source": [
    "c"
   ]
  },
  {
   "cell_type": "code",
   "execution_count": 64,
   "metadata": {
    "ExecuteTime": {
     "end_time": "2019-07-16T02:21:40.903739Z",
     "start_time": "2019-07-16T02:21:40.894763Z"
    }
   },
   "outputs": [],
   "source": [
    "def parse_mul_solutions(c: List[List[int]], solutions: List[dict]):\n",
    "    routes = []\n",
    "    for i, (_, s) in enumerate(solutions):\n",
    "        idx_map = {str(j): str(val) for j, val in enumerate(c[i])} # 将聚类后的索引映射回原索引\n",
    "        tmp = parse_solutions(len(c[i]), s)\n",
    "        routes.append([idx_map[k] for k in tmp])\n",
    "    return routes"
   ]
  },
  {
   "cell_type": "code",
   "execution_count": 61,
   "metadata": {
    "ExecuteTime": {
     "end_time": "2019-07-16T02:16:44.185632Z",
     "start_time": "2019-07-16T02:16:44.180649Z"
    }
   },
   "outputs": [],
   "source": [
    "routes = parse_mul_solutions(c, solutions)"
   ]
  },
  {
   "cell_type": "code",
   "execution_count": 63,
   "metadata": {
    "ExecuteTime": {
     "end_time": "2019-07-16T02:17:12.575190Z",
     "start_time": "2019-07-16T02:17:12.570165Z"
    }
   },
   "outputs": [
    {
     "name": "stdout",
     "output_type": "stream",
     "text": [
      "18->8->16->2->6->9->18\n",
      "13->12->4->0->5->1->3->13\n",
      "14->10->15->7->17->19->11->14\n"
     ]
    }
   ],
   "source": [
    "for r in routes:\n",
    "    pretty_print(r)"
   ]
  },
  {
   "cell_type": "markdown",
   "metadata": {},
   "source": [
    "* 通过以上聚类得到的结果并非最优解，所有点到起点的距离最近不能保证将这所有点连接起来的长度最小"
   ]
  },
  {
   "cell_type": "code",
   "execution_count": null,
   "metadata": {},
   "outputs": [],
   "source": []
  }
 ],
 "metadata": {
  "kernelspec": {
   "display_name": "Python 3",
   "language": "python",
   "name": "python3"
  },
  "language_info": {
   "codemirror_mode": {
    "name": "ipython",
    "version": 3
   },
   "file_extension": ".py",
   "mimetype": "text/x-python",
   "name": "python",
   "nbconvert_exporter": "python",
   "pygments_lexer": "ipython3",
   "version": "3.6.6"
  },
  "toc": {
   "base_numbering": 1,
   "nav_menu": {},
   "number_sections": true,
   "sideBar": true,
   "skip_h1_title": false,
   "title_cell": "Table of Contents",
   "title_sidebar": "Contents",
   "toc_cell": false,
   "toc_position": {},
   "toc_section_display": true,
   "toc_window_display": false
  },
  "varInspector": {
   "cols": {
    "lenName": 16,
    "lenType": 16,
    "lenVar": 40
   },
   "kernels_config": {
    "python": {
     "delete_cmd_postfix": "",
     "delete_cmd_prefix": "del ",
     "library": "var_list.py",
     "varRefreshCmd": "print(var_dic_list())"
    },
    "r": {
     "delete_cmd_postfix": ") ",
     "delete_cmd_prefix": "rm(",
     "library": "var_list.r",
     "varRefreshCmd": "cat(var_dic_list()) "
    }
   },
   "types_to_exclude": [
    "module",
    "function",
    "builtin_function_or_method",
    "instance",
    "_Feature"
   ],
   "window_display": false
  }
 },
 "nbformat": 4,
 "nbformat_minor": 2
}
