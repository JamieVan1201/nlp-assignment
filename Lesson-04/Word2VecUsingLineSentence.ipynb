{
 "cells": [
  {
   "cell_type": "code",
   "execution_count": 1,
   "metadata": {
    "collapsed": false
   },
   "outputs": [
    {
     "name": "stdout",
     "output_type": "stream",
     "text": [
      "data10388\r\n"
     ]
    }
   ],
   "source": [
    "# 查看当前挂载的数据集目录\n",
    "!ls /home/aistudio/data/"
   ]
  },
  {
   "cell_type": "code",
   "execution_count": 2,
   "metadata": {
    "collapsed": false
   },
   "outputs": [],
   "source": [
    "# 查看个人持久化工作区文件\n",
    "!ls /home/aistudio/work/"
   ]
  },
  {
   "cell_type": "code",
   "execution_count": 19,
   "metadata": {
    "collapsed": false
   },
   "outputs": [],
   "source": [
    "! pip install jieba"
   ]
  },
  {
   "cell_type": "code",
   "execution_count": 5,
   "metadata": {
    "collapsed": false
   },
   "outputs": [],
   "source": [
    "import zipfile"
   ]
  },
  {
   "cell_type": "code",
   "execution_count": 11,
   "metadata": {
    "collapsed": false
   },
   "outputs": [],
   "source": [
    "zf = zipfile.ZipFile('data/data10388/simplified_zhwiki.zip')\n",
    "zf.extractall('/home/aistudio/data/data10388')"
   ]
  },
  {
   "cell_type": "code",
   "execution_count": 32,
   "metadata": {
    "collapsed": false
   },
   "outputs": [],
   "source": [
    "from pathlib import Path  \n",
    "from tqdm import tqdm\n",
    "import jieba"
   ]
  },
  {
   "cell_type": "code",
   "execution_count": 23,
   "metadata": {
    "collapsed": false
   },
   "outputs": [
    {
     "data": {
      "text/plain": [
       "True"
      ]
     },
     "execution_count": 23,
     "metadata": {},
     "output_type": "execute_result"
    }
   ],
   "source": [
    "zhwiki = Path('data/data10388/simplified_zhwiki')\n",
    "zhwiki.exists()"
   ]
  },
  {
   "cell_type": "code",
   "execution_count": 35,
   "metadata": {
    "collapsed": false
   },
   "outputs": [],
   "source": [
    "def gen_corpus(path):\n",
    "    with open('/home/aistudio/data/data10388/corpus.txt', 'w', encoding='utf8') as corpus:\n",
    "        for wiki in tqdm(path.iterdir()):\n",
    "            with wiki.open(encoding='utf8') as f:\n",
    "                for line in f.readlines():\n",
    "                    line = line.strip()\n",
    "                    if line == '' or line.startswith('<doc') or line.startswith('</doc'): continue\n",
    "                    words = [word for word in jieba.cut(line)]\n",
    "                    if len(words) > 1:\n",
    "                        corpus.write(' '.join(words)+'\\n')\n",
    "            "
   ]
  },
  {
   "cell_type": "code",
   "execution_count": 36,
   "metadata": {
    "collapsed": false
   },
   "outputs": [
    {
     "name": "stderr",
     "output_type": "stream",
     "text": [
      "\n",
      "0it [00:00, ?it/s]\u001b[A\n",
      "1it [03:16, 196.05s/it]\u001b[A\n",
      "2it [06:27, 194.57s/it]\u001b[A\n",
      "3it [09:39, 193.75s/it]\u001b[A\n",
      "4it [12:44, 191.20s/it]\u001b[A\n",
      "5it [15:44, 187.82s/it]\u001b[A\n",
      "6it [18:33, 182.24s/it]\u001b[A\n",
      "7it [21:39, 183.25s/it]\u001b[A\n",
      "8it [24:51, 186.14s/it]\u001b[A\n",
      "9it [28:03, 187.79s/it]\u001b[A\n",
      "10it [31:26, 192.33s/it]\u001b[A\n",
      "11it [34:36, 191.69s/it]\u001b[A\n",
      "12it [37:25, 184.94s/it]\u001b[A\n",
      "13it [40:43, 188.88s/it]\u001b[A"
     ]
    }
   ],
   "source": [
    "gen_corpus(zhwiki)"
   ]
  },
  {
   "cell_type": "code",
   "execution_count": 37,
   "metadata": {
    "collapsed": false
   },
   "outputs": [],
   "source": [
    "from gensim.models import word2vec"
   ]
  },
  {
   "cell_type": "code",
   "execution_count": 38,
   "metadata": {
    "collapsed": false
   },
   "outputs": [],
   "source": [
    "sentences = word2vec.LineSentence('data/data10388/corpus.txt')"
   ]
  },
  {
   "cell_type": "code",
   "execution_count": 42,
   "metadata": {
    "collapsed": false
   },
   "outputs": [],
   "source": [
    "model = word2vec.Word2Vec(sentences=sentences, size=100, window=5, min_count=3, workers=4)"
   ]
  },
  {
   "cell_type": "code",
   "execution_count": 43,
   "metadata": {
    "collapsed": false
   },
   "outputs": [
    {
     "data": {
      "text/plain": [
       "0.6884519"
      ]
     },
     "execution_count": 43,
     "metadata": {},
     "output_type": "execute_result"
    }
   ],
   "source": [
    "model.wv.similarity('美丽', '漂亮')"
   ]
  },
  {
   "cell_type": "code",
   "execution_count": 44,
   "metadata": {
    "collapsed": false
   },
   "outputs": [
    {
     "data": {
      "text/plain": [
       "0.6921254"
      ]
     },
     "execution_count": 44,
     "metadata": {},
     "output_type": "execute_result"
    }
   ],
   "source": [
    "model.wv.similarity('美丽', '丑陋')"
   ]
  },
  {
   "cell_type": "code",
   "execution_count": 45,
   "metadata": {
    "collapsed": false
   },
   "outputs": [
    {
     "data": {
      "text/plain": [
       "0.017639266"
      ]
     },
     "execution_count": 45,
     "metadata": {},
     "output_type": "execute_result"
    }
   ],
   "source": [
    "model.wv.similarity('美丽', '大小')"
   ]
  },
  {
   "cell_type": "code",
   "execution_count": 65,
   "metadata": {
    "collapsed": false
   },
   "outputs": [
    {
     "data": {
      "text/plain": [
       "[('杨孟瑛', 0.5324105620384216),\n",
       " ('塘组', 0.5261030197143555),\n",
       " ('行标', 0.5196337699890137),\n",
       " ('上海教育电视台', 0.5183369517326355),\n",
       " ('锡沪路', 0.5090908408164978),\n",
       " ('随炸', 0.5048825740814209),\n",
       " ('纵移', 0.5018833875656128),\n",
       " ('新仑路', 0.5000385046005249),\n",
       " ('叶俊岑', 0.49630698561668396),\n",
       " ('刘国璋', 0.4953550696372986)]"
      ]
     },
     "execution_count": 65,
     "metadata": {},
     "output_type": "execute_result"
    }
   ],
   "source": [
    "model.wv.most_similar('行风')"
   ]
  },
  {
   "cell_type": "code",
   "execution_count": null,
   "metadata": {
    "collapsed": false
   },
   "outputs": [],
   "source": []
  }
 ],
 "metadata": {
  "kernelspec": {
   "display_name": "PaddlePaddle 1.5.0 (Python 3.5)",
   "language": "python",
   "name": "py35-paddle1.2.0"
  },
  "language_info": {
   "codemirror_mode": {
    "name": "ipython",
    "version": 3
   },
   "file_extension": ".py",
   "mimetype": "text/x-python",
   "name": "python",
   "nbconvert_exporter": "python",
   "pygments_lexer": "ipython3",
   "version": "3.5.5"
  }
 },
 "nbformat": 4,
 "nbformat_minor": 1
}
