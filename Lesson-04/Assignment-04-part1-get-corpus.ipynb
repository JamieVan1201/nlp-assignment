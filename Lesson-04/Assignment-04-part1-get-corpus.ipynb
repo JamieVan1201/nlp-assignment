{
 "cells": [
  {
   "cell_type": "markdown",
   "metadata": {},
   "source": [
    "* 参考：https://mlexplained.com/2018/09/14/paper-dissected-visualizing-data-using-t-sne-explained/"
   ]
  },
  {
   "cell_type": "code",
   "execution_count": 71,
   "metadata": {
    "ExecuteTime": {
     "end_time": "2019-07-29T07:51:14.985286Z",
     "start_time": "2019-07-29T07:51:14.866840Z"
    }
   },
   "outputs": [],
   "source": [
    "import numpy as np\n",
    "import matplotlib.pyplot as plt\n",
    "import jieba\n",
    "from gensim.test.utils import common_texts, get_tmpfile\n",
    "from gensim.models import Word2Vec\n",
    "from tqdm import tqdm\n",
    "from pathlib import Path\n",
    "from opencc import OpenCC\n",
    "import os\n",
    "import re\n",
    "import pickle\n",
    "%matplotlib notebook"
   ]
  },
  {
   "cell_type": "code",
   "execution_count": 2,
   "metadata": {
    "ExecuteTime": {
     "end_time": "2019-07-29T05:33:52.710201Z",
     "start_time": "2019-07-29T05:33:52.705175Z"
    }
   },
   "outputs": [
    {
     "data": {
      "text/plain": [
       "WindowsPath('C:/Users/xxx/Desktop/NLP/data/zhwiki')"
      ]
     },
     "execution_count": 2,
     "metadata": {},
     "output_type": "execute_result"
    }
   ],
   "source": [
    "zhwiki = Path('C:/Users/xxx/Desktop/NLP/data/zhwiki/')\n",
    "zhwiki"
   ]
  },
  {
   "cell_type": "markdown",
   "metadata": {},
   "source": [
    "* 繁体转简体"
   ]
  },
  {
   "cell_type": "code",
   "execution_count": 3,
   "metadata": {
    "ExecuteTime": {
     "end_time": "2019-07-29T05:33:52.753458Z",
     "start_time": "2019-07-29T05:33:52.747470Z"
    }
   },
   "outputs": [],
   "source": [
    "def trad2sim(input_dir, output_dir):\n",
    "    output_dir = input_dir.parent / output_dir\n",
    "    if not output_dir.exists(): output_dir.mkdir(parents=True, exist_ok=True)\n",
    "    for wiki in tqdm(input_dir.iterdir()):\n",
    "        os.system('python -m opencc -c t2s -i {wiki} -o {output}'.format(\n",
    "            wiki=str(wiki), output=str(output_dir/('simplified_'+wiki.name))\n",
    "        ))"
   ]
  },
  {
   "cell_type": "code",
   "execution_count": 72,
   "metadata": {
    "ExecuteTime": {
     "end_time": "2019-07-29T05:22:39.499308Z",
     "start_time": "2019-07-29T04:53:00.836032Z"
    }
   },
   "outputs": [
    {
     "name": "stderr",
     "output_type": "stream",
     "text": [
      "\n",
      "0it [00:00, ?it/s]\n",
      "1it [02:14, 134.70s/it]\n",
      "2it [04:32, 135.48s/it]\n",
      "3it [06:41, 133.61s/it]\n",
      "4it [08:59, 135.09s/it]\n",
      "5it [11:30, 139.84s/it]\n",
      "6it [13:42, 137.40s/it]\n",
      "7it [15:55, 136.08s/it]\n",
      "8it [18:12, 136.31s/it]\n",
      "9it [20:25, 135.29s/it]\n",
      "10it [22:49, 137.91s/it]\n",
      "11it [25:07, 137.96s/it]\n",
      "12it [27:26, 138.20s/it]\n",
      "13it [29:38, 136.52s/it]"
     ]
    }
   ],
   "source": [
    "trad2sim(zhwiki, 'simplified_zhwiki')"
   ]
  },
  {
   "cell_type": "code",
   "execution_count": 52,
   "metadata": {
    "ExecuteTime": {
     "end_time": "2019-07-29T06:42:00.869584Z",
     "start_time": "2019-07-29T06:42:00.864564Z"
    }
   },
   "outputs": [],
   "source": [
    "# 加载停用词\n",
    "stop_words_file = zhwiki.parent / 'chinese_stop_words.txt'\n",
    "stop_words_set = set()\n",
    "with stop_words_file.open(encoding='utf8') as f:\n",
    "    for word in f.readlines():\n",
    "        stop_words_set.add(word.strip('\\n'))"
   ]
  },
  {
   "cell_type": "code",
   "execution_count": 53,
   "metadata": {
    "ExecuteTime": {
     "end_time": "2019-07-29T06:42:02.003975Z",
     "start_time": "2019-07-29T06:42:01.999951Z"
    }
   },
   "outputs": [
    {
     "data": {
      "text/plain": [
       "746"
      ]
     },
     "execution_count": 53,
     "metadata": {},
     "output_type": "execute_result"
    }
   ],
   "source": [
    "len(stop_words_set)"
   ]
  },
  {
   "cell_type": "markdown",
   "metadata": {},
   "source": [
    "* 分词"
   ]
  },
  {
   "cell_type": "code",
   "execution_count": 14,
   "metadata": {
    "ExecuteTime": {
     "end_time": "2019-07-29T05:43:08.593885Z",
     "start_time": "2019-07-29T05:43:08.582946Z"
    }
   },
   "outputs": [
    {
     "data": {
      "text/plain": [
       "True"
      ]
     },
     "execution_count": 14,
     "metadata": {},
     "output_type": "execute_result"
    }
   ],
   "source": [
    "simplified_zhwiki = zhwiki.parent / 'simplified_zhwiki'\n",
    "simplified_zhwiki.exists()"
   ]
  },
  {
   "cell_type": "code",
   "execution_count": 68,
   "metadata": {
    "ExecuteTime": {
     "end_time": "2019-07-29T06:49:39.723215Z",
     "start_time": "2019-07-29T06:49:39.714243Z"
    }
   },
   "outputs": [],
   "source": [
    "def generate_texts(simplified_zhwiki):\n",
    "    texts = []\n",
    "    for wiki in tqdm(simplified_zhwiki.iterdir()):\n",
    "        with wiki.open(encoding='utf8') as f:\n",
    "            for line in f.readlines():\n",
    "                line = line.strip()\n",
    "                if line == '' or line.startswith('<doc') or line.startswith('</doc'): continue\n",
    "                words = []\n",
    "                for word in jieba.cut(line):\n",
    "                    if word in stop_words_set: continue\n",
    "                    words.append(word)\n",
    "                if len(words) > 1: texts.append(words.copy())\n",
    "    return texts"
   ]
  },
  {
   "cell_type": "code",
   "execution_count": 69,
   "metadata": {
    "ExecuteTime": {
     "end_time": "2019-07-29T07:33:32.209670Z",
     "start_time": "2019-07-29T06:49:40.320497Z"
    }
   },
   "outputs": [
    {
     "name": "stderr",
     "output_type": "stream",
     "text": [
      "\n",
      "0it [00:00, ?it/s]\n",
      "1it [02:45, 165.79s/it]\n",
      "2it [05:35, 166.82s/it]\n",
      "3it [08:35, 170.77s/it]\n",
      "4it [11:47, 177.23s/it]\n",
      "5it [15:13, 185.83s/it]\n",
      "6it [17:58, 179.74s/it]\n",
      "7it [21:43, 193.38s/it]\n",
      "8it [25:44, 207.53s/it]\n",
      "9it [30:29, 230.77s/it]\n",
      "10it [33:10, 209.96s/it]\n",
      "11it [35:53, 195.76s/it]\n",
      "12it [41:24, 236.27s/it]\n",
      "13it [43:51, 209.65s/it]"
     ]
    }
   ],
   "source": [
    "texts = generate_texts(simplified_zhwiki)"
   ]
  },
  {
   "cell_type": "code",
   "execution_count": 72,
   "metadata": {
    "ExecuteTime": {
     "end_time": "2019-07-29T08:26:32.436335Z",
     "start_time": "2019-07-29T07:59:34.432128Z"
    }
   },
   "outputs": [],
   "source": [
    "with open('corpus.pickle', 'wb') as f:\n",
    "    pickle.dump(texts, f)"
   ]
  },
  {
   "cell_type": "code",
   "execution_count": null,
   "metadata": {
    "ExecuteTime": {
     "start_time": "2019-07-29T08:27:01.309Z"
    }
   },
   "outputs": [],
   "source": [
    "print(3)"
   ]
  },
  {
   "cell_type": "code",
   "execution_count": null,
   "metadata": {},
   "outputs": [],
   "source": []
  }
 ],
 "metadata": {
  "kernelspec": {
   "display_name": "Python 3",
   "language": "python",
   "name": "python3"
  },
  "language_info": {
   "codemirror_mode": {
    "name": "ipython",
    "version": 3
   },
   "file_extension": ".py",
   "mimetype": "text/x-python",
   "name": "python",
   "nbconvert_exporter": "python",
   "pygments_lexer": "ipython3",
   "version": "3.6.6"
  },
  "toc": {
   "base_numbering": 1,
   "nav_menu": {},
   "number_sections": true,
   "sideBar": true,
   "skip_h1_title": false,
   "title_cell": "Table of Contents",
   "title_sidebar": "Contents",
   "toc_cell": false,
   "toc_position": {},
   "toc_section_display": true,
   "toc_window_display": false
  },
  "varInspector": {
   "cols": {
    "lenName": 16,
    "lenType": 16,
    "lenVar": 40
   },
   "kernels_config": {
    "python": {
     "delete_cmd_postfix": "",
     "delete_cmd_prefix": "del ",
     "library": "var_list.py",
     "varRefreshCmd": "print(var_dic_list())"
    },
    "r": {
     "delete_cmd_postfix": ") ",
     "delete_cmd_prefix": "rm(",
     "library": "var_list.r",
     "varRefreshCmd": "cat(var_dic_list()) "
    }
   },
   "types_to_exclude": [
    "module",
    "function",
    "builtin_function_or_method",
    "instance",
    "_Feature"
   ],
   "window_display": false
  }
 },
 "nbformat": 4,
 "nbformat_minor": 2
}
